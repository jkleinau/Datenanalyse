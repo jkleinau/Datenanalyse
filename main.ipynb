{
 "cells": [
  {
   "cell_type": "markdown",
   "id": "15939262",
   "metadata": {},
   "source": [
    "# Datenanlyse zur Umfrage Persönliche Expertise\n",
    "\n",
    "---"
   ]
  },
  {
   "cell_type": "markdown",
   "id": "54dcfef1",
   "metadata": {},
   "source": [
    "## Import libraries"
   ]
  },
  {
   "cell_type": "code",
   "execution_count": 39,
   "id": "ffddcc9e",
   "metadata": {},
   "outputs": [],
   "source": [
    "import pandas as pd\n",
    "import matplotlib.pyplot as plt\n",
    "import numpy as np\n",
    "\n",
    "from scipy.stats import shapiro, levene\n",
    "import statsmodels.api as sm\n",
    "from statsmodels.formula.api import ols\n",
    "import seaborn as sns\n",
    "\n"
   ]
  },
  {
   "cell_type": "markdown",
   "id": "e89117d9",
   "metadata": {},
   "source": [
    "## Import data from csv"
   ]
  },
  {
   "cell_type": "code",
   "execution_count": 40,
   "id": "d1a6cceb",
   "metadata": {},
   "outputs": [],
   "source": [
    "filename = 'data/export_0907.csv'\n",
    "df = pd.read_csv(filename, sep=';')"
   ]
  },
  {
   "cell_type": "code",
   "execution_count": 41,
   "id": "1ca52648",
   "metadata": {},
   "outputs": [
    {
     "data": {
      "application/vnd.microsoft.datawrangler.viewer.v0+json": {
       "columns": [
        {
         "name": "index",
         "rawType": "int64",
         "type": "integer"
        },
        {
         "name": "lfdn",
         "rawType": "int64",
         "type": "integer"
        },
        {
         "name": "external_lfdn",
         "rawType": "int64",
         "type": "integer"
        },
        {
         "name": "tester",
         "rawType": "int64",
         "type": "integer"
        },
        {
         "name": "dispcode",
         "rawType": "int64",
         "type": "integer"
        },
        {
         "name": "lastpage",
         "rawType": "int64",
         "type": "integer"
        },
        {
         "name": "quality",
         "rawType": "int64",
         "type": "integer"
        },
        {
         "name": "duration",
         "rawType": "int64",
         "type": "integer"
        },
        {
         "name": "c_0001",
         "rawType": "int64",
         "type": "integer"
        },
        {
         "name": "c_0002",
         "rawType": "int64",
         "type": "integer"
        },
        {
         "name": "c_0003",
         "rawType": "int64",
         "type": "integer"
        },
        {
         "name": "c_0004",
         "rawType": "int64",
         "type": "integer"
        },
        {
         "name": "c_0005",
         "rawType": "int64",
         "type": "integer"
        },
        {
         "name": "c_0006",
         "rawType": "int64",
         "type": "integer"
        },
        {
         "name": "c_0007",
         "rawType": "int64",
         "type": "integer"
        },
        {
         "name": "c_0008",
         "rawType": "int64",
         "type": "integer"
        },
        {
         "name": "s_0001",
         "rawType": "int64",
         "type": "integer"
        },
        {
         "name": "v_216",
         "rawType": "int64",
         "type": "integer"
        },
        {
         "name": "v_218",
         "rawType": "int64",
         "type": "integer"
        },
        {
         "name": "v_219",
         "rawType": "int64",
         "type": "integer"
        },
        {
         "name": "v_220",
         "rawType": "int64",
         "type": "integer"
        },
        {
         "name": "v_221",
         "rawType": "int64",
         "type": "integer"
        },
        {
         "name": "v_222",
         "rawType": "int64",
         "type": "integer"
        },
        {
         "name": "v_223",
         "rawType": "int64",
         "type": "integer"
        },
        {
         "name": "v_224",
         "rawType": "int64",
         "type": "integer"
        },
        {
         "name": "v_225",
         "rawType": "int64",
         "type": "integer"
        },
        {
         "name": "v_226",
         "rawType": "int64",
         "type": "integer"
        },
        {
         "name": "v_227",
         "rawType": "object",
         "type": "string"
        },
        {
         "name": "v_228",
         "rawType": "int64",
         "type": "integer"
        },
        {
         "name": "v_206",
         "rawType": "int64",
         "type": "integer"
        },
        {
         "name": "v_207",
         "rawType": "int64",
         "type": "integer"
        },
        {
         "name": "v_208",
         "rawType": "int64",
         "type": "integer"
        },
        {
         "name": "v_209",
         "rawType": "int64",
         "type": "integer"
        },
        {
         "name": "v_210",
         "rawType": "int64",
         "type": "integer"
        },
        {
         "name": "v_211",
         "rawType": "int64",
         "type": "integer"
        },
        {
         "name": "v_212",
         "rawType": "int64",
         "type": "integer"
        },
        {
         "name": "v_213",
         "rawType": "int64",
         "type": "integer"
        },
        {
         "name": "v_214",
         "rawType": "int64",
         "type": "integer"
        },
        {
         "name": "v_215",
         "rawType": "int64",
         "type": "integer"
        },
        {
         "name": "v_8978",
         "rawType": "int64",
         "type": "integer"
        },
        {
         "name": "v_9154",
         "rawType": "int64",
         "type": "integer"
        },
        {
         "name": "v_9155",
         "rawType": "int64",
         "type": "integer"
        },
        {
         "name": "v_9156",
         "rawType": "int64",
         "type": "integer"
        },
        {
         "name": "v_9157",
         "rawType": "int64",
         "type": "integer"
        },
        {
         "name": "v_9158",
         "rawType": "int64",
         "type": "integer"
        },
        {
         "name": "v_9159",
         "rawType": "int64",
         "type": "integer"
        },
        {
         "name": "v_9160",
         "rawType": "int64",
         "type": "integer"
        },
        {
         "name": "v_9308",
         "rawType": "int64",
         "type": "integer"
        },
        {
         "name": "v_10902",
         "rawType": "int64",
         "type": "integer"
        },
        {
         "name": "v_10903",
         "rawType": "int64",
         "type": "integer"
        },
        {
         "name": "v_10904",
         "rawType": "int64",
         "type": "integer"
        },
        {
         "name": "v_10905",
         "rawType": "int64",
         "type": "integer"
        },
        {
         "name": "v_10906",
         "rawType": "int64",
         "type": "integer"
        },
        {
         "name": "v_10907",
         "rawType": "int64",
         "type": "integer"
        },
        {
         "name": "v_10908",
         "rawType": "int64",
         "type": "integer"
        },
        {
         "name": "v_10911",
         "rawType": "int64",
         "type": "integer"
        },
        {
         "name": "v_10912",
         "rawType": "int64",
         "type": "integer"
        },
        {
         "name": "v_10913",
         "rawType": "int64",
         "type": "integer"
        },
        {
         "name": "v_10914",
         "rawType": "int64",
         "type": "integer"
        },
        {
         "name": "v_10915",
         "rawType": "int64",
         "type": "integer"
        },
        {
         "name": "v_10916",
         "rawType": "int64",
         "type": "integer"
        },
        {
         "name": "v_10917",
         "rawType": "int64",
         "type": "integer"
        },
        {
         "name": "v_10920",
         "rawType": "int64",
         "type": "integer"
        },
        {
         "name": "v_10921",
         "rawType": "int64",
         "type": "integer"
        },
        {
         "name": "v_10922",
         "rawType": "int64",
         "type": "integer"
        },
        {
         "name": "v_10923",
         "rawType": "int64",
         "type": "integer"
        },
        {
         "name": "v_10924",
         "rawType": "int64",
         "type": "integer"
        },
        {
         "name": "v_10925",
         "rawType": "int64",
         "type": "integer"
        },
        {
         "name": "v_10926",
         "rawType": "int64",
         "type": "integer"
        },
        {
         "name": "v_10929",
         "rawType": "int64",
         "type": "integer"
        },
        {
         "name": "v_10930",
         "rawType": "int64",
         "type": "integer"
        },
        {
         "name": "v_10931",
         "rawType": "int64",
         "type": "integer"
        },
        {
         "name": "v_10932",
         "rawType": "int64",
         "type": "integer"
        },
        {
         "name": "v_10933",
         "rawType": "int64",
         "type": "integer"
        },
        {
         "name": "v_10934",
         "rawType": "int64",
         "type": "integer"
        },
        {
         "name": "v_10935",
         "rawType": "int64",
         "type": "integer"
        },
        {
         "name": "v_10938",
         "rawType": "int64",
         "type": "integer"
        },
        {
         "name": "v_10939",
         "rawType": "int64",
         "type": "integer"
        },
        {
         "name": "v_10940",
         "rawType": "int64",
         "type": "integer"
        },
        {
         "name": "v_10941",
         "rawType": "int64",
         "type": "integer"
        },
        {
         "name": "v_10942",
         "rawType": "int64",
         "type": "integer"
        },
        {
         "name": "v_10943",
         "rawType": "int64",
         "type": "integer"
        },
        {
         "name": "v_10944",
         "rawType": "int64",
         "type": "integer"
        },
        {
         "name": "v_10947",
         "rawType": "int64",
         "type": "integer"
        },
        {
         "name": "v_10948",
         "rawType": "int64",
         "type": "integer"
        },
        {
         "name": "v_10949",
         "rawType": "int64",
         "type": "integer"
        },
        {
         "name": "v_10950",
         "rawType": "int64",
         "type": "integer"
        },
        {
         "name": "v_10951",
         "rawType": "int64",
         "type": "integer"
        },
        {
         "name": "v_10952",
         "rawType": "int64",
         "type": "integer"
        },
        {
         "name": "v_10953",
         "rawType": "int64",
         "type": "integer"
        },
        {
         "name": "v_11376",
         "rawType": "int64",
         "type": "integer"
        },
        {
         "name": "v_10956",
         "rawType": "int64",
         "type": "integer"
        },
        {
         "name": "v_10957",
         "rawType": "int64",
         "type": "integer"
        },
        {
         "name": "v_10958",
         "rawType": "int64",
         "type": "integer"
        },
        {
         "name": "v_10959",
         "rawType": "int64",
         "type": "integer"
        },
        {
         "name": "v_10960",
         "rawType": "int64",
         "type": "integer"
        },
        {
         "name": "v_10961",
         "rawType": "int64",
         "type": "integer"
        },
        {
         "name": "v_11364",
         "rawType": "int64",
         "type": "integer"
        },
        {
         "name": "v_11365",
         "rawType": "int64",
         "type": "integer"
        },
        {
         "name": "v_11366",
         "rawType": "int64",
         "type": "integer"
        },
        {
         "name": "v_11367",
         "rawType": "int64",
         "type": "integer"
        },
        {
         "name": "v_11368",
         "rawType": "int64",
         "type": "integer"
        },
        {
         "name": "v_11369",
         "rawType": "int64",
         "type": "integer"
        },
        {
         "name": "v_10962",
         "rawType": "int64",
         "type": "integer"
        },
        {
         "name": "v_10963",
         "rawType": "int64",
         "type": "integer"
        },
        {
         "name": "v_10964",
         "rawType": "int64",
         "type": "integer"
        },
        {
         "name": "v_10965",
         "rawType": "int64",
         "type": "integer"
        },
        {
         "name": "v_11370",
         "rawType": "int64",
         "type": "integer"
        },
        {
         "name": "v_11371",
         "rawType": "int64",
         "type": "integer"
        },
        {
         "name": "v_11372",
         "rawType": "int64",
         "type": "integer"
        },
        {
         "name": "v_11186",
         "rawType": "int64",
         "type": "integer"
        },
        {
         "name": "v_11187",
         "rawType": "int64",
         "type": "integer"
        },
        {
         "name": "v_11188",
         "rawType": "int64",
         "type": "integer"
        },
        {
         "name": "v_10973",
         "rawType": "int64",
         "type": "integer"
        },
        {
         "name": "v_10974",
         "rawType": "int64",
         "type": "integer"
        },
        {
         "name": "v_10975",
         "rawType": "int64",
         "type": "integer"
        },
        {
         "name": "v_10976",
         "rawType": "int64",
         "type": "integer"
        },
        {
         "name": "v_10977",
         "rawType": "int64",
         "type": "integer"
        },
        {
         "name": "v_10978",
         "rawType": "int64",
         "type": "integer"
        },
        {
         "name": "v_10979",
         "rawType": "int64",
         "type": "integer"
        },
        {
         "name": "v_10982",
         "rawType": "int64",
         "type": "integer"
        },
        {
         "name": "v_10983",
         "rawType": "int64",
         "type": "integer"
        },
        {
         "name": "v_10984",
         "rawType": "int64",
         "type": "integer"
        },
        {
         "name": "v_10985",
         "rawType": "int64",
         "type": "integer"
        },
        {
         "name": "v_10986",
         "rawType": "int64",
         "type": "integer"
        },
        {
         "name": "v_10987",
         "rawType": "int64",
         "type": "integer"
        },
        {
         "name": "v_10988",
         "rawType": "int64",
         "type": "integer"
        },
        {
         "name": "v_10991",
         "rawType": "int64",
         "type": "integer"
        },
        {
         "name": "v_10992",
         "rawType": "int64",
         "type": "integer"
        },
        {
         "name": "v_10993",
         "rawType": "int64",
         "type": "integer"
        },
        {
         "name": "v_10994",
         "rawType": "int64",
         "type": "integer"
        },
        {
         "name": "v_10995",
         "rawType": "int64",
         "type": "integer"
        },
        {
         "name": "v_10996",
         "rawType": "int64",
         "type": "integer"
        },
        {
         "name": "v_10997",
         "rawType": "int64",
         "type": "integer"
        },
        {
         "name": "v_11000",
         "rawType": "int64",
         "type": "integer"
        },
        {
         "name": "v_11001",
         "rawType": "int64",
         "type": "integer"
        },
        {
         "name": "v_11002",
         "rawType": "int64",
         "type": "integer"
        },
        {
         "name": "v_11003",
         "rawType": "int64",
         "type": "integer"
        },
        {
         "name": "v_11004",
         "rawType": "int64",
         "type": "integer"
        },
        {
         "name": "v_11005",
         "rawType": "int64",
         "type": "integer"
        },
        {
         "name": "v_11006",
         "rawType": "int64",
         "type": "integer"
        },
        {
         "name": "v_11009",
         "rawType": "int64",
         "type": "integer"
        },
        {
         "name": "v_11010",
         "rawType": "int64",
         "type": "integer"
        },
        {
         "name": "v_11011",
         "rawType": "int64",
         "type": "integer"
        },
        {
         "name": "v_11012",
         "rawType": "int64",
         "type": "integer"
        },
        {
         "name": "v_11013",
         "rawType": "int64",
         "type": "integer"
        },
        {
         "name": "v_11014",
         "rawType": "int64",
         "type": "integer"
        },
        {
         "name": "v_11015",
         "rawType": "int64",
         "type": "integer"
        },
        {
         "name": "v_11018",
         "rawType": "int64",
         "type": "integer"
        },
        {
         "name": "v_11019",
         "rawType": "int64",
         "type": "integer"
        },
        {
         "name": "v_11020",
         "rawType": "int64",
         "type": "integer"
        },
        {
         "name": "v_11021",
         "rawType": "int64",
         "type": "integer"
        },
        {
         "name": "v_11022",
         "rawType": "int64",
         "type": "integer"
        },
        {
         "name": "v_11023",
         "rawType": "int64",
         "type": "integer"
        },
        {
         "name": "v_11024",
         "rawType": "int64",
         "type": "integer"
        },
        {
         "name": "v_11377",
         "rawType": "int64",
         "type": "integer"
        },
        {
         "name": "v_11027",
         "rawType": "int64",
         "type": "integer"
        },
        {
         "name": "v_11028",
         "rawType": "int64",
         "type": "integer"
        },
        {
         "name": "v_11029",
         "rawType": "int64",
         "type": "integer"
        },
        {
         "name": "v_11030",
         "rawType": "int64",
         "type": "integer"
        },
        {
         "name": "v_11031",
         "rawType": "int64",
         "type": "integer"
        },
        {
         "name": "v_11032",
         "rawType": "int64",
         "type": "integer"
        },
        {
         "name": "v_11378",
         "rawType": "int64",
         "type": "integer"
        },
        {
         "name": "v_11379",
         "rawType": "int64",
         "type": "integer"
        },
        {
         "name": "v_11380",
         "rawType": "int64",
         "type": "integer"
        },
        {
         "name": "v_11381",
         "rawType": "int64",
         "type": "integer"
        },
        {
         "name": "v_11382",
         "rawType": "int64",
         "type": "integer"
        },
        {
         "name": "v_11383",
         "rawType": "int64",
         "type": "integer"
        },
        {
         "name": "v_11033",
         "rawType": "int64",
         "type": "integer"
        },
        {
         "name": "v_11034",
         "rawType": "int64",
         "type": "integer"
        },
        {
         "name": "v_11035",
         "rawType": "int64",
         "type": "integer"
        },
        {
         "name": "v_11036",
         "rawType": "int64",
         "type": "integer"
        },
        {
         "name": "v_11037",
         "rawType": "int64",
         "type": "integer"
        },
        {
         "name": "v_11038",
         "rawType": "int64",
         "type": "integer"
        },
        {
         "name": "v_11039",
         "rawType": "int64",
         "type": "integer"
        },
        {
         "name": "v_11040",
         "rawType": "int64",
         "type": "integer"
        },
        {
         "name": "v_11041",
         "rawType": "int64",
         "type": "integer"
        },
        {
         "name": "v_11042",
         "rawType": "int64",
         "type": "integer"
        },
        {
         "name": "v_11044",
         "rawType": "int64",
         "type": "integer"
        },
        {
         "name": "v_11045",
         "rawType": "int64",
         "type": "integer"
        },
        {
         "name": "v_11046",
         "rawType": "int64",
         "type": "integer"
        },
        {
         "name": "v_11047",
         "rawType": "int64",
         "type": "integer"
        },
        {
         "name": "v_11048",
         "rawType": "int64",
         "type": "integer"
        },
        {
         "name": "v_11049",
         "rawType": "int64",
         "type": "integer"
        },
        {
         "name": "v_11050",
         "rawType": "int64",
         "type": "integer"
        },
        {
         "name": "v_11053",
         "rawType": "int64",
         "type": "integer"
        },
        {
         "name": "v_11054",
         "rawType": "int64",
         "type": "integer"
        },
        {
         "name": "v_11055",
         "rawType": "int64",
         "type": "integer"
        },
        {
         "name": "v_11056",
         "rawType": "int64",
         "type": "integer"
        },
        {
         "name": "v_11057",
         "rawType": "int64",
         "type": "integer"
        },
        {
         "name": "v_11058",
         "rawType": "int64",
         "type": "integer"
        },
        {
         "name": "v_11059",
         "rawType": "int64",
         "type": "integer"
        },
        {
         "name": "v_11062",
         "rawType": "int64",
         "type": "integer"
        },
        {
         "name": "v_11063",
         "rawType": "int64",
         "type": "integer"
        },
        {
         "name": "v_11064",
         "rawType": "int64",
         "type": "integer"
        },
        {
         "name": "v_11065",
         "rawType": "int64",
         "type": "integer"
        },
        {
         "name": "v_11066",
         "rawType": "int64",
         "type": "integer"
        },
        {
         "name": "v_11067",
         "rawType": "int64",
         "type": "integer"
        },
        {
         "name": "v_11068",
         "rawType": "int64",
         "type": "integer"
        },
        {
         "name": "v_11071",
         "rawType": "int64",
         "type": "integer"
        },
        {
         "name": "v_11072",
         "rawType": "int64",
         "type": "integer"
        },
        {
         "name": "v_11073",
         "rawType": "int64",
         "type": "integer"
        },
        {
         "name": "v_11074",
         "rawType": "int64",
         "type": "integer"
        },
        {
         "name": "v_11075",
         "rawType": "int64",
         "type": "integer"
        },
        {
         "name": "v_11076",
         "rawType": "int64",
         "type": "integer"
        },
        {
         "name": "v_11077",
         "rawType": "int64",
         "type": "integer"
        },
        {
         "name": "v_11080",
         "rawType": "int64",
         "type": "integer"
        },
        {
         "name": "v_11081",
         "rawType": "int64",
         "type": "integer"
        },
        {
         "name": "v_11082",
         "rawType": "int64",
         "type": "integer"
        },
        {
         "name": "v_11083",
         "rawType": "int64",
         "type": "integer"
        },
        {
         "name": "v_11084",
         "rawType": "int64",
         "type": "integer"
        },
        {
         "name": "v_11085",
         "rawType": "int64",
         "type": "integer"
        },
        {
         "name": "v_11086",
         "rawType": "int64",
         "type": "integer"
        },
        {
         "name": "v_11089",
         "rawType": "int64",
         "type": "integer"
        },
        {
         "name": "v_11090",
         "rawType": "int64",
         "type": "integer"
        },
        {
         "name": "v_11091",
         "rawType": "int64",
         "type": "integer"
        },
        {
         "name": "v_11092",
         "rawType": "int64",
         "type": "integer"
        },
        {
         "name": "v_11093",
         "rawType": "int64",
         "type": "integer"
        },
        {
         "name": "v_11094",
         "rawType": "int64",
         "type": "integer"
        },
        {
         "name": "v_11095",
         "rawType": "int64",
         "type": "integer"
        },
        {
         "name": "v_11408",
         "rawType": "int64",
         "type": "integer"
        },
        {
         "name": "v_11098",
         "rawType": "int64",
         "type": "integer"
        },
        {
         "name": "v_11099",
         "rawType": "int64",
         "type": "integer"
        },
        {
         "name": "v_11100",
         "rawType": "int64",
         "type": "integer"
        },
        {
         "name": "v_11101",
         "rawType": "int64",
         "type": "integer"
        },
        {
         "name": "v_11102",
         "rawType": "int64",
         "type": "integer"
        },
        {
         "name": "v_11103",
         "rawType": "int64",
         "type": "integer"
        },
        {
         "name": "v_11384",
         "rawType": "int64",
         "type": "integer"
        },
        {
         "name": "v_11385",
         "rawType": "int64",
         "type": "integer"
        },
        {
         "name": "v_11386",
         "rawType": "int64",
         "type": "integer"
        },
        {
         "name": "v_11387",
         "rawType": "int64",
         "type": "integer"
        },
        {
         "name": "v_11388",
         "rawType": "int64",
         "type": "integer"
        },
        {
         "name": "v_11389",
         "rawType": "int64",
         "type": "integer"
        },
        {
         "name": "v_11104",
         "rawType": "int64",
         "type": "integer"
        },
        {
         "name": "v_11105",
         "rawType": "int64",
         "type": "integer"
        },
        {
         "name": "v_11106",
         "rawType": "int64",
         "type": "integer"
        },
        {
         "name": "v_11107",
         "rawType": "int64",
         "type": "integer"
        },
        {
         "name": "v_11108",
         "rawType": "int64",
         "type": "integer"
        },
        {
         "name": "v_11109",
         "rawType": "int64",
         "type": "integer"
        },
        {
         "name": "v_11110",
         "rawType": "int64",
         "type": "integer"
        },
        {
         "name": "v_11111",
         "rawType": "int64",
         "type": "integer"
        },
        {
         "name": "v_11112",
         "rawType": "int64",
         "type": "integer"
        },
        {
         "name": "v_11113",
         "rawType": "int64",
         "type": "integer"
        },
        {
         "name": "v_11192",
         "rawType": "int64",
         "type": "integer"
        },
        {
         "name": "v_11193",
         "rawType": "int64",
         "type": "integer"
        },
        {
         "name": "v_11194",
         "rawType": "int64",
         "type": "integer"
        },
        {
         "name": "v_11195",
         "rawType": "int64",
         "type": "integer"
        },
        {
         "name": "v_11196",
         "rawType": "int64",
         "type": "integer"
        },
        {
         "name": "v_11197",
         "rawType": "int64",
         "type": "integer"
        },
        {
         "name": "v_11198",
         "rawType": "int64",
         "type": "integer"
        },
        {
         "name": "v_11199",
         "rawType": "int64",
         "type": "integer"
        },
        {
         "name": "v_11200",
         "rawType": "int64",
         "type": "integer"
        },
        {
         "name": "v_11201",
         "rawType": "int64",
         "type": "integer"
        },
        {
         "name": "v_11202",
         "rawType": "int64",
         "type": "integer"
        },
        {
         "name": "v_11203",
         "rawType": "int64",
         "type": "integer"
        },
        {
         "name": "v_11204",
         "rawType": "int64",
         "type": "integer"
        },
        {
         "name": "v_11205",
         "rawType": "int64",
         "type": "integer"
        },
        {
         "name": "v_11206",
         "rawType": "int64",
         "type": "integer"
        },
        {
         "name": "v_11207",
         "rawType": "int64",
         "type": "integer"
        },
        {
         "name": "v_11208",
         "rawType": "int64",
         "type": "integer"
        },
        {
         "name": "v_11209",
         "rawType": "int64",
         "type": "integer"
        },
        {
         "name": "v_11210",
         "rawType": "int64",
         "type": "integer"
        },
        {
         "name": "v_11211",
         "rawType": "int64",
         "type": "integer"
        },
        {
         "name": "v_11212",
         "rawType": "int64",
         "type": "integer"
        },
        {
         "name": "v_11213",
         "rawType": "int64",
         "type": "integer"
        },
        {
         "name": "v_11214",
         "rawType": "int64",
         "type": "integer"
        },
        {
         "name": "v_11215",
         "rawType": "int64",
         "type": "integer"
        },
        {
         "name": "v_11216",
         "rawType": "int64",
         "type": "integer"
        },
        {
         "name": "v_11217",
         "rawType": "int64",
         "type": "integer"
        },
        {
         "name": "v_11218",
         "rawType": "int64",
         "type": "integer"
        },
        {
         "name": "v_11219",
         "rawType": "int64",
         "type": "integer"
        },
        {
         "name": "v_11220",
         "rawType": "int64",
         "type": "integer"
        },
        {
         "name": "v_11221",
         "rawType": "int64",
         "type": "integer"
        },
        {
         "name": "v_11222",
         "rawType": "int64",
         "type": "integer"
        },
        {
         "name": "v_11223",
         "rawType": "int64",
         "type": "integer"
        },
        {
         "name": "v_11224",
         "rawType": "int64",
         "type": "integer"
        },
        {
         "name": "v_11225",
         "rawType": "int64",
         "type": "integer"
        },
        {
         "name": "v_11226",
         "rawType": "int64",
         "type": "integer"
        },
        {
         "name": "v_11227",
         "rawType": "int64",
         "type": "integer"
        },
        {
         "name": "v_11228",
         "rawType": "int64",
         "type": "integer"
        },
        {
         "name": "v_11229",
         "rawType": "int64",
         "type": "integer"
        },
        {
         "name": "v_11230",
         "rawType": "int64",
         "type": "integer"
        },
        {
         "name": "v_11231",
         "rawType": "int64",
         "type": "integer"
        },
        {
         "name": "v_11232",
         "rawType": "int64",
         "type": "integer"
        },
        {
         "name": "v_11233",
         "rawType": "int64",
         "type": "integer"
        },
        {
         "name": "v_11412",
         "rawType": "int64",
         "type": "integer"
        },
        {
         "name": "v_11234",
         "rawType": "int64",
         "type": "integer"
        },
        {
         "name": "v_11235",
         "rawType": "int64",
         "type": "integer"
        },
        {
         "name": "v_11236",
         "rawType": "int64",
         "type": "integer"
        },
        {
         "name": "v_11237",
         "rawType": "int64",
         "type": "integer"
        },
        {
         "name": "v_11238",
         "rawType": "int64",
         "type": "integer"
        },
        {
         "name": "v_11239",
         "rawType": "int64",
         "type": "integer"
        },
        {
         "name": "v_11390",
         "rawType": "int64",
         "type": "integer"
        },
        {
         "name": "v_11391",
         "rawType": "int64",
         "type": "integer"
        },
        {
         "name": "v_11392",
         "rawType": "int64",
         "type": "integer"
        },
        {
         "name": "v_11393",
         "rawType": "int64",
         "type": "integer"
        },
        {
         "name": "v_11394",
         "rawType": "int64",
         "type": "integer"
        },
        {
         "name": "v_11395",
         "rawType": "int64",
         "type": "integer"
        },
        {
         "name": "v_11240",
         "rawType": "int64",
         "type": "integer"
        },
        {
         "name": "v_11241",
         "rawType": "int64",
         "type": "integer"
        },
        {
         "name": "v_11242",
         "rawType": "int64",
         "type": "integer"
        },
        {
         "name": "v_11243",
         "rawType": "int64",
         "type": "integer"
        },
        {
         "name": "v_11373",
         "rawType": "int64",
         "type": "integer"
        },
        {
         "name": "v_11374",
         "rawType": "int64",
         "type": "integer"
        },
        {
         "name": "v_11375",
         "rawType": "int64",
         "type": "integer"
        },
        {
         "name": "v_11244",
         "rawType": "int64",
         "type": "integer"
        },
        {
         "name": "v_11245",
         "rawType": "int64",
         "type": "integer"
        },
        {
         "name": "v_11246",
         "rawType": "int64",
         "type": "integer"
        },
        {
         "name": "v_11248",
         "rawType": "int64",
         "type": "integer"
        },
        {
         "name": "v_11249",
         "rawType": "int64",
         "type": "integer"
        },
        {
         "name": "v_11250",
         "rawType": "int64",
         "type": "integer"
        },
        {
         "name": "v_11251",
         "rawType": "int64",
         "type": "integer"
        },
        {
         "name": "v_11252",
         "rawType": "int64",
         "type": "integer"
        },
        {
         "name": "v_11253",
         "rawType": "int64",
         "type": "integer"
        },
        {
         "name": "v_11254",
         "rawType": "int64",
         "type": "integer"
        },
        {
         "name": "v_11255",
         "rawType": "int64",
         "type": "integer"
        },
        {
         "name": "v_11256",
         "rawType": "int64",
         "type": "integer"
        },
        {
         "name": "v_11257",
         "rawType": "int64",
         "type": "integer"
        },
        {
         "name": "v_11258",
         "rawType": "int64",
         "type": "integer"
        },
        {
         "name": "v_11259",
         "rawType": "int64",
         "type": "integer"
        },
        {
         "name": "v_11260",
         "rawType": "int64",
         "type": "integer"
        },
        {
         "name": "v_11261",
         "rawType": "int64",
         "type": "integer"
        },
        {
         "name": "v_11262",
         "rawType": "int64",
         "type": "integer"
        },
        {
         "name": "v_11263",
         "rawType": "int64",
         "type": "integer"
        },
        {
         "name": "v_11264",
         "rawType": "int64",
         "type": "integer"
        },
        {
         "name": "v_11265",
         "rawType": "int64",
         "type": "integer"
        },
        {
         "name": "v_11266",
         "rawType": "int64",
         "type": "integer"
        },
        {
         "name": "v_11267",
         "rawType": "int64",
         "type": "integer"
        },
        {
         "name": "v_11268",
         "rawType": "int64",
         "type": "integer"
        },
        {
         "name": "v_11269",
         "rawType": "int64",
         "type": "integer"
        },
        {
         "name": "v_11270",
         "rawType": "int64",
         "type": "integer"
        },
        {
         "name": "v_11271",
         "rawType": "int64",
         "type": "integer"
        },
        {
         "name": "v_11272",
         "rawType": "int64",
         "type": "integer"
        },
        {
         "name": "v_11273",
         "rawType": "int64",
         "type": "integer"
        },
        {
         "name": "v_11274",
         "rawType": "int64",
         "type": "integer"
        },
        {
         "name": "v_11275",
         "rawType": "int64",
         "type": "integer"
        },
        {
         "name": "v_11276",
         "rawType": "int64",
         "type": "integer"
        },
        {
         "name": "v_11277",
         "rawType": "int64",
         "type": "integer"
        },
        {
         "name": "v_11278",
         "rawType": "int64",
         "type": "integer"
        },
        {
         "name": "v_11279",
         "rawType": "int64",
         "type": "integer"
        },
        {
         "name": "v_11280",
         "rawType": "int64",
         "type": "integer"
        },
        {
         "name": "v_11281",
         "rawType": "int64",
         "type": "integer"
        },
        {
         "name": "v_11282",
         "rawType": "int64",
         "type": "integer"
        },
        {
         "name": "v_11283",
         "rawType": "int64",
         "type": "integer"
        },
        {
         "name": "v_11284",
         "rawType": "int64",
         "type": "integer"
        },
        {
         "name": "v_11285",
         "rawType": "int64",
         "type": "integer"
        },
        {
         "name": "v_11286",
         "rawType": "int64",
         "type": "integer"
        },
        {
         "name": "v_11287",
         "rawType": "int64",
         "type": "integer"
        },
        {
         "name": "v_11288",
         "rawType": "int64",
         "type": "integer"
        },
        {
         "name": "v_11289",
         "rawType": "int64",
         "type": "integer"
        },
        {
         "name": "v_11411",
         "rawType": "int64",
         "type": "integer"
        },
        {
         "name": "v_11290",
         "rawType": "int64",
         "type": "integer"
        },
        {
         "name": "v_11291",
         "rawType": "int64",
         "type": "integer"
        },
        {
         "name": "v_11292",
         "rawType": "int64",
         "type": "integer"
        },
        {
         "name": "v_11293",
         "rawType": "int64",
         "type": "integer"
        },
        {
         "name": "v_11294",
         "rawType": "int64",
         "type": "integer"
        },
        {
         "name": "v_11295",
         "rawType": "int64",
         "type": "integer"
        },
        {
         "name": "v_11396",
         "rawType": "int64",
         "type": "integer"
        },
        {
         "name": "v_11397",
         "rawType": "int64",
         "type": "integer"
        },
        {
         "name": "v_11398",
         "rawType": "int64",
         "type": "integer"
        },
        {
         "name": "v_11399",
         "rawType": "int64",
         "type": "integer"
        },
        {
         "name": "v_11400",
         "rawType": "int64",
         "type": "integer"
        },
        {
         "name": "v_11401",
         "rawType": "int64",
         "type": "integer"
        },
        {
         "name": "v_11296",
         "rawType": "int64",
         "type": "integer"
        },
        {
         "name": "v_11297",
         "rawType": "int64",
         "type": "integer"
        },
        {
         "name": "v_11298",
         "rawType": "int64",
         "type": "integer"
        },
        {
         "name": "v_11299",
         "rawType": "int64",
         "type": "integer"
        },
        {
         "name": "v_11300",
         "rawType": "int64",
         "type": "integer"
        },
        {
         "name": "v_11301",
         "rawType": "int64",
         "type": "integer"
        },
        {
         "name": "v_11302",
         "rawType": "int64",
         "type": "integer"
        },
        {
         "name": "v_11303",
         "rawType": "int64",
         "type": "integer"
        },
        {
         "name": "v_11304",
         "rawType": "int64",
         "type": "integer"
        },
        {
         "name": "v_11305",
         "rawType": "int64",
         "type": "integer"
        },
        {
         "name": "v_11306",
         "rawType": "int64",
         "type": "integer"
        },
        {
         "name": "v_11307",
         "rawType": "int64",
         "type": "integer"
        },
        {
         "name": "v_11308",
         "rawType": "int64",
         "type": "integer"
        },
        {
         "name": "v_11309",
         "rawType": "int64",
         "type": "integer"
        },
        {
         "name": "v_11310",
         "rawType": "int64",
         "type": "integer"
        },
        {
         "name": "v_11311",
         "rawType": "int64",
         "type": "integer"
        },
        {
         "name": "v_11312",
         "rawType": "int64",
         "type": "integer"
        },
        {
         "name": "v_11313",
         "rawType": "int64",
         "type": "integer"
        },
        {
         "name": "v_11314",
         "rawType": "int64",
         "type": "integer"
        },
        {
         "name": "v_11315",
         "rawType": "int64",
         "type": "integer"
        },
        {
         "name": "v_11316",
         "rawType": "int64",
         "type": "integer"
        },
        {
         "name": "v_11317",
         "rawType": "int64",
         "type": "integer"
        },
        {
         "name": "v_11318",
         "rawType": "int64",
         "type": "integer"
        },
        {
         "name": "v_11319",
         "rawType": "int64",
         "type": "integer"
        },
        {
         "name": "v_11320",
         "rawType": "int64",
         "type": "integer"
        },
        {
         "name": "v_11321",
         "rawType": "int64",
         "type": "integer"
        },
        {
         "name": "v_11322",
         "rawType": "int64",
         "type": "integer"
        },
        {
         "name": "v_11323",
         "rawType": "int64",
         "type": "integer"
        },
        {
         "name": "v_11324",
         "rawType": "int64",
         "type": "integer"
        },
        {
         "name": "v_11325",
         "rawType": "int64",
         "type": "integer"
        },
        {
         "name": "v_11326",
         "rawType": "int64",
         "type": "integer"
        },
        {
         "name": "v_11327",
         "rawType": "int64",
         "type": "integer"
        },
        {
         "name": "v_11328",
         "rawType": "int64",
         "type": "integer"
        },
        {
         "name": "v_11329",
         "rawType": "int64",
         "type": "integer"
        },
        {
         "name": "v_11330",
         "rawType": "int64",
         "type": "integer"
        },
        {
         "name": "v_11331",
         "rawType": "int64",
         "type": "integer"
        },
        {
         "name": "v_11332",
         "rawType": "int64",
         "type": "integer"
        },
        {
         "name": "v_11333",
         "rawType": "int64",
         "type": "integer"
        },
        {
         "name": "v_11334",
         "rawType": "int64",
         "type": "integer"
        },
        {
         "name": "v_11335",
         "rawType": "int64",
         "type": "integer"
        },
        {
         "name": "v_11336",
         "rawType": "int64",
         "type": "integer"
        },
        {
         "name": "v_11337",
         "rawType": "int64",
         "type": "integer"
        },
        {
         "name": "v_11338",
         "rawType": "int64",
         "type": "integer"
        },
        {
         "name": "v_11339",
         "rawType": "int64",
         "type": "integer"
        },
        {
         "name": "v_11340",
         "rawType": "int64",
         "type": "integer"
        },
        {
         "name": "v_11341",
         "rawType": "int64",
         "type": "integer"
        },
        {
         "name": "v_11342",
         "rawType": "int64",
         "type": "integer"
        },
        {
         "name": "v_11343",
         "rawType": "int64",
         "type": "integer"
        },
        {
         "name": "v_11344",
         "rawType": "int64",
         "type": "integer"
        },
        {
         "name": "v_11345",
         "rawType": "int64",
         "type": "integer"
        },
        {
         "name": "v_11346",
         "rawType": "int64",
         "type": "integer"
        },
        {
         "name": "v_11347",
         "rawType": "int64",
         "type": "integer"
        },
        {
         "name": "v_11410",
         "rawType": "int64",
         "type": "integer"
        },
        {
         "name": "v_11348",
         "rawType": "int64",
         "type": "integer"
        },
        {
         "name": "v_11349",
         "rawType": "int64",
         "type": "integer"
        },
        {
         "name": "v_11350",
         "rawType": "int64",
         "type": "integer"
        },
        {
         "name": "v_11351",
         "rawType": "int64",
         "type": "integer"
        },
        {
         "name": "v_11352",
         "rawType": "int64",
         "type": "integer"
        },
        {
         "name": "v_11353",
         "rawType": "int64",
         "type": "integer"
        },
        {
         "name": "v_11402",
         "rawType": "int64",
         "type": "integer"
        },
        {
         "name": "v_11403",
         "rawType": "int64",
         "type": "integer"
        },
        {
         "name": "v_11404",
         "rawType": "int64",
         "type": "integer"
        },
        {
         "name": "v_11405",
         "rawType": "int64",
         "type": "integer"
        },
        {
         "name": "v_11406",
         "rawType": "int64",
         "type": "integer"
        },
        {
         "name": "v_11407",
         "rawType": "int64",
         "type": "integer"
        },
        {
         "name": "v_11354",
         "rawType": "int64",
         "type": "integer"
        },
        {
         "name": "v_11355",
         "rawType": "int64",
         "type": "integer"
        },
        {
         "name": "v_11356",
         "rawType": "int64",
         "type": "integer"
        },
        {
         "name": "v_11357",
         "rawType": "int64",
         "type": "integer"
        },
        {
         "name": "v_11358",
         "rawType": "int64",
         "type": "integer"
        },
        {
         "name": "v_11359",
         "rawType": "int64",
         "type": "integer"
        },
        {
         "name": "v_11360",
         "rawType": "int64",
         "type": "integer"
        },
        {
         "name": "v_11361",
         "rawType": "int64",
         "type": "integer"
        },
        {
         "name": "v_11362",
         "rawType": "int64",
         "type": "integer"
        },
        {
         "name": "v_11363",
         "rawType": "int64",
         "type": "integer"
        },
        {
         "name": "v_142",
         "rawType": "int64",
         "type": "integer"
        },
        {
         "name": "v_141",
         "rawType": "int64",
         "type": "integer"
        },
        {
         "name": "v_140",
         "rawType": "int64",
         "type": "integer"
        },
        {
         "name": "v_139",
         "rawType": "int64",
         "type": "integer"
        },
        {
         "name": "v_1043",
         "rawType": "int64",
         "type": "integer"
        },
        {
         "name": "v_1048",
         "rawType": "object",
         "type": "string"
        },
        {
         "name": "browser",
         "rawType": "object",
         "type": "string"
        },
        {
         "name": "referer",
         "rawType": "object",
         "type": "string"
        },
        {
         "name": "device_type",
         "rawType": "int64",
         "type": "integer"
        },
        {
         "name": "quota",
         "rawType": "int64",
         "type": "integer"
        },
        {
         "name": "quota_assignment",
         "rawType": "int64",
         "type": "integer"
        },
        {
         "name": "quota_rejected_id",
         "rawType": "int64",
         "type": "integer"
        },
        {
         "name": "page_history",
         "rawType": "object",
         "type": "string"
        },
        {
         "name": "hflip",
         "rawType": "int64",
         "type": "integer"
        },
        {
         "name": "vflip",
         "rawType": "int64",
         "type": "integer"
        },
        {
         "name": "output_mode",
         "rawType": "int64",
         "type": "integer"
        },
        {
         "name": "javascript",
         "rawType": "int64",
         "type": "integer"
        },
        {
         "name": "flash",
         "rawType": "int64",
         "type": "integer"
        },
        {
         "name": "session_id",
         "rawType": "object",
         "type": "string"
        },
        {
         "name": "language",
         "rawType": "int64",
         "type": "integer"
        },
        {
         "name": "cleaned",
         "rawType": "int64",
         "type": "integer"
        },
        {
         "name": "ats",
         "rawType": "int64",
         "type": "integer"
        },
        {
         "name": "datetime",
         "rawType": "object",
         "type": "string"
        },
        {
         "name": "date_of_last_access",
         "rawType": "object",
         "type": "string"
        },
        {
         "name": "date_of_first_mail",
         "rawType": "object",
         "type": "string"
        },
        {
         "name": "rts7356329",
         "rawType": "int64",
         "type": "integer"
        },
        {
         "name": "rts7356332",
         "rawType": "int64",
         "type": "integer"
        },
        {
         "name": "rts7356334",
         "rawType": "int64",
         "type": "integer"
        },
        {
         "name": "rts7356336",
         "rawType": "int64",
         "type": "integer"
        },
        {
         "name": "rts7356337",
         "rawType": "int64",
         "type": "integer"
        },
        {
         "name": "rts7356338",
         "rawType": "int64",
         "type": "integer"
        },
        {
         "name": "rts7356339",
         "rawType": "int64",
         "type": "integer"
        },
        {
         "name": "rts7356340",
         "rawType": "int64",
         "type": "integer"
        },
        {
         "name": "rts7356341",
         "rawType": "int64",
         "type": "integer"
        },
        {
         "name": "rts7356342",
         "rawType": "int64",
         "type": "integer"
        },
        {
         "name": "rts7356344",
         "rawType": "int64",
         "type": "integer"
        },
        {
         "name": "rts7356346",
         "rawType": "int64",
         "type": "integer"
        },
        {
         "name": "rts7356347",
         "rawType": "int64",
         "type": "integer"
        },
        {
         "name": "rts7356348",
         "rawType": "int64",
         "type": "integer"
        },
        {
         "name": "rts7356349",
         "rawType": "int64",
         "type": "integer"
        },
        {
         "name": "rts7356350",
         "rawType": "int64",
         "type": "integer"
        },
        {
         "name": "rts7356351",
         "rawType": "int64",
         "type": "integer"
        },
        {
         "name": "rts7356352",
         "rawType": "int64",
         "type": "integer"
        },
        {
         "name": "rts7356354",
         "rawType": "int64",
         "type": "integer"
        },
        {
         "name": "rts7356356",
         "rawType": "int64",
         "type": "integer"
        },
        {
         "name": "rts7356357",
         "rawType": "int64",
         "type": "integer"
        },
        {
         "name": "rts7356358",
         "rawType": "int64",
         "type": "integer"
        },
        {
         "name": "rts7356359",
         "rawType": "int64",
         "type": "integer"
        },
        {
         "name": "rts7356360",
         "rawType": "int64",
         "type": "integer"
        },
        {
         "name": "rts7356361",
         "rawType": "int64",
         "type": "integer"
        },
        {
         "name": "rts7356362",
         "rawType": "int64",
         "type": "integer"
        },
        {
         "name": "rts7356364",
         "rawType": "int64",
         "type": "integer"
        },
        {
         "name": "rts7356543",
         "rawType": "int64",
         "type": "integer"
        },
        {
         "name": "rts7356544",
         "rawType": "int64",
         "type": "integer"
        },
        {
         "name": "rts7356545",
         "rawType": "int64",
         "type": "integer"
        },
        {
         "name": "rts7356549",
         "rawType": "int64",
         "type": "integer"
        },
        {
         "name": "rts7356551",
         "rawType": "int64",
         "type": "integer"
        },
        {
         "name": "rts7356552",
         "rawType": "int64",
         "type": "integer"
        },
        {
         "name": "rts7356553",
         "rawType": "int64",
         "type": "integer"
        },
        {
         "name": "rts7356554",
         "rawType": "int64",
         "type": "integer"
        },
        {
         "name": "rts7356555",
         "rawType": "int64",
         "type": "integer"
        },
        {
         "name": "rts7356556",
         "rawType": "int64",
         "type": "integer"
        },
        {
         "name": "rts7356557",
         "rawType": "int64",
         "type": "integer"
        },
        {
         "name": "rts7356559",
         "rawType": "int64",
         "type": "integer"
        },
        {
         "name": "rts7356561",
         "rawType": "int64",
         "type": "integer"
        },
        {
         "name": "rts7356562",
         "rawType": "int64",
         "type": "integer"
        },
        {
         "name": "rts7356563",
         "rawType": "int64",
         "type": "integer"
        },
        {
         "name": "rts7356564",
         "rawType": "int64",
         "type": "integer"
        },
        {
         "name": "rts7356565",
         "rawType": "int64",
         "type": "integer"
        },
        {
         "name": "rts7356566",
         "rawType": "int64",
         "type": "integer"
        },
        {
         "name": "rts7356567",
         "rawType": "int64",
         "type": "integer"
        },
        {
         "name": "rts7356569",
         "rawType": "int64",
         "type": "integer"
        },
        {
         "name": "rts7356571",
         "rawType": "int64",
         "type": "integer"
        },
        {
         "name": "rts7356572",
         "rawType": "int64",
         "type": "integer"
        },
        {
         "name": "rts7356573",
         "rawType": "int64",
         "type": "integer"
        },
        {
         "name": "rts7356574",
         "rawType": "int64",
         "type": "integer"
        },
        {
         "name": "rts7356575",
         "rawType": "int64",
         "type": "integer"
        },
        {
         "name": "rts7356576",
         "rawType": "int64",
         "type": "integer"
        },
        {
         "name": "rts7356577",
         "rawType": "int64",
         "type": "integer"
        },
        {
         "name": "rts7357159",
         "rawType": "int64",
         "type": "integer"
        },
        {
         "name": "rts7357315",
         "rawType": "int64",
         "type": "integer"
        },
        {
         "name": "rts7357329",
         "rawType": "int64",
         "type": "integer"
        },
        {
         "name": "rts7357368",
         "rawType": "int64",
         "type": "integer"
        },
        {
         "name": "rts7357369",
         "rawType": "int64",
         "type": "integer"
        },
        {
         "name": "rts7357370",
         "rawType": "int64",
         "type": "integer"
        },
        {
         "name": "rts7357589",
         "rawType": "int64",
         "type": "integer"
        },
        {
         "name": "rts7357594",
         "rawType": "int64",
         "type": "integer"
        },
        {
         "name": "rts7357646",
         "rawType": "int64",
         "type": "integer"
        },
        {
         "name": "rnd_pg_7356335_1",
         "rawType": "int64",
         "type": "integer"
        },
        {
         "name": "rnd_pg_7356335_2",
         "rawType": "int64",
         "type": "integer"
        },
        {
         "name": "rnd_pg_7356335_3",
         "rawType": "int64",
         "type": "integer"
        },
        {
         "name": "rnd_pg_7356335_4",
         "rawType": "int64",
         "type": "integer"
        },
        {
         "name": "rnd_pg_7356335_5",
         "rawType": "int64",
         "type": "integer"
        },
        {
         "name": "rnd_pg_7356335_6",
         "rawType": "int64",
         "type": "integer"
        },
        {
         "name": "rnd_pg_7356345_1",
         "rawType": "int64",
         "type": "integer"
        },
        {
         "name": "rnd_pg_7356345_2",
         "rawType": "int64",
         "type": "integer"
        },
        {
         "name": "rnd_pg_7356345_3",
         "rawType": "int64",
         "type": "integer"
        },
        {
         "name": "rnd_pg_7356345_4",
         "rawType": "int64",
         "type": "integer"
        },
        {
         "name": "rnd_pg_7356345_5",
         "rawType": "int64",
         "type": "integer"
        },
        {
         "name": "rnd_pg_7356345_6",
         "rawType": "int64",
         "type": "integer"
        },
        {
         "name": "rnd_pg_7356355_1",
         "rawType": "int64",
         "type": "integer"
        },
        {
         "name": "rnd_pg_7356355_2",
         "rawType": "int64",
         "type": "integer"
        },
        {
         "name": "rnd_pg_7356355_3",
         "rawType": "int64",
         "type": "integer"
        },
        {
         "name": "rnd_pg_7356355_4",
         "rawType": "int64",
         "type": "integer"
        },
        {
         "name": "rnd_pg_7356355_5",
         "rawType": "int64",
         "type": "integer"
        },
        {
         "name": "rnd_pg_7356355_6",
         "rawType": "int64",
         "type": "integer"
        },
        {
         "name": "rnd_pg_7356550_1",
         "rawType": "int64",
         "type": "integer"
        },
        {
         "name": "rnd_pg_7356550_2",
         "rawType": "int64",
         "type": "integer"
        },
        {
         "name": "rnd_pg_7356550_3",
         "rawType": "int64",
         "type": "integer"
        },
        {
         "name": "rnd_pg_7356550_4",
         "rawType": "int64",
         "type": "integer"
        },
        {
         "name": "rnd_pg_7356550_5",
         "rawType": "int64",
         "type": "integer"
        },
        {
         "name": "rnd_pg_7356550_6",
         "rawType": "int64",
         "type": "integer"
        },
        {
         "name": "rnd_pg_7356560_1",
         "rawType": "int64",
         "type": "integer"
        },
        {
         "name": "rnd_pg_7356560_2",
         "rawType": "int64",
         "type": "integer"
        },
        {
         "name": "rnd_pg_7356560_3",
         "rawType": "int64",
         "type": "integer"
        },
        {
         "name": "rnd_pg_7356560_4",
         "rawType": "int64",
         "type": "integer"
        },
        {
         "name": "rnd_pg_7356560_5",
         "rawType": "int64",
         "type": "integer"
        },
        {
         "name": "rnd_pg_7356560_6",
         "rawType": "int64",
         "type": "integer"
        },
        {
         "name": "rnd_pg_7356570_1",
         "rawType": "int64",
         "type": "integer"
        },
        {
         "name": "rnd_pg_7356570_2",
         "rawType": "int64",
         "type": "integer"
        },
        {
         "name": "rnd_pg_7356570_3",
         "rawType": "int64",
         "type": "integer"
        },
        {
         "name": "rnd_pg_7356570_4",
         "rawType": "int64",
         "type": "integer"
        },
        {
         "name": "rnd_pg_7356570_5",
         "rawType": "int64",
         "type": "integer"
        },
        {
         "name": "rnd_pg_7356570_6",
         "rawType": "int64",
         "type": "integer"
        }
       ],
       "ref": "265635a7-2d60-4260-85ef-ef4555b27dda",
       "rows": [
        [
         "0",
         "176",
         "0",
         "0",
         "31",
         "7356546",
         "-77",
         "783",
         "3",
         "-66",
         "-66",
         "-66",
         "1055",
         "-66",
         "-66",
         "-66",
         "10",
         "2",
         "0",
         "0",
         "0",
         "0",
         "0",
         "0",
         "0",
         "0",
         "1",
         "-99",
         "4",
         "2",
         "2",
         "2",
         "2",
         "3",
         "2",
         "2",
         "4",
         "1",
         "3",
         "5",
         "4",
         "4",
         "4",
         "4",
         "4",
         "5",
         "4",
         "4",
         "-66",
         "-77",
         "-77",
         "-77",
         "-77",
         "-77",
         "-77",
         "-66",
         "-77",
         "-77",
         "-77",
         "-77",
         "-77",
         "-77",
         "-66",
         "-77",
         "-77",
         "-77",
         "-77",
         "-77",
         "-77",
         "-66",
         "-77",
         "-77",
         "-77",
         "-77",
         "-77",
         "-77",
         "-66",
         "-77",
         "-77",
         "-77",
         "-77",
         "-77",
         "-77",
         "-66",
         "-77",
         "-77",
         "-77",
         "-77",
         "-77",
         "-77",
         "-66",
         "-77",
         "-77",
         "-77",
         "-77",
         "-77",
         "-77",
         "-77",
         "-77",
         "-77",
         "-77",
         "-77",
         "-77",
         "-77",
         "-77",
         "-77",
         "-77",
         "-77",
         "-77",
         "-77",
         "-77",
         "-77",
         "-77",
         "-66",
         "-77",
         "-77",
         "-77",
         "-77",
         "-77",
         "-77",
         "-66",
         "-77",
         "-77",
         "-77",
         "-77",
         "-77",
         "-77",
         "-66",
         "-77",
         "-77",
         "-77",
         "-77",
         "-77",
         "-77",
         "-66",
         "-77",
         "-77",
         "-77",
         "-77",
         "-77",
         "-77",
         "-66",
         "-77",
         "-77",
         "-77",
         "-77",
         "-77",
         "-77",
         "-66",
         "-77",
         "-77",
         "-77",
         "-77",
         "-77",
         "-77",
         "-66",
         "-77",
         "-77",
         "-77",
         "-77",
         "-77",
         "-77",
         "-77",
         "-77",
         "-77",
         "-77",
         "-77",
         "-77",
         "-77",
         "-77",
         "-77",
         "-77",
         "-77",
         "-77",
         "-77",
         "-77",
         "-77",
         "-77",
         "90",
         "3",
         "3",
         "3",
         "4",
         "3",
         "4",
         "65",
         "4",
         "4",
         "3",
         "3",
         "3",
         "4",
         "290",
         "4",
         "3",
         "3",
         "5",
         "4",
         "5",
         "110",
         "4",
         "3",
         "3",
         "4",
         "3",
         "4",
         "150",
         "3",
         "3",
         "3",
         "4",
         "4",
         "4",
         "350",
         "3",
         "3",
         "3",
         "4",
         "4",
         "4",
         "1055",
         "3",
         "3",
         "3",
         "4",
         "4",
         "4",
         "2",
         "4",
         "2",
         "3",
         "2",
         "3",
         "3",
         "4",
         "4",
         "4",
         "5",
         "4",
         "3",
         "4",
         "3",
         "2",
         "-66",
         "-77",
         "-77",
         "-77",
         "-77",
         "-77",
         "-77",
         "-66",
         "-77",
         "-77",
         "-77",
         "-77",
         "-77",
         "-77",
         "-66",
         "-77",
         "-77",
         "-77",
         "-77",
         "-77",
         "-77",
         "-66",
         "-77",
         "-77",
         "-77",
         "-77",
         "-77",
         "-77",
         "-66",
         "-77",
         "-77",
         "-77",
         "-77",
         "-77",
         "-77",
         "-66",
         "-77",
         "-77",
         "-77",
         "-77",
         "-77",
         "-77",
         "-66",
         "-77",
         "-77",
         "-77",
         "-77",
         "-77",
         "-77",
         "-77",
         "-77",
         "-77",
         "-77",
         "-77",
         "-77",
         "-77",
         "-77",
         "-77",
         "-77",
         "-77",
         "-77",
         "-77",
         "-77",
         "-77",
         "-77",
         "-66",
         "-77",
         "-77",
         "-77",
         "-77",
         "-77",
         "-77",
         "-66",
         "-77",
         "-77",
         "-77",
         "-77",
         "-77",
         "-77",
         "-66",
         "-77",
         "-77",
         "-77",
         "-77",
         "-77",
         "-77",
         "-66",
         "-77",
         "-77",
         "-77",
         "-77",
         "-77",
         "-77",
         "-66",
         "-77",
         "-77",
         "-77",
         "-77",
         "-77",
         "-77",
         "-66",
         "-77",
         "-77",
         "-77",
         "-77",
         "-77",
         "-77",
         "-66",
         "-77",
         "-77",
         "-77",
         "-77",
         "-77",
         "-77",
         "-77",
         "-77",
         "-77",
         "-77",
         "-77",
         "-77",
         "-77",
         "-77",
         "-77",
         "-77",
         "-77",
         "-77",
         "-77",
         "-77",
         "-77",
         "-77",
         "-66",
         "-77",
         "-77",
         "-77",
         "-77",
         "-77",
         "-77",
         "-66",
         "-77",
         "-77",
         "-77",
         "-77",
         "-77",
         "-77",
         "-66",
         "-77",
         "-77",
         "-77",
         "-77",
         "-77",
         "-77",
         "-66",
         "-77",
         "-77",
         "-77",
         "-77",
         "-77",
         "-77",
         "-66",
         "-77",
         "-77",
         "-77",
         "-77",
         "-77",
         "-77",
         "-66",
         "-77",
         "-77",
         "-77",
         "-77",
         "-77",
         "-77",
         "-66",
         "-77",
         "-77",
         "-77",
         "-77",
         "-77",
         "-77",
         "-77",
         "-77",
         "-77",
         "-77",
         "-77",
         "-77",
         "-77",
         "-77",
         "-77",
         "-77",
         "-77",
         "-77",
         "-77",
         "-77",
         "-77",
         "-77",
         "51",
         "1",
         "2",
         "4",
         "-99",
         "Wieviel man für Kleidung ausgibt",
         "Mozilla/5.0 (Windows NT 10.0; Win64; x64) AppleWebKit/537.36 (KHTML, like Gecko) Chrome/137.0.0.0 Safari/537.36",
         "-99",
         "0",
         "0",
         "-66",
         "0",
         "7356329,7357646,7357594,7357589,7357595,7356332,7356333,7356343,7356353,7356354,7356355,7356359,7356357,7356356,7356356,7356356,7356361,7356360,7356358,7357329,7356362,7356362,7356362,7356363,7356543,7356544,7356545,7356546",
         "0",
         "0",
         "0",
         "-77",
         "-77",
         "7042e86b27c3c0847dd426193f954884",
         "1",
         "0",
         "1749920022",
         "2025-06-14 16:53:42",
         "2025-06-14 17:06:45",
         "0000-00-00 00:00:00",
         "26",
         "241",
         "0",
         "0",
         "0",
         "0",
         "0",
         "0",
         "0",
         "0",
         "0",
         "0",
         "0",
         "0",
         "0",
         "0",
         "0",
         "0",
         "252",
         "435",
         "391",
         "545",
         "343",
         "493",
         "459",
         "723",
         "0",
         "750",
         "756",
         "783",
         "0",
         "0",
         "0",
         "0",
         "0",
         "0",
         "0",
         "0",
         "0",
         "0",
         "0",
         "0",
         "0",
         "0",
         "0",
         "0",
         "0",
         "0",
         "0",
         "0",
         "0",
         "0",
         "0",
         "0",
         "0",
         "0",
         "557",
         "0",
         "0",
         "0",
         "225",
         "140",
         "49",
         "-77",
         "-77",
         "-77",
         "-77",
         "-77",
         "-77",
         "-77",
         "-77",
         "-77",
         "-77",
         "-77",
         "-77",
         "7356359",
         "7356357",
         "7356356",
         "7356361",
         "7356360",
         "7356358",
         "-77",
         "-77",
         "-77",
         "-77",
         "-77",
         "-77",
         "-77",
         "-77",
         "-77",
         "-77",
         "-77",
         "-77",
         "-77",
         "-77",
         "-77",
         "-77",
         "-77",
         "-77"
        ],
        [
         "1",
         "178",
         "0",
         "0",
         "31",
         "7356546",
         "-77",
         "1691",
         "2",
         "-66",
         "-66",
         "368",
         "-66",
         "-66",
         "-66",
         "-66",
         "14",
         "1",
         "1",
         "1",
         "0",
         "1",
         "0",
         "0",
         "0",
         "0",
         "0",
         "-99",
         "4",
         "2",
         "3",
         "2",
         "4",
         "3",
         "3",
         "2",
         "4",
         "1",
         "3",
         "4",
         "4",
         "5",
         "3",
         "4",
         "4",
         "5",
         "4",
         "4",
         "-66",
         "-77",
         "-77",
         "-77",
         "-77",
         "-77",
         "-77",
         "-66",
         "-77",
         "-77",
         "-77",
         "-77",
         "-77",
         "-77",
         "-66",
         "-77",
         "-77",
         "-77",
         "-77",
         "-77",
         "-77",
         "-66",
         "-77",
         "-77",
         "-77",
         "-77",
         "-77",
         "-77",
         "-66",
         "-77",
         "-77",
         "-77",
         "-77",
         "-77",
         "-77",
         "-66",
         "-77",
         "-77",
         "-77",
         "-77",
         "-77",
         "-77",
         "-66",
         "-77",
         "-77",
         "-77",
         "-77",
         "-77",
         "-77",
         "-77",
         "-77",
         "-77",
         "-77",
         "-77",
         "-77",
         "-77",
         "-77",
         "-77",
         "-77",
         "-77",
         "-77",
         "-77",
         "-77",
         "-77",
         "-77",
         "55",
         "3",
         "3",
         "3",
         "4",
         "4",
         "4",
         "70",
         "4",
         "4",
         "4",
         "4",
         "4",
         "4",
         "120",
         "4",
         "4",
         "4",
         "4",
         "4",
         "4",
         "18",
         "1",
         "1",
         "1",
         "1",
         "1",
         "1",
         "80",
         "3",
         "3",
         "3",
         "3",
         "3",
         "3",
         "25",
         "2",
         "2",
         "2",
         "2",
         "2",
         "2",
         "300",
         "3",
         "3",
         "3",
         "4",
         "4",
         "4",
         "2",
         "2",
         "2",
         "4",
         "3",
         "4",
         "4",
         "5",
         "5",
         "5",
         "5",
         "5",
         "4",
         "5",
         "1",
         "1",
         "-66",
         "-77",
         "-77",
         "-77",
         "-77",
         "-77",
         "-77",
         "-66",
         "-77",
         "-77",
         "-77",
         "-77",
         "-77",
         "-77",
         "-66",
         "-77",
         "-77",
         "-77",
         "-77",
         "-77",
         "-77",
         "-66",
         "-77",
         "-77",
         "-77",
         "-77",
         "-77",
         "-77",
         "-66",
         "-77",
         "-77",
         "-77",
         "-77",
         "-77",
         "-77",
         "-66",
         "-77",
         "-77",
         "-77",
         "-77",
         "-77",
         "-77",
         "-66",
         "-77",
         "-77",
         "-77",
         "-77",
         "-77",
         "-77",
         "-77",
         "-77",
         "-77",
         "-77",
         "-77",
         "-77",
         "-77",
         "-77",
         "-77",
         "-77",
         "-77",
         "-77",
         "-77",
         "-77",
         "-77",
         "-77",
         "-66",
         "-77",
         "-77",
         "-77",
         "-77",
         "-77",
         "-77",
         "-66",
         "-77",
         "-77",
         "-77",
         "-77",
         "-77",
         "-77",
         "-66",
         "-77",
         "-77",
         "-77",
         "-77",
         "-77",
         "-77",
         "-66",
         "-77",
         "-77",
         "-77",
         "-77",
         "-77",
         "-77",
         "-66",
         "-77",
         "-77",
         "-77",
         "-77",
         "-77",
         "-77",
         "-66",
         "-77",
         "-77",
         "-77",
         "-77",
         "-77",
         "-77",
         "-66",
         "-77",
         "-77",
         "-77",
         "-77",
         "-77",
         "-77",
         "-77",
         "-77",
         "-77",
         "-77",
         "-77",
         "-77",
         "-77",
         "-77",
         "-77",
         "-77",
         "-77",
         "-77",
         "-77",
         "-77",
         "-77",
         "-77",
         "-66",
         "-77",
         "-77",
         "-77",
         "-77",
         "-77",
         "-77",
         "-66",
         "-77",
         "-77",
         "-77",
         "-77",
         "-77",
         "-77",
         "-66",
         "-77",
         "-77",
         "-77",
         "-77",
         "-77",
         "-77",
         "-66",
         "-77",
         "-77",
         "-77",
         "-77",
         "-77",
         "-77",
         "-66",
         "-77",
         "-77",
         "-77",
         "-77",
         "-77",
         "-77",
         "-66",
         "-77",
         "-77",
         "-77",
         "-77",
         "-77",
         "-77",
         "-66",
         "-77",
         "-77",
         "-77",
         "-77",
         "-77",
         "-77",
         "-77",
         "-77",
         "-77",
         "-77",
         "-77",
         "-77",
         "-77",
         "-77",
         "-77",
         "-77",
         "-77",
         "-77",
         "-77",
         "-77",
         "-77",
         "-77",
         "-66",
         "-77",
         "-77",
         "-77",
         "-77",
         "-77",
         "-77",
         "-66",
         "-77",
         "-77",
         "-77",
         "-77",
         "-77",
         "-77",
         "-66",
         "-77",
         "-77",
         "-77",
         "-77",
         "-77",
         "-77",
         "-66",
         "-77",
         "-77",
         "-77",
         "-77",
         "-77",
         "-77",
         "-66",
         "-77",
         "-77",
         "-77",
         "-77",
         "-77",
         "-77",
         "-66",
         "-77",
         "-77",
         "-77",
         "-77",
         "-77",
         "-77",
         "-66",
         "-77",
         "-77",
         "-77",
         "-77",
         "-77",
         "-77",
         "-77",
         "-77",
         "-77",
         "-77",
         "-77",
         "-77",
         "-77",
         "-77",
         "-77",
         "-77",
         "-77",
         "-77",
         "-77",
         "-77",
         "-77",
         "-77",
         "47",
         "1",
         "2",
         "4",
         "-99",
         "Optische Reize und Wahrnehnung digitaler Präsentation von Produkten abzurufen und einschätzen zu können. Wie viele Befragte können sich ohne haptische Möglichkeiten Produkte vorstellen und ggf. eine Kaufentscheidung treffen?",
         "Mozilla/5.0 (Macintosh; Intel Mac OS X 10.15; rv:128.0) Gecko/20100101 Firefox/128.0",
         "-99",
         "0",
         "0",
         "-66",
         "0",
         "7356329,7357646,7357594,7357589,7357595,7356332,7356333,7356343,7356344,7356345,7356350,7356350,7356350,7356346,7356347,7356348,7356349,7356351,7357315,7356352,7356353,7356363,7356543,7356544,7356545,7356546",
         "1",
         "1",
         "0",
         "-77",
         "-77",
         "df9599ddeea47e2dbda057e8db2f75f3",
         "1",
         "0",
         "1750056388",
         "2025-06-16 06:46:28",
         "2025-06-16 07:14:39",
         "0000-00-00 00:00:00",
         "44",
         "776",
         "0",
         "0",
         "0",
         "0",
         "0",
         "0",
         "0",
         "0",
         "786",
         "959",
         "991",
         "1014",
         "1053",
         "889",
         "1068",
         "1492",
         "0",
         "0",
         "0",
         "0",
         "0",
         "0",
         "0",
         "0",
         "0",
         "1521",
         "1534",
         "1691",
         "0",
         "0",
         "0",
         "0",
         "0",
         "0",
         "0",
         "0",
         "0",
         "0",
         "0",
         "0",
         "0",
         "0",
         "0",
         "0",
         "0",
         "0",
         "0",
         "0",
         "0",
         "0",
         "0",
         "0",
         "0",
         "1105",
         "0",
         "0",
         "0",
         "0",
         "743",
         "620",
         "79",
         "-77",
         "-77",
         "-77",
         "-77",
         "-77",
         "-77",
         "7356350",
         "7356346",
         "7356347",
         "7356348",
         "7356349",
         "7356351",
         "-77",
         "-77",
         "-77",
         "-77",
         "-77",
         "-77",
         "-77",
         "-77",
         "-77",
         "-77",
         "-77",
         "-77",
         "-77",
         "-77",
         "-77",
         "-77",
         "-77",
         "-77",
         "-77",
         "-77",
         "-77",
         "-77",
         "-77",
         "-77"
        ],
        [
         "2",
         "181",
         "0",
         "0",
         "31",
         "7356546",
         "-77",
         "865",
         "-66",
         "1",
         "-66",
         "-66",
         "-66",
         "2830",
         "-66",
         "-66",
         "4",
         "2",
         "0",
         "0",
         "0",
         "0",
         "0",
         "0",
         "0",
         "0",
         "1",
         "Verwaltung",
         "4",
         "1",
         "2",
         "4",
         "3",
         "3",
         "2",
         "2",
         "2",
         "3",
         "2",
         "4",
         "4",
         "4",
         "2",
         "1",
         "2",
         "4",
         "2",
         "4",
         "-66",
         "-77",
         "-77",
         "-77",
         "-77",
         "-77",
         "-77",
         "-66",
         "-77",
         "-77",
         "-77",
         "-77",
         "-77",
         "-77",
         "-66",
         "-77",
         "-77",
         "-77",
         "-77",
         "-77",
         "-77",
         "-66",
         "-77",
         "-77",
         "-77",
         "-77",
         "-77",
         "-77",
         "-66",
         "-77",
         "-77",
         "-77",
         "-77",
         "-77",
         "-77",
         "-66",
         "-77",
         "-77",
         "-77",
         "-77",
         "-77",
         "-77",
         "-66",
         "-77",
         "-77",
         "-77",
         "-77",
         "-77",
         "-77",
         "-77",
         "-77",
         "-77",
         "-77",
         "-77",
         "-77",
         "-77",
         "-77",
         "-77",
         "-77",
         "-77",
         "-77",
         "-77",
         "-77",
         "-77",
         "-77",
         "-66",
         "-77",
         "-77",
         "-77",
         "-77",
         "-77",
         "-77",
         "-66",
         "-77",
         "-77",
         "-77",
         "-77",
         "-77",
         "-77",
         "-66",
         "-77",
         "-77",
         "-77",
         "-77",
         "-77",
         "-77",
         "-66",
         "-77",
         "-77",
         "-77",
         "-77",
         "-77",
         "-77",
         "-66",
         "-77",
         "-77",
         "-77",
         "-77",
         "-77",
         "-77",
         "-66",
         "-77",
         "-77",
         "-77",
         "-77",
         "-77",
         "-77",
         "-66",
         "-77",
         "-77",
         "-77",
         "-77",
         "-77",
         "-77",
         "-77",
         "-77",
         "-77",
         "-77",
         "-77",
         "-77",
         "-77",
         "-77",
         "-77",
         "-77",
         "-77",
         "-77",
         "-77",
         "-77",
         "-77",
         "-77",
         "-66",
         "-77",
         "-77",
         "-77",
         "-77",
         "-77",
         "-77",
         "-66",
         "-77",
         "-77",
         "-77",
         "-77",
         "-77",
         "-77",
         "-66",
         "-77",
         "-77",
         "-77",
         "-77",
         "-77",
         "-77",
         "-66",
         "-77",
         "-77",
         "-77",
         "-77",
         "-77",
         "-77",
         "-66",
         "-77",
         "-77",
         "-77",
         "-77",
         "-77",
         "-77",
         "-66",
         "-77",
         "-77",
         "-77",
         "-77",
         "-77",
         "-77",
         "-66",
         "-77",
         "-77",
         "-77",
         "-77",
         "-77",
         "-77",
         "-77",
         "-77",
         "-77",
         "-77",
         "-77",
         "-77",
         "-77",
         "-77",
         "-77",
         "-77",
         "-77",
         "-77",
         "-77",
         "-77",
         "-77",
         "-77",
         "850",
         "4",
         "4",
         "4",
         "4",
         "4",
         "4",
         "230",
         "4",
         "4",
         "4",
         "3",
         "3",
         "2",
         "750",
         "5",
         "5",
         "5",
         "4",
         "5",
         "4",
         "300",
         "4",
         "4",
         "4",
         "5",
         "5",
         "5",
         "250",
         "4",
         "4",
         "4",
         "4",
         "4",
         "4",
         "450",
         "5",
         "5",
         "5",
         "4",
         "5",
         "5",
         "2830",
         "4",
         "5",
         "5",
         "4",
         "4",
         "4",
         "4",
         "4",
         "3",
         "4",
         "3",
         "4",
         "4",
         "4",
         "4",
         "4",
         "5",
         "5",
         "4",
         "4",
         "2",
         "2",
         "-66",
         "-77",
         "-77",
         "-77",
         "-77",
         "-77",
         "-77",
         "-66",
         "-77",
         "-77",
         "-77",
         "-77",
         "-77",
         "-77",
         "-66",
         "-77",
         "-77",
         "-77",
         "-77",
         "-77",
         "-77",
         "-66",
         "-77",
         "-77",
         "-77",
         "-77",
         "-77",
         "-77",
         "-66",
         "-77",
         "-77",
         "-77",
         "-77",
         "-77",
         "-77",
         "-66",
         "-77",
         "-77",
         "-77",
         "-77",
         "-77",
         "-77",
         "-66",
         "-77",
         "-77",
         "-77",
         "-77",
         "-77",
         "-77",
         "-77",
         "-77",
         "-77",
         "-77",
         "-77",
         "-77",
         "-77",
         "-77",
         "-77",
         "-77",
         "-77",
         "-77",
         "-77",
         "-77",
         "-77",
         "-77",
         "-66",
         "-77",
         "-77",
         "-77",
         "-77",
         "-77",
         "-77",
         "-66",
         "-77",
         "-77",
         "-77",
         "-77",
         "-77",
         "-77",
         "-66",
         "-77",
         "-77",
         "-77",
         "-77",
         "-77",
         "-77",
         "-66",
         "-77",
         "-77",
         "-77",
         "-77",
         "-77",
         "-77",
         "-66",
         "-77",
         "-77",
         "-77",
         "-77",
         "-77",
         "-77",
         "-66",
         "-77",
         "-77",
         "-77",
         "-77",
         "-77",
         "-77",
         "-66",
         "-77",
         "-77",
         "-77",
         "-77",
         "-77",
         "-77",
         "-77",
         "-77",
         "-77",
         "-77",
         "-77",
         "-77",
         "-77",
         "-77",
         "-77",
         "-77",
         "-77",
         "-77",
         "-77",
         "-77",
         "-77",
         "-77",
         "60",
         "2",
         "2",
         "5",
         "-99",
         "Keine Ahnung",
         "Mozilla/5.0 (Windows NT 10.0; Win64; x64) AppleWebKit/537.36 (KHTML, like Gecko) Chrome/137.0.0.0 Safari/537.36",
         "-99",
         "0",
         "0",
         "-66",
         "0",
         "7356329,7357646,7357594,7357589,7357595,7356363,7356364,7356548,7356549,7356550,7356551,7356554,7356552,7356556,7356553,7356555,7357370,7356557,7356558,7356568,7356543,7356544,7356545,7356546",
         "0",
         "0",
         "0",
         "-77",
         "-77",
         "aa68104859b2091585c37f1471f44ee1",
         "1",
         "0",
         "1750103526",
         "2025-06-16 19:52:06",
         "2025-06-16 20:06:31",
         "0000-00-00 00:00:00",
         "10",
         "0",
         "0",
         "0",
         "0",
         "0",
         "0",
         "0",
         "0",
         "0",
         "0",
         "0",
         "0",
         "0",
         "0",
         "0",
         "0",
         "0",
         "0",
         "0",
         "0",
         "0",
         "0",
         "0",
         "0",
         "0",
         "321",
         "839",
         "849",
         "865",
         "331",
         "394",
         "487",
         "557",
         "444",
         "590",
         "519",
         "721",
         "0",
         "0",
         "0",
         "0",
         "0",
         "0",
         "0",
         "0",
         "0",
         "0",
         "0",
         "0",
         "0",
         "0",
         "0",
         "0",
         "0",
         "0",
         "0",
         "0",
         "0",
         "617",
         "312",
         "233",
         "59",
         "-77",
         "-77",
         "-77",
         "-77",
         "-77",
         "-77",
         "-77",
         "-77",
         "-77",
         "-77",
         "-77",
         "-77",
         "-77",
         "-77",
         "-77",
         "-77",
         "-77",
         "-77",
         "7356551",
         "7356554",
         "7356552",
         "7356556",
         "7356553",
         "7356555",
         "-77",
         "-77",
         "-77",
         "-77",
         "-77",
         "-77",
         "-77",
         "-77",
         "-77",
         "-77",
         "-77",
         "-77"
        ],
        [
         "3",
         "182",
         "0",
         "0",
         "31",
         "7356546",
         "-77",
         "536",
         "-66",
         "2",
         "-66",
         "-66",
         "-66",
         "-66",
         "1320",
         "-66",
         "5",
         "2",
         "0",
         "0",
         "0",
         "0",
         "0",
         "0",
         "0",
         "0",
         "0",
         "-99",
         "0",
         "5",
         "5",
         "5",
         "5",
         "3",
         "5",
         "5",
         "4",
         "5",
         "3",
         "5",
         "3",
         "4",
         "3",
         "4",
         "3",
         "4",
         "4",
         "3",
         "-66",
         "-77",
         "-77",
         "-77",
         "-77",
         "-77",
         "-77",
         "-66",
         "-77",
         "-77",
         "-77",
         "-77",
         "-77",
         "-77",
         "-66",
         "-77",
         "-77",
         "-77",
         "-77",
         "-77",
         "-77",
         "-66",
         "-77",
         "-77",
         "-77",
         "-77",
         "-77",
         "-77",
         "-66",
         "-77",
         "-77",
         "-77",
         "-77",
         "-77",
         "-77",
         "-66",
         "-77",
         "-77",
         "-77",
         "-77",
         "-77",
         "-77",
         "-66",
         "-77",
         "-77",
         "-77",
         "-77",
         "-77",
         "-77",
         "-77",
         "-77",
         "-77",
         "-77",
         "-77",
         "-77",
         "-77",
         "-77",
         "-77",
         "-77",
         "-77",
         "-77",
         "-77",
         "-77",
         "-77",
         "-77",
         "-66",
         "-77",
         "-77",
         "-77",
         "-77",
         "-77",
         "-77",
         "-66",
         "-77",
         "-77",
         "-77",
         "-77",
         "-77",
         "-77",
         "-66",
         "-77",
         "-77",
         "-77",
         "-77",
         "-77",
         "-77",
         "-66",
         "-77",
         "-77",
         "-77",
         "-77",
         "-77",
         "-77",
         "-66",
         "-77",
         "-77",
         "-77",
         "-77",
         "-77",
         "-77",
         "-66",
         "-77",
         "-77",
         "-77",
         "-77",
         "-77",
         "-77",
         "-66",
         "-77",
         "-77",
         "-77",
         "-77",
         "-77",
         "-77",
         "-77",
         "-77",
         "-77",
         "-77",
         "-77",
         "-77",
         "-77",
         "-77",
         "-77",
         "-77",
         "-77",
         "-77",
         "-77",
         "-77",
         "-77",
         "-77",
         "-66",
         "-77",
         "-77",
         "-77",
         "-77",
         "-77",
         "-77",
         "-66",
         "-77",
         "-77",
         "-77",
         "-77",
         "-77",
         "-77",
         "-66",
         "-77",
         "-77",
         "-77",
         "-77",
         "-77",
         "-77",
         "-66",
         "-77",
         "-77",
         "-77",
         "-77",
         "-77",
         "-77",
         "-66",
         "-77",
         "-77",
         "-77",
         "-77",
         "-77",
         "-77",
         "-66",
         "-77",
         "-77",
         "-77",
         "-77",
         "-77",
         "-77",
         "-66",
         "-77",
         "-77",
         "-77",
         "-77",
         "-77",
         "-77",
         "-77",
         "-77",
         "-77",
         "-77",
         "-77",
         "-77",
         "-77",
         "-77",
         "-77",
         "-77",
         "-77",
         "-77",
         "-77",
         "-77",
         "-77",
         "-77",
         "-66",
         "-77",
         "-77",
         "-77",
         "-77",
         "-77",
         "-77",
         "-66",
         "-77",
         "-77",
         "-77",
         "-77",
         "-77",
         "-77",
         "-66",
         "-77",
         "-77",
         "-77",
         "-77",
         "-77",
         "-77",
         "-66",
         "-77",
         "-77",
         "-77",
         "-77",
         "-77",
         "-77",
         "-66",
         "-77",
         "-77",
         "-77",
         "-77",
         "-77",
         "-77",
         "-66",
         "-77",
         "-77",
         "-77",
         "-77",
         "-77",
         "-77",
         "-66",
         "-77",
         "-77",
         "-77",
         "-77",
         "-77",
         "-77",
         "-77",
         "-77",
         "-77",
         "-77",
         "-77",
         "-77",
         "-77",
         "-77",
         "-77",
         "-77",
         "-77",
         "-77",
         "-77",
         "-77",
         "-77",
         "-77",
         "70",
         "3",
         "2",
         "3",
         "3",
         "3",
         "3",
         "75",
         "3",
         "4",
         "4",
         "2",
         "2",
         "2",
         "300",
         "4",
         "3",
         "4",
         "2",
         "2",
         "2",
         "200",
         "4",
         "4",
         "4",
         "3",
         "3",
         "3",
         "175",
         "4",
         "3",
         "4",
         "4",
         "3",
         "4",
         "500",
         "4",
         "2",
         "4",
         "3",
         "3",
         "2",
         "900",
         "4",
         "3",
         "4",
         "4",
         "3",
         "3",
         "4",
         "4",
         "4",
         "5",
         "5",
         "5",
         "4",
         "4",
         "4",
         "4",
         "5",
         "5",
         "5",
         "4",
         "1",
         "1",
         "-66",
         "-77",
         "-77",
         "-77",
         "-77",
         "-77",
         "-77",
         "-66",
         "-77",
         "-77",
         "-77",
         "-77",
         "-77",
         "-77",
         "-66",
         "-77",
         "-77",
         "-77",
         "-77",
         "-77",
         "-77",
         "-66",
         "-77",
         "-77",
         "-77",
         "-77",
         "-77",
         "-77",
         "-66",
         "-77",
         "-77",
         "-77",
         "-77",
         "-77",
         "-77",
         "-66",
         "-77",
         "-77",
         "-77",
         "-77",
         "-77",
         "-77",
         "-66",
         "-77",
         "-77",
         "-77",
         "-77",
         "-77",
         "-77",
         "-77",
         "-77",
         "-77",
         "-77",
         "-77",
         "-77",
         "-77",
         "-77",
         "-77",
         "-77",
         "-77",
         "-77",
         "-77",
         "-77",
         "-77",
         "-77",
         "22",
         "1",
         "1",
         "1",
         "-99",
         "Produktdesign",
         "Mozilla/5.0 (iPhone; CPU iPhone OS 18_5 like Mac OS X) AppleWebKit/605.1.15 (KHTML, like Gecko) Version/18.5 Mobile/15E148 Safari/604.1",
         "-99",
         "0",
         "0",
         "-66",
         "0",
         "7356329,7357646,7357594,7357589,7357595,7356363,7356364,7356548,7356558,7356559,7356560,7356564,7356562,7356565,7356566,7356563,7356561,7357369,7356567,7356568,7356543,7356544,7356545,7356546",
         "0",
         "0",
         "0",
         "-77",
         "-77",
         "43e40d57d09e420a9de9217c9eff439e",
         "1",
         "0",
         "1750105354",
         "2025-06-16 20:22:34",
         "2025-06-16 20:31:30",
         "0000-00-00 00:00:00",
         "19",
         "0",
         "0",
         "0",
         "0",
         "0",
         "0",
         "0",
         "0",
         "0",
         "0",
         "0",
         "0",
         "0",
         "0",
         "0",
         "0",
         "0",
         "0",
         "0",
         "0",
         "0",
         "0",
         "0",
         "0",
         "0",
         "165",
         "514",
         "519",
         "536",
         "0",
         "0",
         "0",
         "0",
         "0",
         "0",
         "0",
         "0",
         "176",
         "372",
         "234",
         "346",
         "208",
         "278",
         "310",
         "491",
         "0",
         "0",
         "0",
         "0",
         "0",
         "0",
         "0",
         "0",
         "0",
         "0",
         "0",
         "0",
         "390",
         "0",
         "149",
         "95",
         "32",
         "-77",
         "-77",
         "-77",
         "-77",
         "-77",
         "-77",
         "-77",
         "-77",
         "-77",
         "-77",
         "-77",
         "-77",
         "-77",
         "-77",
         "-77",
         "-77",
         "-77",
         "-77",
         "-77",
         "-77",
         "-77",
         "-77",
         "-77",
         "-77",
         "7356564",
         "7356562",
         "7356565",
         "7356566",
         "7356563",
         "7356561",
         "-77",
         "-77",
         "-77",
         "-77",
         "-77",
         "-77"
        ],
        [
         "4",
         "184",
         "0",
         "0",
         "31",
         "7356546",
         "-77",
         "680",
         "1",
         "-66",
         "970",
         "-66",
         "-66",
         "-66",
         "-66",
         "-66",
         "15",
         "2",
         "0",
         "0",
         "0",
         "1",
         "0",
         "0",
         "0",
         "0",
         "0",
         "-99",
         "2",
         "3",
         "3",
         "2",
         "2",
         "3",
         "2",
         "2",
         "4",
         "1",
         "3",
         "5",
         "4",
         "5",
         "4",
         "4",
         "3",
         "3",
         "4",
         "5",
         "180",
         "5",
         "4",
         "5",
         "5",
         "5",
         "5",
         "50",
         "3",
         "3",
         "4",
         "3",
         "4",
         "3",
         "300",
         "5",
         "5",
         "5",
         "4",
         "5",
         "5",
         "100",
         "5",
         "3",
         "5",
         "5",
         "5",
         "5",
         "120",
         "4",
         "4",
         "4",
         "3",
         "4",
         "4",
         "220",
         "5",
         "5",
         "4",
         "4",
         "4",
         "5",
         "1050",
         "5",
         "4",
         "5",
         "4",
         "5",
         "5",
         "4",
         "5",
         "3",
         "5",
         "4",
         "5",
         "4",
         "5",
         "5",
         "5",
         "4",
         "5",
         "4",
         "4",
         "1",
         "3",
         "-66",
         "-77",
         "-77",
         "-77",
         "-77",
         "-77",
         "-77",
         "-66",
         "-77",
         "-77",
         "-77",
         "-77",
         "-77",
         "-77",
         "-66",
         "-77",
         "-77",
         "-77",
         "-77",
         "-77",
         "-77",
         "-66",
         "-77",
         "-77",
         "-77",
         "-77",
         "-77",
         "-77",
         "-66",
         "-77",
         "-77",
         "-77",
         "-77",
         "-77",
         "-77",
         "-66",
         "-77",
         "-77",
         "-77",
         "-77",
         "-77",
         "-77",
         "-66",
         "-77",
         "-77",
         "-77",
         "-77",
         "-77",
         "-77",
         "-77",
         "-77",
         "-77",
         "-77",
         "-77",
         "-77",
         "-77",
         "-77",
         "-77",
         "-77",
         "-77",
         "-77",
         "-77",
         "-77",
         "-77",
         "-77",
         "-66",
         "-77",
         "-77",
         "-77",
         "-77",
         "-77",
         "-77",
         "-66",
         "-77",
         "-77",
         "-77",
         "-77",
         "-77",
         "-77",
         "-66",
         "-77",
         "-77",
         "-77",
         "-77",
         "-77",
         "-77",
         "-66",
         "-77",
         "-77",
         "-77",
         "-77",
         "-77",
         "-77",
         "-66",
         "-77",
         "-77",
         "-77",
         "-77",
         "-77",
         "-77",
         "-66",
         "-77",
         "-77",
         "-77",
         "-77",
         "-77",
         "-77",
         "-66",
         "-77",
         "-77",
         "-77",
         "-77",
         "-77",
         "-77",
         "-77",
         "-77",
         "-77",
         "-77",
         "-77",
         "-77",
         "-77",
         "-77",
         "-77",
         "-77",
         "-77",
         "-77",
         "-77",
         "-77",
         "-77",
         "-77",
         "-66",
         "-77",
         "-77",
         "-77",
         "-77",
         "-77",
         "-77",
         "-66",
         "-77",
         "-77",
         "-77",
         "-77",
         "-77",
         "-77",
         "-66",
         "-77",
         "-77",
         "-77",
         "-77",
         "-77",
         "-77",
         "-66",
         "-77",
         "-77",
         "-77",
         "-77",
         "-77",
         "-77",
         "-66",
         "-77",
         "-77",
         "-77",
         "-77",
         "-77",
         "-77",
         "-66",
         "-77",
         "-77",
         "-77",
         "-77",
         "-77",
         "-77",
         "-66",
         "-77",
         "-77",
         "-77",
         "-77",
         "-77",
         "-77",
         "-77",
         "-77",
         "-77",
         "-77",
         "-77",
         "-77",
         "-77",
         "-77",
         "-77",
         "-77",
         "-77",
         "-77",
         "-77",
         "-77",
         "-77",
         "-77",
         "-66",
         "-77",
         "-77",
         "-77",
         "-77",
         "-77",
         "-77",
         "-66",
         "-77",
         "-77",
         "-77",
         "-77",
         "-77",
         "-77",
         "-66",
         "-77",
         "-77",
         "-77",
         "-77",
         "-77",
         "-77",
         "-66",
         "-77",
         "-77",
         "-77",
         "-77",
         "-77",
         "-77",
         "-66",
         "-77",
         "-77",
         "-77",
         "-77",
         "-77",
         "-77",
         "-66",
         "-77",
         "-77",
         "-77",
         "-77",
         "-77",
         "-77",
         "-66",
         "-77",
         "-77",
         "-77",
         "-77",
         "-77",
         "-77",
         "-77",
         "-77",
         "-77",
         "-77",
         "-77",
         "-77",
         "-77",
         "-77",
         "-77",
         "-77",
         "-77",
         "-77",
         "-77",
         "-77",
         "-77",
         "-77",
         "-66",
         "-77",
         "-77",
         "-77",
         "-77",
         "-77",
         "-77",
         "-66",
         "-77",
         "-77",
         "-77",
         "-77",
         "-77",
         "-77",
         "-66",
         "-77",
         "-77",
         "-77",
         "-77",
         "-77",
         "-77",
         "-66",
         "-77",
         "-77",
         "-77",
         "-77",
         "-77",
         "-77",
         "-66",
         "-77",
         "-77",
         "-77",
         "-77",
         "-77",
         "-77",
         "-66",
         "-77",
         "-77",
         "-77",
         "-77",
         "-77",
         "-77",
         "-66",
         "-77",
         "-77",
         "-77",
         "-77",
         "-77",
         "-77",
         "-77",
         "-77",
         "-77",
         "-77",
         "-77",
         "-77",
         "-77",
         "-77",
         "-77",
         "-77",
         "-77",
         "-77",
         "-77",
         "-77",
         "-77",
         "-77",
         "19",
         "1",
         "1",
         "3",
         "-99",
         "Ich fand den Farbenbruch mit dem Pullover sehr stimmig und es die Visualisierung des ganzen Outfits hat mir geholfen, die einzelnen Produkte besser zu bewerten ",
         "Mozilla/5.0 (iPhone; CPU iPhone OS 17_5_1 like Mac OS X) AppleWebKit/605.1.15 (KHTML, like Gecko) Version/17.5 Mobile/15E148 Safari/604.1",
         "-99",
         "0",
         "0",
         "-66",
         "0",
         "7356329,7357646,7357594,7357589,7357595,7356332,7356333,7356334,7356335,7356340,7356341,7356337,7356336,7356339,7356338,7357159,7356342,7356343,7356353,7356363,7356543,7356544,7356545,7356546",
         "1",
         "1",
         "0",
         "-77",
         "-77",
         "b4362ec30c185223b01335ef2829b83b",
         "1",
         "0",
         "1750106613",
         "2025-06-16 20:43:33",
         "2025-06-16 20:54:53",
         "0000-00-00 00:00:00",
         "2",
         "205",
         "215",
         "390",
         "372",
         "435",
         "420",
         "317",
         "345",
         "569",
         "0",
         "0",
         "0",
         "0",
         "0",
         "0",
         "0",
         "0",
         "0",
         "0",
         "0",
         "0",
         "0",
         "0",
         "0",
         "0",
         "0",
         "586",
         "606",
         "680",
         "0",
         "0",
         "0",
         "0",
         "0",
         "0",
         "0",
         "0",
         "0",
         "0",
         "0",
         "0",
         "0",
         "0",
         "0",
         "0",
         "0",
         "0",
         "0",
         "0",
         "0",
         "0",
         "0",
         "0",
         "454",
         "0",
         "0",
         "0",
         "0",
         "0",
         "203",
         "154",
         "35",
         "7356340",
         "7356341",
         "7356337",
         "7356336",
         "7356339",
         "7356338",
         "-77",
         "-77",
         "-77",
         "-77",
         "-77",
         "-77",
         "-77",
         "-77",
         "-77",
         "-77",
         "-77",
         "-77",
         "-77",
         "-77",
         "-77",
         "-77",
         "-77",
         "-77",
         "-77",
         "-77",
         "-77",
         "-77",
         "-77",
         "-77",
         "-77",
         "-77",
         "-77",
         "-77",
         "-77",
         "-77"
        ]
       ],
       "shape": {
        "columns": 561,
        "rows": 5
       }
      },
      "text/html": [
       "<div>\n",
       "<style scoped>\n",
       "    .dataframe tbody tr th:only-of-type {\n",
       "        vertical-align: middle;\n",
       "    }\n",
       "\n",
       "    .dataframe tbody tr th {\n",
       "        vertical-align: top;\n",
       "    }\n",
       "\n",
       "    .dataframe thead th {\n",
       "        text-align: right;\n",
       "    }\n",
       "</style>\n",
       "<table border=\"1\" class=\"dataframe\">\n",
       "  <thead>\n",
       "    <tr style=\"text-align: right;\">\n",
       "      <th></th>\n",
       "      <th>lfdn</th>\n",
       "      <th>external_lfdn</th>\n",
       "      <th>tester</th>\n",
       "      <th>dispcode</th>\n",
       "      <th>lastpage</th>\n",
       "      <th>quality</th>\n",
       "      <th>duration</th>\n",
       "      <th>c_0001</th>\n",
       "      <th>c_0002</th>\n",
       "      <th>c_0003</th>\n",
       "      <th>...</th>\n",
       "      <th>rnd_pg_7356560_3</th>\n",
       "      <th>rnd_pg_7356560_4</th>\n",
       "      <th>rnd_pg_7356560_5</th>\n",
       "      <th>rnd_pg_7356560_6</th>\n",
       "      <th>rnd_pg_7356570_1</th>\n",
       "      <th>rnd_pg_7356570_2</th>\n",
       "      <th>rnd_pg_7356570_3</th>\n",
       "      <th>rnd_pg_7356570_4</th>\n",
       "      <th>rnd_pg_7356570_5</th>\n",
       "      <th>rnd_pg_7356570_6</th>\n",
       "    </tr>\n",
       "  </thead>\n",
       "  <tbody>\n",
       "    <tr>\n",
       "      <th>0</th>\n",
       "      <td>176</td>\n",
       "      <td>0</td>\n",
       "      <td>0</td>\n",
       "      <td>31</td>\n",
       "      <td>7356546</td>\n",
       "      <td>-77</td>\n",
       "      <td>783</td>\n",
       "      <td>3</td>\n",
       "      <td>-66</td>\n",
       "      <td>-66</td>\n",
       "      <td>...</td>\n",
       "      <td>-77</td>\n",
       "      <td>-77</td>\n",
       "      <td>-77</td>\n",
       "      <td>-77</td>\n",
       "      <td>-77</td>\n",
       "      <td>-77</td>\n",
       "      <td>-77</td>\n",
       "      <td>-77</td>\n",
       "      <td>-77</td>\n",
       "      <td>-77</td>\n",
       "    </tr>\n",
       "    <tr>\n",
       "      <th>1</th>\n",
       "      <td>178</td>\n",
       "      <td>0</td>\n",
       "      <td>0</td>\n",
       "      <td>31</td>\n",
       "      <td>7356546</td>\n",
       "      <td>-77</td>\n",
       "      <td>1691</td>\n",
       "      <td>2</td>\n",
       "      <td>-66</td>\n",
       "      <td>-66</td>\n",
       "      <td>...</td>\n",
       "      <td>-77</td>\n",
       "      <td>-77</td>\n",
       "      <td>-77</td>\n",
       "      <td>-77</td>\n",
       "      <td>-77</td>\n",
       "      <td>-77</td>\n",
       "      <td>-77</td>\n",
       "      <td>-77</td>\n",
       "      <td>-77</td>\n",
       "      <td>-77</td>\n",
       "    </tr>\n",
       "    <tr>\n",
       "      <th>2</th>\n",
       "      <td>181</td>\n",
       "      <td>0</td>\n",
       "      <td>0</td>\n",
       "      <td>31</td>\n",
       "      <td>7356546</td>\n",
       "      <td>-77</td>\n",
       "      <td>865</td>\n",
       "      <td>-66</td>\n",
       "      <td>1</td>\n",
       "      <td>-66</td>\n",
       "      <td>...</td>\n",
       "      <td>-77</td>\n",
       "      <td>-77</td>\n",
       "      <td>-77</td>\n",
       "      <td>-77</td>\n",
       "      <td>-77</td>\n",
       "      <td>-77</td>\n",
       "      <td>-77</td>\n",
       "      <td>-77</td>\n",
       "      <td>-77</td>\n",
       "      <td>-77</td>\n",
       "    </tr>\n",
       "    <tr>\n",
       "      <th>3</th>\n",
       "      <td>182</td>\n",
       "      <td>0</td>\n",
       "      <td>0</td>\n",
       "      <td>31</td>\n",
       "      <td>7356546</td>\n",
       "      <td>-77</td>\n",
       "      <td>536</td>\n",
       "      <td>-66</td>\n",
       "      <td>2</td>\n",
       "      <td>-66</td>\n",
       "      <td>...</td>\n",
       "      <td>7356565</td>\n",
       "      <td>7356566</td>\n",
       "      <td>7356563</td>\n",
       "      <td>7356561</td>\n",
       "      <td>-77</td>\n",
       "      <td>-77</td>\n",
       "      <td>-77</td>\n",
       "      <td>-77</td>\n",
       "      <td>-77</td>\n",
       "      <td>-77</td>\n",
       "    </tr>\n",
       "    <tr>\n",
       "      <th>4</th>\n",
       "      <td>184</td>\n",
       "      <td>0</td>\n",
       "      <td>0</td>\n",
       "      <td>31</td>\n",
       "      <td>7356546</td>\n",
       "      <td>-77</td>\n",
       "      <td>680</td>\n",
       "      <td>1</td>\n",
       "      <td>-66</td>\n",
       "      <td>970</td>\n",
       "      <td>...</td>\n",
       "      <td>-77</td>\n",
       "      <td>-77</td>\n",
       "      <td>-77</td>\n",
       "      <td>-77</td>\n",
       "      <td>-77</td>\n",
       "      <td>-77</td>\n",
       "      <td>-77</td>\n",
       "      <td>-77</td>\n",
       "      <td>-77</td>\n",
       "      <td>-77</td>\n",
       "    </tr>\n",
       "  </tbody>\n",
       "</table>\n",
       "<p>5 rows × 561 columns</p>\n",
       "</div>"
      ],
      "text/plain": [
       "   lfdn  external_lfdn  tester  dispcode  lastpage  quality  duration  c_0001  \\\n",
       "0   176              0       0        31   7356546      -77       783       3   \n",
       "1   178              0       0        31   7356546      -77      1691       2   \n",
       "2   181              0       0        31   7356546      -77       865     -66   \n",
       "3   182              0       0        31   7356546      -77       536     -66   \n",
       "4   184              0       0        31   7356546      -77       680       1   \n",
       "\n",
       "   c_0002  c_0003  ...  rnd_pg_7356560_3  rnd_pg_7356560_4  rnd_pg_7356560_5  \\\n",
       "0     -66     -66  ...               -77               -77               -77   \n",
       "1     -66     -66  ...               -77               -77               -77   \n",
       "2       1     -66  ...               -77               -77               -77   \n",
       "3       2     -66  ...           7356565           7356566           7356563   \n",
       "4     -66     970  ...               -77               -77               -77   \n",
       "\n",
       "   rnd_pg_7356560_6  rnd_pg_7356570_1  rnd_pg_7356570_2  rnd_pg_7356570_3  \\\n",
       "0               -77               -77               -77               -77   \n",
       "1               -77               -77               -77               -77   \n",
       "2               -77               -77               -77               -77   \n",
       "3           7356561               -77               -77               -77   \n",
       "4               -77               -77               -77               -77   \n",
       "\n",
       "   rnd_pg_7356570_4  rnd_pg_7356570_5  rnd_pg_7356570_6  \n",
       "0               -77               -77               -77  \n",
       "1               -77               -77               -77  \n",
       "2               -77               -77               -77  \n",
       "3               -77               -77               -77  \n",
       "4               -77               -77               -77  \n",
       "\n",
       "[5 rows x 561 columns]"
      ]
     },
     "execution_count": 41,
     "metadata": {},
     "output_type": "execute_result"
    }
   ],
   "source": [
    "df.head()"
   ]
  },
  {
   "cell_type": "code",
   "execution_count": 42,
   "id": "e044f408",
   "metadata": {},
   "outputs": [],
   "source": [
    "df['priming'] = df['c_0001'].replace(-66, np.nan).fillna(df['c_0002']).astype(int)\n"
   ]
  },
  {
   "cell_type": "code",
   "execution_count": 43,
   "id": "a17e9fb3",
   "metadata": {},
   "outputs": [],
   "source": [
    "def classify_professional(row):\n",
    "    # Check if any CVPA score is less than 2\n",
    "    cvpa_columns = ['v_8978', 'v_9154', 'v_9155', 'v_9156', 'v_9157', 'v_9158', 'v_9159', 'v_9160', 'v_9308']\n",
    "    for col in cvpa_columns:\n",
    "        if row[col] < 2:\n",
    "            return False\n",
    "    \n",
    "    # Check if sum of CVPA scores is less than 34\n",
    "    cvpa_sum = sum(row[col] for col in cvpa_columns)\n",
    "    if cvpa_sum < 34:\n",
    "        return False\n",
    "    \n",
    "    # Count correct answers for knowledge questions\n",
    "    correct_answers = 0\n",
    "    knowledge_answers = {\n",
    "        'v_206': 3,\n",
    "        'v_207': 3,\n",
    "        'v_208': 2,\n",
    "        'v_209': 2,\n",
    "        'v_210': 3,\n",
    "        'v_211': 3,\n",
    "        'v_212': 2,\n",
    "        'v_213': 4,\n",
    "        'v_214': 1,\n",
    "        'v_215': 3\n",
    "    }\n",
    "    \n",
    "    for col, correct_value in knowledge_answers.items():\n",
    "        if col in row and row[col] == correct_value:\n",
    "            correct_answers += 1\n",
    "    \n",
    "    # Check if correct answers is less than 6\n",
    "    if correct_answers < 6:\n",
    "        return False\n",
    "    \n",
    "    return True\n",
    "\n",
    "# Apply the classification function to create a new column\n",
    "df['is_professional'] = df.apply(classify_professional, axis=1)"
   ]
  },
  {
   "cell_type": "code",
   "execution_count": 44,
   "id": "366dabb3",
   "metadata": {},
   "outputs": [
    {
     "data": {
      "image/png": "[encoded data removed]",
      "text/plain": [
       "<Figure size 640x480 with 1 Axes>"
      ]
     },
     "metadata": {},
     "output_type": "display_data"
    }
   ],
   "source": [
    "counts = df['is_professional'].value_counts()\n",
    "ax = counts.plot(kind='bar', title='Professional Classification Distribution')\n",
    "ax.set_xlabel('Professional Classification')\n",
    "ax.set_ylabel('Count')\n",
    "\n",
    "# Add value labels on top of bars\n",
    "for i, v in enumerate(counts.values):\n",
    "    ax.text(i, v + 1, str(v), ha='center', va='bottom')\n",
    "\n",
    "plt.show()"
   ]
  },
  {
   "cell_type": "markdown",
   "id": "cd335715",
   "metadata": {},
   "source": [
    "## Forschungsfrage\n",
    "- Hat die persönliche Expertise von\n",
    "Konsument:innen einen Einfluss auf\n",
    "Präferenzen und Preiserwartungen von\n",
    "stilistisch konsistenten und\n",
    "inkonsistenten Produktensembles."
   ]
  },
  {
   "cell_type": "markdown",
   "id": "f566203c",
   "metadata": {},
   "source": [
    "## Hypothesen\n",
    "\n",
    "### Hypothesen zu Präferenzen:\n",
    "**H0₁:** Persönliche Expertise hat **keinen** Einfluss auf die Präferenzen für stilistisch konsistente vs. inkonsistente Produktensembles.\n",
    "- μ_Experten = μ_Nicht-Experten (bezüglich Präferenzwerten)\n",
    "\n",
    "**H1₁:** Persönliche Expertise hat einen **signifikanten** Einfluss auf die Präferenzen für stilistisch konsistente vs. inkonsistente Produktensembles.\n",
    "- μ_Experten ≠ μ_Nicht-Experten (bezüglich Präferenzwerten)\n",
    "\n",
    "### Hypothesen zu Preiserwartungen:\n",
    "**H0₂:** Persönliche Expertise hat **keinen** Einfluss auf die Preiserwartungen für stilistisch konsistente vs. inkonsistente Produktensembles.\n",
    "- μ_Experten = μ_Nicht-Experten (bezüglich Preiserwartungen)\n",
    "\n",
    "**H1₂:** Persönliche Expertise hat einen **signifikanten** Einfluss auf die Preiserwartungen für stilistisch konsistente vs. inkonsistente Produktensembles.\n",
    "- μ_Experten ≠ μ_Nicht-Experten (bezüglich Preiserwartungen)\n",
    "\n",
    "### Statistische Tests:\n",
    "- **Unabhängige t-Tests** für Mittelwertvergleiche zwischen Experten (`is_professional = True`) und Nicht-Experten (`is_professional = False`)\n",
    "- **Signifikanzniveau:** α = 0.05\n",
    "- **Zweiseitige Tests** (da keine gerichtete Hypothese vorliegt)"
   ]
  },
  {
   "cell_type": "markdown",
   "id": "72959491",
   "metadata": {},
   "source": [
    "## Variablen\n",
    "### Abhängige Variablen (AV)\n",
    "\n",
    "- **Preiserwartung**  \n",
    "  Für welchen Preis würden Sie erwarten, dass das Produkt/Ensemble angeboten wird? (metrisch)  \n",
    "  - einzeln  \n",
    "  - ensemble  \n",
    "  - korrektur ensemble\n",
    "\n",
    "- **Objektive Einzelbewertung (Liking)**  \n",
    "  - minderwertig ↔ hochwertig (Likert-Skala)  \n",
    "  - einfach ↔ luxuriös (Likert-Skala)  \n",
    "  - billig ↔ teuer (Likert-Skala)\n",
    "\n",
    "- **Subjektive Einzelbewertung (Liking)**  \n",
    "  - Das Produkt gefällt mir gut. (Likert-Skala)  \n",
    "  - Ich mag das Produkt. (Likert-Skala)  \n",
    "  - Ich finde das Produkt ansprechend. (Likert-Skala)\n",
    "\n",
    "- **Objektive Ensemble-Bewertung**  \n",
    "  - minderwertig ↔ hochwertig (Likert-Skala)  \n",
    "  - einfach ↔ luxuriös (Likert-Skala)  \n",
    "  - billig ↔ teuer (Likert-Skala)\n",
    "\n",
    "- **Subjektive Ensemble-Bewertung**  \n",
    "  - Das Ensemble gefällt mir gut. (Likert-Skala)  \n",
    "  - Ich mag das Ensemble. (Likert-Skala)  \n",
    "  - Ich finde das Ensemble ansprechend. (Likert-Skala)\n",
    "\n",
    "- **Produktdarstellung**  \n",
    "  - Die Kombination vermittelt mir relevante Informationen über die Produkte. (Likert-Skala)  \n",
    "  - Die gezeigte Zusammenstellung hilft mir, die Produkte besser zu verstehen. (Likert-Skala)  \n",
    "  - Die Präsentation erleichtert es mir, die Produkte zu beurteilen. (Likert-Skala)  \n",
    "  - Durch die Präsentation kann ich mir vorstellen, welche Personen dieses Outfit tragen würden. (Likert-Skala)  \n",
    "  - Durch die Präsentation kann ich mir vorstellen, in welchen beruflichen Situationen das Outfit getragen wird. (Likert-Skala)  \n",
    "  - Ich verstehe, wie man die Teile elegant, seriös und professionell kombiniert. (Likert-Skala)\n",
    "\n",
    "- **Bewertungsleichtigkeit**  \n",
    "  - Es fällt mir leicht, das Outfit zu bewerten. (Likert-Skala)  \n",
    "  - Ich erfasse das Outfit visuell schnell. (Likert-Skala)  \n",
    "  - Ich kann mir das Outfit mit geschlossenen Augen in Erinnerung rufen. (Likert-Skala)  \n",
    "  - Ich kann das Outfit später einer anderen Person beschreiben. (Likert-Skala)\n",
    "\n",
    "- **Gesamtwirkung**  \n",
    "  - uneinheitlich ↔ einheitlich (Likert-Skala)  \n",
    "  - unstimmig ↔ stimmig (Likert-Skala)  \n",
    "  - unharmonisch ↔ harmonisch (Likert-Skala)\n",
    "\n",
    "- **Stileinordnung**  \n",
    "  - Hippie (Likert-Skala)  \n",
    "  - Hip Hop / Active Wear (Likert-Skala)  \n",
    "  - Boho (Likert-Skala)\n",
    "\n",
    "---\n",
    "\n",
    "### Unabhängige Variablen (UV)\n",
    "\n",
    "\n",
    "- **Priming-Konsistenz**  \n",
    "  - konsistentes Ensemble  \n",
    "  - inkonsistentes Ensemble  \n",
    "  - inkonsistentes Ensemble mit nichtansprechendem Oberteil\n",
    "\n",
    "- **Stilrichtung**  \n",
    "  - Hippie × Minimalistisch\n",
    "\n",
    "- **Produktkategorie**  \n",
    "  - Oberteil\n",
    "\n",
    "- **Expertenstatus**  \n",
    "  - Experte vs. Nicht-Experte (gemäß Faktenwissen & CVPA)\n",
    "\n",
    "> **Design:** 3 × 2-Faktor (Priming-Konsistenz × Expertenstatus), between-subjects\n",
    "\n",
    "---\n",
    "\n",
    "### Kontroll- und Störvariablen\n",
    "\n",
    "- **Demografische Variablen**  \n",
    "  - Alter (metrisch, Jahre)  \n",
    "  - Geschlecht (nominal, z. B. m/w/d)  \n",
    "  - Einkommen (metrisch oder ordinal gruppiert)  \n",
    "  - Bildungsgrad (ordinal)  \n",
    "  - Beruf (nominal)\n",
    "\n",
    "- **Berufserfahrung**  \n",
    "  - (metrisch, Jahre)\n",
    "\n",
    "- **CVPA-Score**  \n",
    "  - (metrisch)\n",
    "\n",
    "- **Faktenwissen-Score**  \n",
    "  - (metrisch)\n"
   ]
  },
  {
   "cell_type": "markdown",
   "id": "0cd303a5",
   "metadata": {},
   "source": [
    "## Überprüfung der Hypothesen\n",
    "\n",
    "---\n",
    "\n",
    "### Hypothese 1 (Präferenzwerte)\n",
    "- **Hypothese:**  \n",
    "  - H₀₁: μ$_{Experten}$ = μ$_{NOT-Experten}$\n",
    "  - H₁₁: μ$_{Experten}$ ≠ μ$_{NOT-Experten}$\n",
    "- **Variable:**  \n",
    "  - Liking - Mittelwert\n",
    "- **Methode:**  \n",
    "  - **Unabhängiger t-Test** (zweiseitig)  \n",
    "    - *Warum:* Vergleich von Mittelwerten zweier unabhängiger Gruppen bei intervallskaliertem DV  \n",
    "- **Voraussetzungen prüfen:**  \n",
    "  - **Normalverteilung** der Liking in beiden Gruppen (Shapiro-Wilk-Test)\n",
    "  - **Varianzhomogenität** (Levene-Test)  \n",
    "- **Alternative bei Verletzung:**  \n",
    "  - **Mann-Whitney-U-Test** (zweiseitig)  \n",
    "    - *Warum:* Kein parametrischer Test, robust gegen Normalitätsverletzung  \n",
    "- **Effektstärke:**  \n",
    "  - Cohen’s d (t-Test) oder Rang-Biseriale Korrelation (Mann-Whitney)\n",
    "\n",
    "---\n",
    "\n",
    "### Hypothese 2 (Preiserwartungen)\n",
    "- **Hypothese:**  \n",
    "  - H₀₂: μ$_{Experten}$ = μ$_{NOT-Experten}$\n",
    "  - H₁₂: μ$_{Experten}$ ≠ μ$_{NOT-Experten}$\n",
    "- **Variable:**  \n",
    "  - Preiserwartung\n",
    "- **Statistisches Mittel & Vorgehen:**  \n",
    "  - Analog zu Hypothese 1 (t-Test, Voraussetzungen, Alternative, Effektstärke)\n",
    "\n",
    "---\n",
    "\n",
    "### Signifikanz & Bericht\n",
    "- **α = 0,05** (zweiseitig)  \n",
    "- **Bericht:**  \n",
    "  - Teststatistik (t-Wert bzw. U-Wert), p-Wert, Effektstärke  \n",
    "  - Überprüfung der Testvoraussetzungen dokumentieren  \n"
   ]
  },
  {
   "cell_type": "code",
   "execution_count": 45,
   "id": "d96c631a",
   "metadata": {},
   "outputs": [
    {
     "data": {
      "image/png": "[encoded data removed]",
      "text/plain": [
       "<Figure size 640x480 with 1 Axes>"
      ]
     },
     "metadata": {},
     "output_type": "display_data"
    }
   ],
   "source": [
    "# Distribution of priming levels\n",
    "filtered_rows = df[df['is_professional']].copy()\n",
    "priming_counts = filtered_rows['priming'].value_counts()\n",
    "ax = priming_counts.plot(kind='bar', title='Priming Distribution Experte')\n",
    "ax.set_xlabel('Priming')\n",
    "ax.set_ylabel('Count')\n",
    "ax.set_yticks(range(0, priming_counts.max() + 5, 5))\n",
    "\n",
    "# Add value labels on top of bars\n",
    "for i, v in enumerate(priming_counts.values):\n",
    "    ax.text(i, v + 1, str(v), ha='center', va='bottom')\n",
    "\n",
    "plt.show()"
   ]
  },
  {
   "cell_type": "code",
   "execution_count": 46,
   "id": "f24e9d36",
   "metadata": {},
   "outputs": [
    {
     "data": {
      "image/png": "[encoded data removed]",
      "text/plain": [
       "<Figure size 640x480 with 1 Axes>"
      ]
     },
     "metadata": {},
     "output_type": "display_data"
    }
   ],
   "source": [
    "# Alternative priming distribution (column c_0002 replaced)\n",
    "# Using combined 'priming' column instead\n",
    "priming_counts = df['priming'].value_counts()\n",
    "ax = priming_counts.plot(kind='bar', title='Priming Distribution')\n",
    "ax.set_xlabel('Priming')\n",
    "ax.set_ylabel('Count')\n",
    "ax.set_yticks(range(0, priming_counts.max() + 5, 5))\n",
    "\n",
    "# Add value labels on top of bars\n",
    "for i, v in enumerate(priming_counts.values):\n",
    "    ax.text(i, v + 1, str(v), ha='center', va='bottom')\n",
    "\n",
    "plt.show()"
   ]
  },
  {
   "cell_type": "code",
   "execution_count": 47,
   "id": "c3bcac53",
   "metadata": {},
   "outputs": [
    {
     "data": {
      "application/vnd.microsoft.datawrangler.viewer.v0+json": {
       "columns": [
        {
         "name": "index",
         "rawType": "int64",
         "type": "integer"
        },
        {
         "name": "priming",
         "rawType": "int64",
         "type": "integer"
        },
        {
         "name": "is_professional",
         "rawType": "bool",
         "type": "boolean"
        },
        {
         "name": "Q1",
         "rawType": "int64",
         "type": "integer"
        },
        {
         "name": "Q2",
         "rawType": "int64",
         "type": "integer"
        },
        {
         "name": "Q3",
         "rawType": "int64",
         "type": "integer"
        },
        {
         "name": "Q4",
         "rawType": "int64",
         "type": "integer"
        },
        {
         "name": "Q5",
         "rawType": "int64",
         "type": "integer"
        },
        {
         "name": "Q6",
         "rawType": "int64",
         "type": "integer"
        },
        {
         "name": "Q7",
         "rawType": "int64",
         "type": "integer"
        },
        {
         "name": "Q8",
         "rawType": "int64",
         "type": "integer"
        },
        {
         "name": "Q9",
         "rawType": "int64",
         "type": "integer"
        },
        {
         "name": "Q10",
         "rawType": "int64",
         "type": "integer"
        },
        {
         "name": "Q11",
         "rawType": "int64",
         "type": "integer"
        },
        {
         "name": "Q12",
         "rawType": "int64",
         "type": "integer"
        },
        {
         "name": "Q13",
         "rawType": "int64",
         "type": "integer"
        },
        {
         "name": "Q14",
         "rawType": "int64",
         "type": "integer"
        },
        {
         "name": "Q15",
         "rawType": "int64",
         "type": "integer"
        },
        {
         "name": "Q16",
         "rawType": "int64",
         "type": "integer"
        },
        {
         "name": "Q17",
         "rawType": "int64",
         "type": "integer"
        },
        {
         "name": "Q18",
         "rawType": "int64",
         "type": "integer"
        },
        {
         "name": "Q19",
         "rawType": "int64",
         "type": "integer"
        },
        {
         "name": "Q20",
         "rawType": "int64",
         "type": "integer"
        },
        {
         "name": "Q21",
         "rawType": "int64",
         "type": "integer"
        },
        {
         "name": "Q22",
         "rawType": "int64",
         "type": "integer"
        },
        {
         "name": "Q23",
         "rawType": "int64",
         "type": "integer"
        },
        {
         "name": "Q24",
         "rawType": "int64",
         "type": "integer"
        },
        {
         "name": "Q25",
         "rawType": "int64",
         "type": "integer"
        },
        {
         "name": "Q26",
         "rawType": "int64",
         "type": "integer"
        },
        {
         "name": "Q27",
         "rawType": "int64",
         "type": "integer"
        },
        {
         "name": "Q28",
         "rawType": "int64",
         "type": "integer"
        },
        {
         "name": "Q29",
         "rawType": "int64",
         "type": "integer"
        },
        {
         "name": "Q30",
         "rawType": "int64",
         "type": "integer"
        },
        {
         "name": "Q31",
         "rawType": "int64",
         "type": "integer"
        },
        {
         "name": "Q32",
         "rawType": "int64",
         "type": "integer"
        },
        {
         "name": "Q33",
         "rawType": "int64",
         "type": "integer"
        },
        {
         "name": "Q34",
         "rawType": "int64",
         "type": "integer"
        },
        {
         "name": "Q35",
         "rawType": "int64",
         "type": "integer"
        },
        {
         "name": "Q36",
         "rawType": "int64",
         "type": "integer"
        },
        {
         "name": "Q37",
         "rawType": "int64",
         "type": "integer"
        },
        {
         "name": "Q38",
         "rawType": "int64",
         "type": "integer"
        },
        {
         "name": "Q39",
         "rawType": "int64",
         "type": "integer"
        },
        {
         "name": "Q40",
         "rawType": "int64",
         "type": "integer"
        },
        {
         "name": "Q41",
         "rawType": "int64",
         "type": "integer"
        },
        {
         "name": "Q42",
         "rawType": "int64",
         "type": "integer"
        },
        {
         "name": "Q43",
         "rawType": "int64",
         "type": "integer"
        },
        {
         "name": "Q44",
         "rawType": "int64",
         "type": "integer"
        },
        {
         "name": "Q45",
         "rawType": "int64",
         "type": "integer"
        },
        {
         "name": "Q46",
         "rawType": "int64",
         "type": "integer"
        },
        {
         "name": "Q47",
         "rawType": "int64",
         "type": "integer"
        },
        {
         "name": "Q48",
         "rawType": "int64",
         "type": "integer"
        },
        {
         "name": "Q49",
         "rawType": "int64",
         "type": "integer"
        },
        {
         "name": "Q50",
         "rawType": "int64",
         "type": "integer"
        },
        {
         "name": "Q51",
         "rawType": "int64",
         "type": "integer"
        },
        {
         "name": "Q52",
         "rawType": "int64",
         "type": "integer"
        },
        {
         "name": "Q53",
         "rawType": "int64",
         "type": "integer"
        },
        {
         "name": "Q54",
         "rawType": "int64",
         "type": "integer"
        },
        {
         "name": "Q55",
         "rawType": "int64",
         "type": "integer"
        },
        {
         "name": "Q56",
         "rawType": "int64",
         "type": "integer"
        },
        {
         "name": "Q57",
         "rawType": "int64",
         "type": "integer"
        },
        {
         "name": "Q58",
         "rawType": "int64",
         "type": "integer"
        },
        {
         "name": "Q59",
         "rawType": "int64",
         "type": "integer"
        },
        {
         "name": "Q60",
         "rawType": "int64",
         "type": "integer"
        },
        {
         "name": "Q61",
         "rawType": "int64",
         "type": "integer"
        },
        {
         "name": "Q62",
         "rawType": "int64",
         "type": "integer"
        },
        {
         "name": "Q63",
         "rawType": "int64",
         "type": "integer"
        },
        {
         "name": "Q64",
         "rawType": "int64",
         "type": "integer"
        },
        {
         "name": "Q65",
         "rawType": "int64",
         "type": "integer"
        },
        {
         "name": "Q66",
         "rawType": "int64",
         "type": "integer"
        },
        {
         "name": "Q67",
         "rawType": "int64",
         "type": "integer"
        },
        {
         "name": "Q68",
         "rawType": "int64",
         "type": "integer"
        },
        {
         "name": "Q69",
         "rawType": "int64",
         "type": "integer"
        },
        {
         "name": "Q70",
         "rawType": "int64",
         "type": "integer"
        },
        {
         "name": "Q71",
         "rawType": "int64",
         "type": "integer"
        },
        {
         "name": "Q72",
         "rawType": "int64",
         "type": "integer"
        },
        {
         "name": "Q73",
         "rawType": "int64",
         "type": "integer"
        },
        {
         "name": "Q74",
         "rawType": "int64",
         "type": "integer"
        },
        {
         "name": "Q75",
         "rawType": "int64",
         "type": "integer"
        },
        {
         "name": "Q76",
         "rawType": "int64",
         "type": "integer"
        },
        {
         "name": "Q77",
         "rawType": "int64",
         "type": "integer"
        },
        {
         "name": "Q78",
         "rawType": "int64",
         "type": "integer"
        },
        {
         "name": "Q79",
         "rawType": "int64",
         "type": "integer"
        },
        {
         "name": "Q80",
         "rawType": "int64",
         "type": "integer"
        },
        {
         "name": "Q81",
         "rawType": "int64",
         "type": "integer"
        },
        {
         "name": "Q82",
         "rawType": "int64",
         "type": "integer"
        },
        {
         "name": "Q83",
         "rawType": "int64",
         "type": "integer"
        },
        {
         "name": "Q84",
         "rawType": "int64",
         "type": "integer"
        },
        {
         "name": "Q85",
         "rawType": "int64",
         "type": "integer"
        },
        {
         "name": "Q86",
         "rawType": "int64",
         "type": "integer"
        },
        {
         "name": "Q87",
         "rawType": "int64",
         "type": "integer"
        },
        {
         "name": "Q88",
         "rawType": "int64",
         "type": "integer"
        },
        {
         "name": "Q89",
         "rawType": "int64",
         "type": "integer"
        },
        {
         "name": "Q90",
         "rawType": "int64",
         "type": "integer"
        },
        {
         "name": "Q91",
         "rawType": "int64",
         "type": "integer"
        },
        {
         "name": "Q92",
         "rawType": "int64",
         "type": "integer"
        },
        {
         "name": "Q93",
         "rawType": "int64",
         "type": "integer"
        },
        {
         "name": "Q94",
         "rawType": "int64",
         "type": "integer"
        },
        {
         "name": "Q95",
         "rawType": "int64",
         "type": "integer"
        },
        {
         "name": "Q96",
         "rawType": "int64",
         "type": "integer"
        },
        {
         "name": "Q97",
         "rawType": "int64",
         "type": "integer"
        },
        {
         "name": "Q98",
         "rawType": "int64",
         "type": "integer"
        },
        {
         "name": "Q99",
         "rawType": "int64",
         "type": "integer"
        }
       ],
       "ref": "f4c4a052-8d22-4e99-b1be-04664b894ea6",
       "rows": [
        [
         "0",
         "3",
         "True",
         "2",
         "0",
         "0",
         "0",
         "0",
         "0",
         "0",
         "0",
         "0",
         "1",
         "4",
         "2",
         "2",
         "2",
         "2",
         "3",
         "2",
         "2",
         "4",
         "1",
         "3",
         "5",
         "4",
         "4",
         "4",
         "4",
         "4",
         "5",
         "4",
         "4",
         "90",
         "3",
         "3",
         "3",
         "4",
         "3",
         "4",
         "65",
         "4",
         "4",
         "3",
         "3",
         "3",
         "4",
         "290",
         "4",
         "3",
         "3",
         "5",
         "4",
         "5",
         "110",
         "4",
         "3",
         "3",
         "4",
         "3",
         "4",
         "150",
         "3",
         "3",
         "3",
         "4",
         "4",
         "4",
         "350",
         "3",
         "3",
         "3",
         "4",
         "4",
         "4",
         "1055",
         "3",
         "3",
         "3",
         "4",
         "4",
         "4",
         "2",
         "4",
         "2",
         "3",
         "2",
         "3",
         "3",
         "4",
         "4",
         "4",
         "5",
         "4",
         "3",
         "4",
         "3",
         "2",
         "51",
         "1",
         "2",
         "4"
        ],
        [
         "1",
         "2",
         "True",
         "1",
         "1",
         "1",
         "0",
         "1",
         "0",
         "0",
         "0",
         "0",
         "0",
         "4",
         "2",
         "3",
         "2",
         "4",
         "3",
         "3",
         "2",
         "4",
         "1",
         "3",
         "4",
         "4",
         "5",
         "3",
         "4",
         "4",
         "5",
         "4",
         "4",
         "55",
         "3",
         "3",
         "3",
         "4",
         "4",
         "4",
         "70",
         "4",
         "4",
         "4",
         "4",
         "4",
         "4",
         "120",
         "4",
         "4",
         "4",
         "4",
         "4",
         "4",
         "18",
         "1",
         "1",
         "1",
         "1",
         "1",
         "1",
         "80",
         "3",
         "3",
         "3",
         "3",
         "3",
         "3",
         "25",
         "2",
         "2",
         "2",
         "2",
         "2",
         "2",
         "300",
         "3",
         "3",
         "3",
         "4",
         "4",
         "4",
         "2",
         "2",
         "2",
         "4",
         "3",
         "4",
         "4",
         "5",
         "5",
         "5",
         "5",
         "5",
         "4",
         "5",
         "1",
         "1",
         "47",
         "1",
         "2",
         "4"
        ],
        [
         "2",
         "1",
         "False",
         "2",
         "0",
         "0",
         "0",
         "0",
         "0",
         "0",
         "0",
         "0",
         "1",
         "4",
         "1",
         "2",
         "4",
         "3",
         "3",
         "2",
         "2",
         "2",
         "3",
         "2",
         "4",
         "4",
         "4",
         "2",
         "1",
         "2",
         "4",
         "2",
         "4",
         "850",
         "4",
         "4",
         "4",
         "4",
         "4",
         "4",
         "230",
         "4",
         "4",
         "4",
         "3",
         "3",
         "2",
         "750",
         "5",
         "5",
         "5",
         "4",
         "5",
         "4",
         "300",
         "4",
         "4",
         "4",
         "5",
         "5",
         "5",
         "250",
         "4",
         "4",
         "4",
         "4",
         "4",
         "4",
         "450",
         "5",
         "5",
         "5",
         "4",
         "5",
         "5",
         "2830",
         "4",
         "5",
         "5",
         "4",
         "4",
         "4",
         "4",
         "4",
         "3",
         "4",
         "3",
         "4",
         "4",
         "4",
         "4",
         "4",
         "5",
         "5",
         "4",
         "4",
         "2",
         "2",
         "60",
         "2",
         "2",
         "5"
        ],
        [
         "3",
         "2",
         "False",
         "2",
         "0",
         "0",
         "0",
         "0",
         "0",
         "0",
         "0",
         "0",
         "0",
         "0",
         "5",
         "5",
         "5",
         "5",
         "3",
         "5",
         "5",
         "4",
         "5",
         "3",
         "5",
         "3",
         "4",
         "3",
         "4",
         "3",
         "4",
         "4",
         "3",
         "70",
         "3",
         "2",
         "3",
         "3",
         "3",
         "3",
         "75",
         "3",
         "4",
         "4",
         "2",
         "2",
         "2",
         "300",
         "4",
         "3",
         "4",
         "2",
         "2",
         "2",
         "200",
         "4",
         "4",
         "4",
         "3",
         "3",
         "3",
         "175",
         "4",
         "3",
         "4",
         "4",
         "3",
         "4",
         "500",
         "4",
         "2",
         "4",
         "3",
         "3",
         "2",
         "900",
         "4",
         "3",
         "4",
         "4",
         "3",
         "3",
         "4",
         "4",
         "4",
         "5",
         "5",
         "5",
         "4",
         "4",
         "4",
         "4",
         "5",
         "5",
         "5",
         "4",
         "1",
         "1",
         "22",
         "1",
         "1",
         "1"
        ],
        [
         "4",
         "1",
         "True",
         "2",
         "0",
         "0",
         "0",
         "1",
         "0",
         "0",
         "0",
         "0",
         "0",
         "2",
         "3",
         "3",
         "2",
         "2",
         "3",
         "2",
         "2",
         "4",
         "1",
         "3",
         "5",
         "4",
         "5",
         "4",
         "4",
         "3",
         "3",
         "4",
         "5",
         "180",
         "5",
         "4",
         "5",
         "5",
         "5",
         "5",
         "50",
         "3",
         "3",
         "4",
         "3",
         "4",
         "3",
         "300",
         "5",
         "5",
         "5",
         "4",
         "5",
         "5",
         "100",
         "5",
         "3",
         "5",
         "5",
         "5",
         "5",
         "120",
         "4",
         "4",
         "4",
         "3",
         "4",
         "4",
         "220",
         "5",
         "5",
         "4",
         "4",
         "4",
         "5",
         "1050",
         "5",
         "4",
         "5",
         "4",
         "5",
         "5",
         "4",
         "5",
         "3",
         "5",
         "4",
         "5",
         "4",
         "5",
         "5",
         "5",
         "4",
         "5",
         "4",
         "4",
         "1",
         "3",
         "19",
         "1",
         "1",
         "3"
        ]
       ],
       "shape": {
        "columns": 101,
        "rows": 5
       }
      },
      "text/html": [
       "<div>\n",
       "<style scoped>\n",
       "    .dataframe tbody tr th:only-of-type {\n",
       "        vertical-align: middle;\n",
       "    }\n",
       "\n",
       "    .dataframe tbody tr th {\n",
       "        vertical-align: top;\n",
       "    }\n",
       "\n",
       "    .dataframe thead th {\n",
       "        text-align: right;\n",
       "    }\n",
       "</style>\n",
       "<table border=\"1\" class=\"dataframe\">\n",
       "  <thead>\n",
       "    <tr style=\"text-align: right;\">\n",
       "      <th></th>\n",
       "      <th>priming</th>\n",
       "      <th>is_professional</th>\n",
       "      <th>Q1</th>\n",
       "      <th>Q2</th>\n",
       "      <th>Q3</th>\n",
       "      <th>Q4</th>\n",
       "      <th>Q5</th>\n",
       "      <th>Q6</th>\n",
       "      <th>Q7</th>\n",
       "      <th>Q8</th>\n",
       "      <th>...</th>\n",
       "      <th>Q90</th>\n",
       "      <th>Q91</th>\n",
       "      <th>Q92</th>\n",
       "      <th>Q93</th>\n",
       "      <th>Q94</th>\n",
       "      <th>Q95</th>\n",
       "      <th>Q96</th>\n",
       "      <th>Q97</th>\n",
       "      <th>Q98</th>\n",
       "      <th>Q99</th>\n",
       "    </tr>\n",
       "  </thead>\n",
       "  <tbody>\n",
       "    <tr>\n",
       "      <th>0</th>\n",
       "      <td>3</td>\n",
       "      <td>True</td>\n",
       "      <td>2</td>\n",
       "      <td>0</td>\n",
       "      <td>0</td>\n",
       "      <td>0</td>\n",
       "      <td>0</td>\n",
       "      <td>0</td>\n",
       "      <td>0</td>\n",
       "      <td>0</td>\n",
       "      <td>...</td>\n",
       "      <td>5</td>\n",
       "      <td>4</td>\n",
       "      <td>3</td>\n",
       "      <td>4</td>\n",
       "      <td>3</td>\n",
       "      <td>2</td>\n",
       "      <td>51</td>\n",
       "      <td>1</td>\n",
       "      <td>2</td>\n",
       "      <td>4</td>\n",
       "    </tr>\n",
       "    <tr>\n",
       "      <th>1</th>\n",
       "      <td>2</td>\n",
       "      <td>True</td>\n",
       "      <td>1</td>\n",
       "      <td>1</td>\n",
       "      <td>1</td>\n",
       "      <td>0</td>\n",
       "      <td>1</td>\n",
       "      <td>0</td>\n",
       "      <td>0</td>\n",
       "      <td>0</td>\n",
       "      <td>...</td>\n",
       "      <td>5</td>\n",
       "      <td>5</td>\n",
       "      <td>4</td>\n",
       "      <td>5</td>\n",
       "      <td>1</td>\n",
       "      <td>1</td>\n",
       "      <td>47</td>\n",
       "      <td>1</td>\n",
       "      <td>2</td>\n",
       "      <td>4</td>\n",
       "    </tr>\n",
       "    <tr>\n",
       "      <th>2</th>\n",
       "      <td>1</td>\n",
       "      <td>False</td>\n",
       "      <td>2</td>\n",
       "      <td>0</td>\n",
       "      <td>0</td>\n",
       "      <td>0</td>\n",
       "      <td>0</td>\n",
       "      <td>0</td>\n",
       "      <td>0</td>\n",
       "      <td>0</td>\n",
       "      <td>...</td>\n",
       "      <td>5</td>\n",
       "      <td>5</td>\n",
       "      <td>4</td>\n",
       "      <td>4</td>\n",
       "      <td>2</td>\n",
       "      <td>2</td>\n",
       "      <td>60</td>\n",
       "      <td>2</td>\n",
       "      <td>2</td>\n",
       "      <td>5</td>\n",
       "    </tr>\n",
       "    <tr>\n",
       "      <th>3</th>\n",
       "      <td>2</td>\n",
       "      <td>False</td>\n",
       "      <td>2</td>\n",
       "      <td>0</td>\n",
       "      <td>0</td>\n",
       "      <td>0</td>\n",
       "      <td>0</td>\n",
       "      <td>0</td>\n",
       "      <td>0</td>\n",
       "      <td>0</td>\n",
       "      <td>...</td>\n",
       "      <td>5</td>\n",
       "      <td>5</td>\n",
       "      <td>5</td>\n",
       "      <td>4</td>\n",
       "      <td>1</td>\n",
       "      <td>1</td>\n",
       "      <td>22</td>\n",
       "      <td>1</td>\n",
       "      <td>1</td>\n",
       "      <td>1</td>\n",
       "    </tr>\n",
       "    <tr>\n",
       "      <th>4</th>\n",
       "      <td>1</td>\n",
       "      <td>True</td>\n",
       "      <td>2</td>\n",
       "      <td>0</td>\n",
       "      <td>0</td>\n",
       "      <td>0</td>\n",
       "      <td>1</td>\n",
       "      <td>0</td>\n",
       "      <td>0</td>\n",
       "      <td>0</td>\n",
       "      <td>...</td>\n",
       "      <td>4</td>\n",
       "      <td>5</td>\n",
       "      <td>4</td>\n",
       "      <td>4</td>\n",
       "      <td>1</td>\n",
       "      <td>3</td>\n",
       "      <td>19</td>\n",
       "      <td>1</td>\n",
       "      <td>1</td>\n",
       "      <td>3</td>\n",
       "    </tr>\n",
       "  </tbody>\n",
       "</table>\n",
       "<p>5 rows × 101 columns</p>\n",
       "</div>"
      ],
      "text/plain": [
       "   priming  is_professional  Q1  Q2  Q3  Q4  Q5  Q6  Q7  Q8  ...  Q90  Q91  \\\n",
       "0        3             True   2   0   0   0   0   0   0   0  ...    5    4   \n",
       "1        2             True   1   1   1   0   1   0   0   0  ...    5    5   \n",
       "2        1            False   2   0   0   0   0   0   0   0  ...    5    5   \n",
       "3        2            False   2   0   0   0   0   0   0   0  ...    5    5   \n",
       "4        1             True   2   0   0   0   1   0   0   0  ...    4    5   \n",
       "\n",
       "   Q92  Q93  Q94  Q95  Q96  Q97  Q98  Q99  \n",
       "0    3    4    3    2   51    1    2    4  \n",
       "1    4    5    1    1   47    1    2    4  \n",
       "2    4    4    2    2   60    2    2    5  \n",
       "3    5    4    1    1   22    1    1    1  \n",
       "4    4    4    1    3   19    1    1    3  \n",
       "\n",
       "[5 rows x 101 columns]"
      ]
     },
     "execution_count": 47,
     "metadata": {},
     "output_type": "execute_result"
    }
   ],
   "source": [
    "rename_map = dict()\n",
    "inverse_map = dict()\n",
    "def reduce_columns(row):\n",
    "    # Get all columns that start with 'v_'\n",
    "    v_columns = [col for col in row.index if col.startswith('v_')]\n",
    "\n",
    "    # Filter out columns that have negative values\n",
    "    valid_columns = ['priming', 'is_professional']  # Always include these columns\n",
    "    counter = 0\n",
    "    for col in v_columns:\n",
    "        try:\n",
    "            if int(row[col]) >= 0:\n",
    "                valid_columns.append(col)\n",
    "                counter += 1\n",
    "                if f\"Q{counter}\" not in rename_map:\n",
    "                    rename_map[f\"Q{counter}\"] = col\n",
    "                else:\n",
    "                    rename_map[f\"Q{counter}\"] += col\n",
    "                \n",
    "                if col not in inverse_map:\n",
    "                    inverse_map[col] = f\"Q{counter}\"\n",
    "                else:\n",
    "                    inverse_map[col] = f\"Q{counter}\"\n",
    "        except ValueError:\n",
    "            # If conversion to int fails, skip this column\n",
    "            continue\n",
    "    \n",
    "    # Create the result series with renamed columns\n",
    "    result = {}\n",
    "    for col in valid_columns:\n",
    "        if col in inverse_map:\n",
    "            # Use the Q-column name from inverse_map\n",
    "            result[inverse_map[col]] = row[col]\n",
    "        else:\n",
    "            # Keep original column name for non-v columns\n",
    "            result[col] = row[col]\n",
    "    \n",
    "    return pd.Series(result)\n",
    "    \n",
    "\n",
    "\n",
    "combined_df = df.apply(reduce_columns, axis=1)\n",
    "combined_df.head()"
   ]
  },
  {
   "cell_type": "code",
   "execution_count": 48,
   "id": "544b2c3e",
   "metadata": {},
   "outputs": [
    {
     "name": "stdout",
     "output_type": "stream",
     "text": [
      "{'Q42'}\n"
     ]
    }
   ],
   "source": [
    "def get_q_columns_from_v(v_cols, rename_map):\n",
    "    \"\"\"\n",
    "    Given a list of original 'v_' column names and the list of rename_maps,\n",
    "    return a set of corresponding new 'Q' column names across all subsets.\n",
    "    \"\"\"\n",
    "    q_cols_set = set()\n",
    "    for v in v_cols:\n",
    "        if v in rename_map:\n",
    "            q_cols_set.add(rename_map[v])\n",
    "    return q_cols_set\n",
    "\n",
    "# Example usage:\n",
    "q_set = get_q_columns_from_v(['v_10915'], inverse_map)\n",
    "print(q_set)"
   ]
  },
  {
   "cell_type": "code",
   "execution_count": 49,
   "id": "74827a18",
   "metadata": {},
   "outputs": [
    {
     "data": {
      "image/png": "[encoded data removed]",
      "text/plain": [
       "<Figure size 1000x600 with 1 Axes>"
      ]
     },
     "metadata": {},
     "output_type": "display_data"
    }
   ],
   "source": [
    "# Create a stacked bar chart showing distribution of responses\n",
    "response_counts = combined_df.groupby(['priming', 'Q24']).size().unstack(fill_value=0)\n",
    "ax = response_counts.plot(kind='bar', stacked=True, figsize=(10, 6), \n",
    "                         title='Distribution of Q24 Responses by Priming Condition')\n",
    "ax.legend(title='Likert Scale Response', bbox_to_anchor=(1.05, 1), loc='upper left')\n",
    "plt.suptitle('')  \n",
    "plt.xlabel('Priming Condition')\n",
    "plt.ylabel('Q20 Values')\n",
    "plt.show()"
   ]
  },
  {
   "cell_type": "code",
   "execution_count": 50,
   "id": "ccbe5e10",
   "metadata": {},
   "outputs": [
    {
     "name": "stderr",
     "output_type": "stream",
     "text": [
      "/var/folders/8p/nb94n7kd4ns03przjhvq8gy00000gn/T/ipykernel_19975/2094796301.py:8: PerformanceWarning: DataFrame is highly fragmented.  This is usually the result of calling `frame.insert` many times, which has poor performance.  Consider joining all columns at once using pd.concat(axis=1) instead. To get a de-fragmented frame, use `newframe = frame.copy()`\n",
      "  combined_df['mean_columns'] = combined_df[columns_to_analyze].mean(axis=1)\n"
     ]
    },
    {
     "data": {
      "image/png": "[encoded data removed]",
      "text/plain": [
       "<Figure size 1000x600 with 1 Axes>"
      ]
     },
     "metadata": {},
     "output_type": "display_data"
    }
   ],
   "source": [
    "q_set = get_q_columns_from_v(['v_10903','v_10904','v_10905'], inverse_map)\n",
    "# q_set = ['Q1', 'Q2', 'Q3', 'Q4', 'Q5', 'Q6', 'Q7']  # Example Q columns to analyze\n",
    "\n",
    "columns_to_analyze = list(q_set)\n",
    "\n",
    "# Calculate mean of the columns for each row, then average by priming condition\n",
    "if columns_to_analyze:\n",
    "    combined_df['mean_columns'] = combined_df[columns_to_analyze].mean(axis=1)\n",
    "    mean_by_priming = combined_df.groupby(['priming'])['mean_columns'].mean()\n",
    "    \n",
    "    # Create bar chart using matplotlib\n",
    "    fig, ax = plt.subplots(figsize=(10, 6))\n",
    "    mean_by_priming.plot(kind='bar', ax=ax, title='Wertigkeit nach Priming-Bedingung', color='skyblue')\n",
    "    ax.set_xlabel('Priming Condition')\n",
    "    ax.set_ylabel('Average Sum')\n",
    "    ax.set_xticklabels(ax.get_xticklabels(), rotation=0)\n",
    "    ax.set_yticks(range(0, 6, 1))\n",
    "    \n",
    "    # Add value labels on top of bars\n",
    "    for i, v in enumerate(mean_by_priming.values):\n",
    "        ax.text(i, v + 0.1, f'{v:.2f}', ha='center', va='bottom')\n",
    "    \n",
    "    plt.tight_layout()\n",
    "    plt.show()\n",
    "else:\n",
    "    print(\"No columns available for analysis\")"
   ]
  },
  {
   "cell_type": "code",
   "execution_count": 51,
   "id": "e9deb67b",
   "metadata": {},
   "outputs": [
    {
     "data": {
      "text/plain": [
       "<Figure size 1000x600 with 0 Axes>"
      ]
     },
     "metadata": {},
     "output_type": "display_data"
    },
    {
     "data": {
      "image/png": "[encoded data removed]",
      "text/plain": [
       "<Figure size 1000x600 with 1 Axes>"
      ]
     },
     "metadata": {},
     "output_type": "display_data"
    }
   ],
   "source": [
    "# Boxplot of mean_columns distribution by priming condition\n",
    "plt.figure(figsize=(10, 6))\n",
    "# Use pandas boxplot grouped by c_0001, whiskers to min/max to include all points\n",
    "combined_df.boxplot(column='mean_columns', by='priming', grid=False, figsize=(10, 6), whis=[0,100])\n",
    "plt.title('Wertigkeit des Outfits nach Priming-Bedingung (Experten)')\n",
    "plt.xlabel('Priming Condition ')\n",
    "plt.ylabel('Mean Sum of Columns')\n",
    "plt.suptitle('')  # clear the automatic suptitle\n",
    "plt.show()"
   ]
  },
  {
   "cell_type": "markdown",
   "id": "1dbdf78b",
   "metadata": {},
   "source": [
    "### Hypothese 1"
   ]
  },
  {
   "cell_type": "code",
   "execution_count": 52,
   "id": "a83e4e6f",
   "metadata": {},
   "outputs": [],
   "source": [
    "liking_columns = ['v_10959','v_10960','v_10961', 'v_10906','v_10907','v_10908','v_10915','v_10916','v_10917', 'v_10924','v_10925','v_10926', 'v_10933','v_10934','v_10935', 'v_10942','v_10943','v_10944', 'v_10951','v_10952','v_10953']"
   ]
  },
  {
   "cell_type": "code",
   "execution_count": 53,
   "id": "f78dd46c",
   "metadata": {},
   "outputs": [
    {
     "name": "stdout",
     "output_type": "stream",
     "text": [
      "Shapiro prim=3, prof=True: W=0.920, p=0.1477\n",
      "Shapiro prim=3, prof=False: W=0.962, p=0.3084\n",
      "Shapiro prim=2, prof=True: W=0.912, p=0.1254\n",
      "Shapiro prim=2, prof=False: W=0.928, p=0.0298\n",
      "Shapiro prim=1, prof=True: W=0.942, p=0.4380\n",
      "Shapiro prim=1, prof=False: W=0.974, p=0.5185\n"
     ]
    },
    {
     "name": "stderr",
     "output_type": "stream",
     "text": [
      "/var/folders/8p/nb94n7kd4ns03przjhvq8gy00000gn/T/ipykernel_19975/43044611.py:3: PerformanceWarning: DataFrame is highly fragmented.  This is usually the result of calling `frame.insert` many times, which has poor performance.  Consider joining all columns at once using pd.concat(axis=1) instead. To get a de-fragmented frame, use `newframe = frame.copy()`\n",
      "  combined_df['mean_liking'] = combined_df[columns_to_analyze].mean(axis=1)\n"
     ]
    }
   ],
   "source": [
    "q_set = get_q_columns_from_v(liking_columns, inverse_map)\n",
    "columns_to_analyze = list(q_set)\n",
    "combined_df['mean_liking'] = combined_df[columns_to_analyze].mean(axis=1)\n",
    "\n",
    "for prim in combined_df['priming'].unique():\n",
    "    for prof in [True, False]:\n",
    "        grp = combined_df[(combined_df['priming']==prim) & (combined_df['is_professional']==prof)]['mean_liking']\n",
    "        if len(grp) >= 3:\n",
    "            W, p = shapiro(grp)\n",
    "            print(f\"Shapiro prim={prim}, prof={prof}: W={W:.3f}, p={p:.4f}\")"
   ]
  },
  {
   "cell_type": "code",
   "execution_count": 54,
   "id": "d289a28e",
   "metadata": {},
   "outputs": [
    {
     "name": "stdout",
     "output_type": "stream",
     "text": [
      "\n",
      "Levene-Test: W=0.885, p=0.4927\n"
     ]
    }
   ],
   "source": [
    "groups = [\n",
    "    combined_df[(combined_df['priming']==prim) & (combined_df['is_professional']==prof)]['mean_liking']\n",
    "    for prim in combined_df['priming'].unique() \n",
    "    for prof in [True, False]\n",
    "]\n",
    "W_le, p_le = levene(*groups)\n",
    "print(f\"\\nLevene-Test: W={W_le:.3f}, p={p_le:.4f}\")"
   ]
  },
  {
   "cell_type": "code",
   "execution_count": 55,
   "id": "a18eda38",
   "metadata": {},
   "outputs": [
    {
     "name": "stdout",
     "output_type": "stream",
     "text": [
      "\n",
      "ANOVA-Tabelle (Typ II):\n",
      "                                  sum_sq     df         F    PR(>F)\n",
      "C(priming)                      1.112365    2.0  1.006551  0.368034\n",
      "C(is_professional)              4.018654    1.0  7.272758  0.007836\n",
      "C(priming):C(is_professional)   0.180883    2.0  0.163677  0.849174\n",
      "Residual                       79.569023  144.0       NaN       NaN\n"
     ]
    }
   ],
   "source": [
    "model = ols('mean_liking ~ C(priming) * C(is_professional)', data=combined_df).fit()\n",
    "anova_table = sm.stats.anova_lm(model, typ=2)\n",
    "\n",
    "print(\"\\nANOVA-Tabelle (Typ II):\")\n",
    "print(anova_table)"
   ]
  },
  {
   "cell_type": "code",
   "execution_count": 56,
   "id": "191ecda4",
   "metadata": {},
   "outputs": [],
   "source": [
    "def summarize_anova(anova_df, alpha=0.05):\n",
    "    \"\"\"\n",
    "    Druckt eine übersichtliche Zusammenfassung der ANOVA-Ergebnisse inklusive\n",
    "    Effektstärken (η²) und kurzer Interpretation.\n",
    "    \n",
    "    Parameter:\n",
    "    - anova_df: pandas DataFrame mit Spalten ['sum_sq', 'df', 'F', 'PR(>F)']\n",
    "                und Index = Effektnamen (z.B. 'Priming', 'Professionalität', 'Residual').\n",
    "    - alpha:    Signifikanzniveau (Standard: 0.05).\n",
    "    \"\"\"\n",
    "    # Effektstärke η² berechnen\n",
    "    anova_df = anova_df.copy()\n",
    "    anova_df['eta_sq'] = anova_df['sum_sq'] / anova_df['sum_sq'].sum()\n",
    "    \n",
    "    # Schwellwerte nach Cohen (Faustwerte)\n",
    "    def effect_size_label(eta):\n",
    "        if eta < 0.01:\n",
    "            return \"vernachlässigbar\"\n",
    "        elif eta < 0.06:\n",
    "            return \"klein\"\n",
    "        elif eta < 0.14:\n",
    "            return \"mittel\"\n",
    "        else:\n",
    "            return \"groß\"\n",
    "    \n",
    "    # Ausgabe\n",
    "    for name, row in anova_df.iterrows():\n",
    "        if name.lower() == 'residual':\n",
    "            continue  # Residual nicht interpretieren\n",
    "        F = row['F']\n",
    "        p = row['PR(>F)']\n",
    "        eta = row['eta_sq']\n",
    "        signif = \"signifikant\" if p < alpha else \"nicht signifikant\"\n",
    "        size_label = effect_size_label(eta)\n",
    "        \n",
    "        print(f\"Effekt '{name}': F({int(row['df'])}) = {F:.2f}, p = {p:.3f}, η² = {eta:.3f} ({size_label}), {signif}.\")\n",
    "    print(f\"(α = {alpha})\")"
   ]
  },
  {
   "cell_type": "code",
   "execution_count": 57,
   "id": "8de1d595",
   "metadata": {},
   "outputs": [
    {
     "name": "stdout",
     "output_type": "stream",
     "text": [
      "Effekt 'C(priming)': F(2) = 1.01, p = 0.368, η² = 0.013 (klein), nicht signifikant.\n",
      "Effekt 'C(is_professional)': F(1) = 7.27, p = 0.008, η² = 0.047 (klein), signifikant.\n",
      "Effekt 'C(priming):C(is_professional)': F(2) = 0.16, p = 0.849, η² = 0.002 (vernachlässigbar), nicht signifikant.\n",
      "(α = 0.05)\n"
     ]
    }
   ],
   "source": [
    "summarize_anova(anova_table)"
   ]
  },
  {
   "cell_type": "code",
   "execution_count": 58,
   "id": "ddcc8d99",
   "metadata": {},
   "outputs": [
    {
     "name": "stderr",
     "output_type": "stream",
     "text": [
      "/var/folders/8p/nb94n7kd4ns03przjhvq8gy00000gn/T/ipykernel_19975/118568246.py:2: FutureWarning: \n",
      "\n",
      "The `errwidth` parameter is deprecated. And will be removed in v0.15.0. Pass `err_kws={'linewidth': 1}` instead.\n",
      "\n",
      "  sns.pointplot(\n"
     ]
    },
    {
     "data": {
      "image/png": "[encoded data removed]",
      "text/plain": [
       "<Figure size 800x600 with 1 Axes>"
      ]
     },
     "metadata": {},
     "output_type": "display_data"
    }
   ],
   "source": [
    "plt.figure(figsize=(8,6))\n",
    "sns.pointplot(\n",
    "    data=combined_df, x='priming', y='mean_liking', hue='is_professional',\n",
    "    dodge=True, markers=['o','s'], capsize=.1, errwidth=1\n",
    ")\n",
    "plt.title('Interaktion: Priming × Professionalität auf Liking')\n",
    "plt.xlabel('Priming-Bedingung')\n",
    "# plt.yticks(range(0, 6, 1))\n",
    "plt.xticks([0,1,2], ['ansprechend', 'nicht ansprechend', 'konsistent'])\n",
    "\n",
    "plt.ylabel('Liking (Mittelwert)')\n",
    "plt.legend(title='Expertise')\n",
    "plt.show()"
   ]
  },
  {
   "cell_type": "markdown",
   "id": "d78ef794",
   "metadata": {},
   "source": [
    "### Hypothese 2"
   ]
  },
  {
   "cell_type": "code",
   "execution_count": 59,
   "id": "e3640fea",
   "metadata": {},
   "outputs": [
    {
     "data": {
      "application/vnd.microsoft.datawrangler.viewer.v0+json": {
       "columns": [
        {
         "name": "index",
         "rawType": "object",
         "type": "string"
        },
        {
         "name": "Q73",
         "rawType": "float64",
         "type": "float"
        }
       ],
       "ref": "8e4835b0-6748-43dd-bd83-eda60992d08c",
       "rows": [
        [
         "count",
         "150.0"
        ],
        [
         "mean",
         "1101.8"
        ],
        [
         "std",
         "929.7568059018472"
        ],
        [
         "min",
         "190.0"
        ],
        [
         "25%",
         "522.75"
        ],
        [
         "50%",
         "802.5"
        ],
        [
         "75%",
         "1251.25"
        ],
        [
         "max",
         "6000.0"
        ]
       ],
       "shape": {
        "columns": 1,
        "rows": 8
       }
      },
      "text/html": [
       "<div>\n",
       "<style scoped>\n",
       "    .dataframe tbody tr th:only-of-type {\n",
       "        vertical-align: middle;\n",
       "    }\n",
       "\n",
       "    .dataframe tbody tr th {\n",
       "        vertical-align: top;\n",
       "    }\n",
       "\n",
       "    .dataframe thead th {\n",
       "        text-align: right;\n",
       "    }\n",
       "</style>\n",
       "<table border=\"1\" class=\"dataframe\">\n",
       "  <thead>\n",
       "    <tr style=\"text-align: right;\">\n",
       "      <th></th>\n",
       "      <th>Q73</th>\n",
       "    </tr>\n",
       "  </thead>\n",
       "  <tbody>\n",
       "    <tr>\n",
       "      <th>count</th>\n",
       "      <td>150.000000</td>\n",
       "    </tr>\n",
       "    <tr>\n",
       "      <th>mean</th>\n",
       "      <td>1101.800000</td>\n",
       "    </tr>\n",
       "    <tr>\n",
       "      <th>std</th>\n",
       "      <td>929.756806</td>\n",
       "    </tr>\n",
       "    <tr>\n",
       "      <th>min</th>\n",
       "      <td>190.000000</td>\n",
       "    </tr>\n",
       "    <tr>\n",
       "      <th>25%</th>\n",
       "      <td>522.750000</td>\n",
       "    </tr>\n",
       "    <tr>\n",
       "      <th>50%</th>\n",
       "      <td>802.500000</td>\n",
       "    </tr>\n",
       "    <tr>\n",
       "      <th>75%</th>\n",
       "      <td>1251.250000</td>\n",
       "    </tr>\n",
       "    <tr>\n",
       "      <th>max</th>\n",
       "      <td>6000.000000</td>\n",
       "    </tr>\n",
       "  </tbody>\n",
       "</table>\n",
       "</div>"
      ],
      "text/plain": [
       "               Q73\n",
       "count   150.000000\n",
       "mean   1101.800000\n",
       "std     929.756806\n",
       "min     190.000000\n",
       "25%     522.750000\n",
       "50%     802.500000\n",
       "75%    1251.250000\n",
       "max    6000.000000"
      ]
     },
     "execution_count": 59,
     "metadata": {},
     "output_type": "execute_result"
    }
   ],
   "source": [
    "price_columns = ['v_11376']\n",
    "q_set = get_q_columns_from_v(price_columns, inverse_map)\n",
    "columns_to_analyze = list(q_set)\n",
    "combined_df[columns_to_analyze].describe()\n"
   ]
  },
  {
   "cell_type": "code",
   "execution_count": 60,
   "id": "f92c27ac",
   "metadata": {},
   "outputs": [
    {
     "name": "stdout",
     "output_type": "stream",
     "text": [
      "Shapiro prim=3, prof=True: W=0.892, p=0.0502\n",
      "Shapiro prim=3, prof=False: W=0.609, p=0.0000\n",
      "Shapiro prim=2, prof=True: W=0.877, p=0.0350\n",
      "Shapiro prim=2, prof=False: W=0.830, p=0.0001\n",
      "Shapiro prim=1, prof=True: W=0.729, p=0.0008\n",
      "Shapiro prim=1, prof=False: W=0.781, p=0.0000\n"
     ]
    }
   ],
   "source": [
    "for prim in combined_df['priming'].unique():\n",
    "    for prof in [True, False]:\n",
    "        grp = combined_df[(combined_df['priming']==prim) & (combined_df['is_professional']==prof)][columns_to_analyze]\n",
    "        if len(grp) >= 3:\n",
    "            W, p = shapiro(grp)\n",
    "            print(f\"Shapiro prim={prim}, prof={prof}: W={W:.3f}, p={p:.4f}\")"
   ]
  },
  {
   "cell_type": "code",
   "execution_count": 61,
   "id": "ef75d18a",
   "metadata": {},
   "outputs": [
    {
     "name": "stdout",
     "output_type": "stream",
     "text": [
      "\n",
      "Levene-Test: W=2.085, p=0.0706\n"
     ]
    }
   ],
   "source": [
    "groups = [\n",
    "    combined_df[(combined_df['priming']==prim) & (combined_df['is_professional']==prof)]['Q73']\n",
    "    for prim in combined_df['priming'].unique() \n",
    "    for prof in [True, False]\n",
    "]\n",
    "W_le, p_le = levene(*groups)\n",
    "print(f\"\\nLevene-Test: W={W_le:.3f}, p={p_le:.4f}\")"
   ]
  },
  {
   "cell_type": "code",
   "execution_count": 62,
   "id": "6924b807",
   "metadata": {},
   "outputs": [
    {
     "name": "stdout",
     "output_type": "stream",
     "text": [
      "\n",
      "ANOVA-Tabelle (Typ II):\n",
      "                                     sum_sq     df          F    PR(>F)\n",
      "C(priming)                     1.198595e+05    2.0   0.073802  0.928891\n",
      "C(is_professional)             1.044951e+07    1.0  12.868293  0.000457\n",
      "C(priming):C(is_professional)  1.245154e+06    2.0   0.766687  0.466436\n",
      "Residual                       1.169332e+08  144.0        NaN       NaN\n"
     ]
    }
   ],
   "source": [
    "model = ols('Q73 ~ C(priming) * C(is_professional)', data=combined_df).fit()\n",
    "anova_table = sm.stats.anova_lm(model, typ=2)\n",
    "\n",
    "print(\"\\nANOVA-Tabelle (Typ II):\")\n",
    "print(anova_table)"
   ]
  },
  {
   "cell_type": "code",
   "execution_count": 63,
   "id": "4bef0457",
   "metadata": {},
   "outputs": [
    {
     "name": "stdout",
     "output_type": "stream",
     "text": [
      "Effekt 'C(priming)': F(2) = 0.07, p = 0.929, η² = 0.001 (vernachlässigbar), nicht signifikant.\n",
      "Effekt 'C(is_professional)': F(1) = 12.87, p = 0.000, η² = 0.081 (mittel), signifikant.\n",
      "Effekt 'C(priming):C(is_professional)': F(2) = 0.77, p = 0.466, η² = 0.010 (vernachlässigbar), nicht signifikant.\n",
      "(α = 0.05)\n"
     ]
    }
   ],
   "source": [
    "summarize_anova(anova_table)"
   ]
  },
  {
   "cell_type": "code",
   "execution_count": 64,
   "id": "e98a0c35",
   "metadata": {},
   "outputs": [
    {
     "name": "stderr",
     "output_type": "stream",
     "text": [
      "/var/folders/8p/nb94n7kd4ns03przjhvq8gy00000gn/T/ipykernel_19975/3446993545.py:2: FutureWarning: \n",
      "\n",
      "The `errwidth` parameter is deprecated. And will be removed in v0.15.0. Pass `err_kws={'linewidth': 1}` instead.\n",
      "\n",
      "  sns.pointplot(\n"
     ]
    },
    {
     "data": {
      "image/png": "[encoded data removed]",
      "text/plain": [
       "<Figure size 800x600 with 1 Axes>"
      ]
     },
     "metadata": {},
     "output_type": "display_data"
    }
   ],
   "source": [
    "plt.figure(figsize=(8,6))\n",
    "sns.pointplot(\n",
    "    data=combined_df, x='priming', y='Q73', hue='is_professional',\n",
    "    dodge=True, markers=['o','s'], capsize=.1, errwidth=1\n",
    ")\n",
    "plt.title('Interaktion: Priming × Professionalität auf Preiserwartung')\n",
    "plt.xlabel('Priming-Bedingung')\n",
    "# plt.yticks(range(0, 6, 1))\n",
    "plt.ylabel('Preiserwartung Outfit')\n",
    "plt.xticks([0,1,2], ['ansprechend', 'nicht ansprechend', 'konsistent'])\n",
    "plt.legend(title='Expertise')\n",
    "plt.show()"
   ]
  }
 ],
 "metadata": {
  "kernelspec": {
   "display_name": "venv",
   "language": "python",
   "name": "python3"
  },
  "language_info": {
   "codemirror_mode": {
    "name": "ipython",
    "version": 3
   },
   "file_extension": ".py",
   "mimetype": "text/x-python",
   "name": "python",
   "nbconvert_exporter": "python",
   "pygments_lexer": "ipython3",
   "version": "3.10.2"
  }
 },
 "nbformat": 4,
 "nbformat_minor": 5
}
