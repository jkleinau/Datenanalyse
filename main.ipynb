{
 "cells": [
  {
   "cell_type": "markdown",
   "id": "15939262",
   "metadata": {},
   "source": [
    "# Datenanlyse zur Umfrage Persönliche Expertise\n",
    "\n",
    "---"
   ]
  },
  {
   "cell_type": "markdown",
   "id": "54dcfef1",
   "metadata": {},
   "source": [
    "## Import libraries"
   ]
  },
  {
   "cell_type": "code",
   "execution_count": 118,
   "id": "ffddcc9e",
   "metadata": {},
   "outputs": [],
   "source": [
    "import pandas as pd\n",
    "import matplotlib.pyplot as plt\n",
    "import numpy as np\n",
    "\n",
    "from scipy.stats import shapiro, levene\n",
    "import statsmodels.api as sm\n",
    "from statsmodels.formula.api import ols\n",
    "import seaborn as sns\n",
    "\n"
   ]
  },
  {
   "cell_type": "markdown",
   "id": "e89117d9",
   "metadata": {},
   "source": [
    "## Import data from csv"
   ]
  },
  {
   "cell_type": "code",
   "execution_count": 119,
   "id": "d1a6cceb",
   "metadata": {},
   "outputs": [],
   "source": [
    "filename = 'data/export_0907.csv'\n",
    "df = pd.read_csv(filename, sep=';')"
   ]
  },
  {
   "cell_type": "code",
   "execution_count": 120,
   "id": "1ca52648",
   "metadata": {},
   "outputs": [
    {
     "data": {
      "text/html": [
       "<div>\n",
       "<style scoped>\n",
       "    .dataframe tbody tr th:only-of-type {\n",
       "        vertical-align: middle;\n",
       "    }\n",
       "\n",
       "    .dataframe tbody tr th {\n",
       "        vertical-align: top;\n",
       "    }\n",
       "\n",
       "    .dataframe thead th {\n",
       "        text-align: right;\n",
       "    }\n",
       "</style>\n",
       "<table border=\"1\" class=\"dataframe\">\n",
       "  <thead>\n",
       "    <tr style=\"text-align: right;\">\n",
       "      <th></th>\n",
       "      <th>lfdn</th>\n",
       "      <th>external_lfdn</th>\n",
       "      <th>tester</th>\n",
       "      <th>dispcode</th>\n",
       "      <th>lastpage</th>\n",
       "      <th>quality</th>\n",
       "      <th>duration</th>\n",
       "      <th>c_0001</th>\n",
       "      <th>c_0002</th>\n",
       "      <th>c_0003</th>\n",
       "      <th>...</th>\n",
       "      <th>rnd_pg_7356560_3</th>\n",
       "      <th>rnd_pg_7356560_4</th>\n",
       "      <th>rnd_pg_7356560_5</th>\n",
       "      <th>rnd_pg_7356560_6</th>\n",
       "      <th>rnd_pg_7356570_1</th>\n",
       "      <th>rnd_pg_7356570_2</th>\n",
       "      <th>rnd_pg_7356570_3</th>\n",
       "      <th>rnd_pg_7356570_4</th>\n",
       "      <th>rnd_pg_7356570_5</th>\n",
       "      <th>rnd_pg_7356570_6</th>\n",
       "    </tr>\n",
       "  </thead>\n",
       "  <tbody>\n",
       "    <tr>\n",
       "      <th>0</th>\n",
       "      <td>176</td>\n",
       "      <td>0</td>\n",
       "      <td>0</td>\n",
       "      <td>31</td>\n",
       "      <td>7356546</td>\n",
       "      <td>-77</td>\n",
       "      <td>783</td>\n",
       "      <td>3</td>\n",
       "      <td>-66</td>\n",
       "      <td>-66</td>\n",
       "      <td>...</td>\n",
       "      <td>-77</td>\n",
       "      <td>-77</td>\n",
       "      <td>-77</td>\n",
       "      <td>-77</td>\n",
       "      <td>-77</td>\n",
       "      <td>-77</td>\n",
       "      <td>-77</td>\n",
       "      <td>-77</td>\n",
       "      <td>-77</td>\n",
       "      <td>-77</td>\n",
       "    </tr>\n",
       "    <tr>\n",
       "      <th>1</th>\n",
       "      <td>178</td>\n",
       "      <td>0</td>\n",
       "      <td>0</td>\n",
       "      <td>31</td>\n",
       "      <td>7356546</td>\n",
       "      <td>-77</td>\n",
       "      <td>1691</td>\n",
       "      <td>2</td>\n",
       "      <td>-66</td>\n",
       "      <td>-66</td>\n",
       "      <td>...</td>\n",
       "      <td>-77</td>\n",
       "      <td>-77</td>\n",
       "      <td>-77</td>\n",
       "      <td>-77</td>\n",
       "      <td>-77</td>\n",
       "      <td>-77</td>\n",
       "      <td>-77</td>\n",
       "      <td>-77</td>\n",
       "      <td>-77</td>\n",
       "      <td>-77</td>\n",
       "    </tr>\n",
       "    <tr>\n",
       "      <th>2</th>\n",
       "      <td>181</td>\n",
       "      <td>0</td>\n",
       "      <td>0</td>\n",
       "      <td>31</td>\n",
       "      <td>7356546</td>\n",
       "      <td>-77</td>\n",
       "      <td>865</td>\n",
       "      <td>-66</td>\n",
       "      <td>1</td>\n",
       "      <td>-66</td>\n",
       "      <td>...</td>\n",
       "      <td>-77</td>\n",
       "      <td>-77</td>\n",
       "      <td>-77</td>\n",
       "      <td>-77</td>\n",
       "      <td>-77</td>\n",
       "      <td>-77</td>\n",
       "      <td>-77</td>\n",
       "      <td>-77</td>\n",
       "      <td>-77</td>\n",
       "      <td>-77</td>\n",
       "    </tr>\n",
       "    <tr>\n",
       "      <th>3</th>\n",
       "      <td>182</td>\n",
       "      <td>0</td>\n",
       "      <td>0</td>\n",
       "      <td>31</td>\n",
       "      <td>7356546</td>\n",
       "      <td>-77</td>\n",
       "      <td>536</td>\n",
       "      <td>-66</td>\n",
       "      <td>2</td>\n",
       "      <td>-66</td>\n",
       "      <td>...</td>\n",
       "      <td>7356565</td>\n",
       "      <td>7356566</td>\n",
       "      <td>7356563</td>\n",
       "      <td>7356561</td>\n",
       "      <td>-77</td>\n",
       "      <td>-77</td>\n",
       "      <td>-77</td>\n",
       "      <td>-77</td>\n",
       "      <td>-77</td>\n",
       "      <td>-77</td>\n",
       "    </tr>\n",
       "    <tr>\n",
       "      <th>4</th>\n",
       "      <td>184</td>\n",
       "      <td>0</td>\n",
       "      <td>0</td>\n",
       "      <td>31</td>\n",
       "      <td>7356546</td>\n",
       "      <td>-77</td>\n",
       "      <td>680</td>\n",
       "      <td>1</td>\n",
       "      <td>-66</td>\n",
       "      <td>970</td>\n",
       "      <td>...</td>\n",
       "      <td>-77</td>\n",
       "      <td>-77</td>\n",
       "      <td>-77</td>\n",
       "      <td>-77</td>\n",
       "      <td>-77</td>\n",
       "      <td>-77</td>\n",
       "      <td>-77</td>\n",
       "      <td>-77</td>\n",
       "      <td>-77</td>\n",
       "      <td>-77</td>\n",
       "    </tr>\n",
       "  </tbody>\n",
       "</table>\n",
       "<p>5 rows × 561 columns</p>\n",
       "</div>"
      ],
      "text/plain": [
       "   lfdn  external_lfdn  tester  dispcode  lastpage  quality  duration  c_0001  \\\n",
       "0   176              0       0        31   7356546      -77       783       3   \n",
       "1   178              0       0        31   7356546      -77      1691       2   \n",
       "2   181              0       0        31   7356546      -77       865     -66   \n",
       "3   182              0       0        31   7356546      -77       536     -66   \n",
       "4   184              0       0        31   7356546      -77       680       1   \n",
       "\n",
       "   c_0002  c_0003  ...  rnd_pg_7356560_3  rnd_pg_7356560_4  rnd_pg_7356560_5  \\\n",
       "0     -66     -66  ...               -77               -77               -77   \n",
       "1     -66     -66  ...               -77               -77               -77   \n",
       "2       1     -66  ...               -77               -77               -77   \n",
       "3       2     -66  ...           7356565           7356566           7356563   \n",
       "4     -66     970  ...               -77               -77               -77   \n",
       "\n",
       "   rnd_pg_7356560_6  rnd_pg_7356570_1  rnd_pg_7356570_2  rnd_pg_7356570_3  \\\n",
       "0               -77               -77               -77               -77   \n",
       "1               -77               -77               -77               -77   \n",
       "2               -77               -77               -77               -77   \n",
       "3           7356561               -77               -77               -77   \n",
       "4               -77               -77               -77               -77   \n",
       "\n",
       "   rnd_pg_7356570_4  rnd_pg_7356570_5  rnd_pg_7356570_6  \n",
       "0               -77               -77               -77  \n",
       "1               -77               -77               -77  \n",
       "2               -77               -77               -77  \n",
       "3               -77               -77               -77  \n",
       "4               -77               -77               -77  \n",
       "\n",
       "[5 rows x 561 columns]"
      ]
     },
     "execution_count": 120,
     "metadata": {},
     "output_type": "execute_result"
    }
   ],
   "source": [
    "df.head()"
   ]
  },
  {
   "cell_type": "code",
   "execution_count": 121,
   "id": "e044f408",
   "metadata": {},
   "outputs": [],
   "source": [
    "df['priming'] = df['c_0001'].replace(-66, np.nan).fillna(df['c_0002']).astype(int)\n"
   ]
  },
  {
   "cell_type": "code",
   "execution_count": 122,
   "id": "a17e9fb3",
   "metadata": {},
   "outputs": [],
   "source": [
    "def classify_professional(row):\n",
    "    # Check if any CVPA score is less than 2\n",
    "    cvpa_columns = ['v_8978', 'v_9154', 'v_9155', 'v_9156', 'v_9157', 'v_9158', 'v_9159', 'v_9160', 'v_9308']\n",
    "    for col in cvpa_columns:\n",
    "        if row[col] < 2:\n",
    "            return False\n",
    "    \n",
    "    # Check if sum of CVPA scores is less than 34\n",
    "    cvpa_sum = sum(row[col] for col in cvpa_columns)\n",
    "    if cvpa_sum < 34:\n",
    "        return False\n",
    "    \n",
    "    # Count correct answers for knowledge questions\n",
    "    correct_answers = 0\n",
    "    knowledge_answers = {\n",
    "        'v_206': 3,\n",
    "        'v_207': 3,\n",
    "        'v_208': 2,\n",
    "        'v_209': 2,\n",
    "        'v_210': 3,\n",
    "        'v_211': 3,\n",
    "        'v_212': 2,\n",
    "        'v_213': 4,\n",
    "        'v_214': 1,\n",
    "        'v_215': 3\n",
    "    }\n",
    "    \n",
    "    for col, correct_value in knowledge_answers.items():\n",
    "        if col in row and row[col] == correct_value:\n",
    "            correct_answers += 1\n",
    "    \n",
    "    # Check if correct answers is less than 6\n",
    "    if correct_answers < 6:\n",
    "        return False\n",
    "    \n",
    "    return True\n",
    "\n",
    "# Apply the classification function to create a new column\n",
    "df['is_professional'] = df.apply(classify_professional, axis=1)"
   ]
  },
  {
   "cell_type": "code",
   "execution_count": 123,
   "id": "366dabb3",
   "metadata": {},
   "outputs": [
    {
     "data": {
      "image/png": "[encoded data removed]",
      "text/plain": [
       "<Figure size 640x480 with 1 Axes>"
      ]
     },
     "metadata": {},
     "output_type": "display_data"
    }
   ],
   "source": [
    "counts = df['is_professional'].value_counts()\n",
    "ax = counts.plot(kind='bar', title='Professional Classification Distribution')\n",
    "ax.set_xlabel('Professional Classification')\n",
    "ax.set_ylabel('Count')\n",
    "\n",
    "# Add value labels on top of bars\n",
    "for i, v in enumerate(counts.values):\n",
    "    ax.text(i, v + 1, str(v), ha='center', va='bottom')\n",
    "\n",
    "plt.show()"
   ]
  },
  {
   "cell_type": "markdown",
   "id": "cd335715",
   "metadata": {},
   "source": [
    "## Forschungsfrage\n",
    "- Hat die persönliche Expertise von\n",
    "Konsument:innen einen Einfluss auf\n",
    "Präferenzen und Preiserwartungen von\n",
    "stilistisch konsistenten und\n",
    "inkonsistenten Produktensembles."
   ]
  },
  {
   "cell_type": "markdown",
   "id": "f566203c",
   "metadata": {},
   "source": [
    "## Hypothesen\n",
    "\n",
    "### Hypothesen zu Präferenzen:\n",
    "**H0₁:** Persönliche Expertise hat **keinen** Einfluss auf die Präferenzen für stilistisch konsistente vs. inkonsistente Produktensembles.\n",
    "- μ_Experten = μ_Nicht-Experten (bezüglich Präferenzwerten)\n",
    "\n",
    "**H1₁:** Persönliche Expertise hat einen **signifikanten** Einfluss auf die Präferenzen für stilistisch konsistente vs. inkonsistente Produktensembles.\n",
    "- μ_Experten ≠ μ_Nicht-Experten (bezüglich Präferenzwerten)\n",
    "\n",
    "### Hypothesen zu Preiserwartungen:\n",
    "**H0₂:** Persönliche Expertise hat **keinen** Einfluss auf die Preiserwartungen für stilistisch konsistente vs. inkonsistente Produktensembles.\n",
    "- μ_Experten = μ_Nicht-Experten (bezüglich Preiserwartungen)\n",
    "\n",
    "**H1₂:** Persönliche Expertise hat einen **signifikanten** Einfluss auf die Preiserwartungen für stilistisch konsistente vs. inkonsistente Produktensembles.\n",
    "- μ_Experten ≠ μ_Nicht-Experten (bezüglich Preiserwartungen)\n",
    "\n",
    "### Statistische Tests:\n",
    "- **Unabhängige t-Tests** für Mittelwertvergleiche zwischen Experten (`is_professional = True`) und Nicht-Experten (`is_professional = False`)\n",
    "- **Signifikanzniveau:** α = 0.05\n",
    "- **Zweiseitige Tests** (da keine gerichtete Hypothese vorliegt)"
   ]
  },
  {
   "cell_type": "markdown",
   "id": "72959491",
   "metadata": {},
   "source": [
    "## Variablen\n",
    "### Abhängige Variablen (AV)\n",
    "\n",
    "- **Preiserwartung**  \n",
    "  Für welchen Preis würden Sie erwarten, dass das Produkt/Ensemble angeboten wird? (metrisch)  \n",
    "  - einzeln  \n",
    "  - ensemble  \n",
    "  - korrektur ensemble\n",
    "\n",
    "- **Objektive Einzelbewertung (Liking)**  \n",
    "  - minderwertig ↔ hochwertig (Likert-Skala)  \n",
    "  - einfach ↔ luxuriös (Likert-Skala)  \n",
    "  - billig ↔ teuer (Likert-Skala)\n",
    "\n",
    "- **Subjektive Einzelbewertung (Liking)**  \n",
    "  - Das Produkt gefällt mir gut. (Likert-Skala)  \n",
    "  - Ich mag das Produkt. (Likert-Skala)  \n",
    "  - Ich finde das Produkt ansprechend. (Likert-Skala)\n",
    "\n",
    "- **Objektive Ensemble-Bewertung**  \n",
    "  - minderwertig ↔ hochwertig (Likert-Skala)  \n",
    "  - einfach ↔ luxuriös (Likert-Skala)  \n",
    "  - billig ↔ teuer (Likert-Skala)\n",
    "\n",
    "- **Subjektive Ensemble-Bewertung**  \n",
    "  - Das Ensemble gefällt mir gut. (Likert-Skala)  \n",
    "  - Ich mag das Ensemble. (Likert-Skala)  \n",
    "  - Ich finde das Ensemble ansprechend. (Likert-Skala)\n",
    "\n",
    "- **Produktdarstellung**  \n",
    "  - Die Kombination vermittelt mir relevante Informationen über die Produkte. (Likert-Skala)  \n",
    "  - Die gezeigte Zusammenstellung hilft mir, die Produkte besser zu verstehen. (Likert-Skala)  \n",
    "  - Die Präsentation erleichtert es mir, die Produkte zu beurteilen. (Likert-Skala)  \n",
    "  - Durch die Präsentation kann ich mir vorstellen, welche Personen dieses Outfit tragen würden. (Likert-Skala)  \n",
    "  - Durch die Präsentation kann ich mir vorstellen, in welchen beruflichen Situationen das Outfit getragen wird. (Likert-Skala)  \n",
    "  - Ich verstehe, wie man die Teile elegant, seriös und professionell kombiniert. (Likert-Skala)\n",
    "\n",
    "- **Bewertungsleichtigkeit**  \n",
    "  - Es fällt mir leicht, das Outfit zu bewerten. (Likert-Skala)  \n",
    "  - Ich erfasse das Outfit visuell schnell. (Likert-Skala)  \n",
    "  - Ich kann mir das Outfit mit geschlossenen Augen in Erinnerung rufen. (Likert-Skala)  \n",
    "  - Ich kann das Outfit später einer anderen Person beschreiben. (Likert-Skala)\n",
    "\n",
    "- **Gesamtwirkung**  \n",
    "  - uneinheitlich ↔ einheitlich (Likert-Skala)  \n",
    "  - unstimmig ↔ stimmig (Likert-Skala)  \n",
    "  - unharmonisch ↔ harmonisch (Likert-Skala)\n",
    "\n",
    "- **Stileinordnung**  \n",
    "  - Hippie (Likert-Skala)  \n",
    "  - Hip Hop / Active Wear (Likert-Skala)  \n",
    "  - Boho (Likert-Skala)\n",
    "\n",
    "---\n",
    "\n",
    "### Unabhängige Variablen (UV)\n",
    "\n",
    "\n",
    "- **Priming-Konsistenz**  \n",
    "  - konsistentes Ensemble  \n",
    "  - inkonsistentes Ensemble  \n",
    "  - inkonsistentes Ensemble mit nichtansprechendem Oberteil\n",
    "\n",
    "- **Stilrichtung**  \n",
    "  - Hippie × Minimalistisch\n",
    "\n",
    "- **Produktkategorie**  \n",
    "  - Oberteil\n",
    "\n",
    "- **Expertenstatus**  \n",
    "  - Experte vs. Nicht-Experte (gemäß Faktenwissen & CVPA)\n",
    "\n",
    "> **Design:** 3 × 2-Faktor (Priming-Konsistenz × Expertenstatus), between-subjects\n",
    "\n",
    "---\n",
    "\n",
    "### Kontroll- und Störvariablen\n",
    "\n",
    "- **Demografische Variablen**  \n",
    "  - Alter (metrisch, Jahre)  \n",
    "  - Geschlecht (nominal, z. B. m/w/d)  \n",
    "  - Einkommen (metrisch oder ordinal gruppiert)  \n",
    "  - Bildungsgrad (ordinal)  \n",
    "  - Beruf (nominal)\n",
    "\n",
    "- **Berufserfahrung**  \n",
    "  - (metrisch, Jahre)\n",
    "\n",
    "- **CVPA-Score**  \n",
    "  - (metrisch)\n",
    "\n",
    "- **Faktenwissen-Score**  \n",
    "  - (metrisch)\n"
   ]
  },
  {
   "cell_type": "markdown",
   "id": "0cd303a5",
   "metadata": {},
   "source": [
    "## Überprüfung der Hypothesen\n",
    "\n",
    "---\n",
    "\n",
    "### Hypothese 1 (Präferenzwerte)\n",
    "- **Hypothese:**  \n",
    "  - H₀₁: μ$_{Experten}$ = μ$_{NOT-Experten}$\n",
    "  - H₁₁: μ$_{Experten}$ ≠ μ$_{NOT-Experten}$\n",
    "- **Variable:**  \n",
    "  - ΔLiking = Liking $_{konsistent}$ – Liking $_{inkonsistent}$\n",
    "- **Methode:**  \n",
    "  - **Unabhängiger t-Test** (zweiseitig)  \n",
    "    - *Warum:* Vergleich von Mittelwerten zweier unabhängiger Gruppen bei intervallskaliertem DV  \n",
    "- **Voraussetzungen prüfen:**  \n",
    "  - **Normalverteilung** der ΔLiking in beiden Gruppen (Shapiro-Wilk-Test)\n",
    "  - **Varianzhomogenität** (Levene-Test)  \n",
    "- **Alternative bei Verletzung:**  \n",
    "  - **Mann-Whitney-U-Test** (zweiseitig)  \n",
    "    - *Warum:* Kein parametrischer Test, robust gegen Normalitätsverletzung  \n",
    "- **Effektstärke:**  \n",
    "  - Cohen’s d (t-Test) oder Rang-Biseriale Korrelation (Mann-Whitney)\n",
    "\n",
    "---\n",
    "\n",
    "### Hypothese 2 (Preiserwartungen)\n",
    "- **Hypothese:**  \n",
    "  - H₀₂: μ$_{Experten}$ = μ$_{NOT-Experten}$\n",
    "  - H₁₂: μ$_{Experten}$ ≠ μ$_{NOT-Experten}$\n",
    "- **Variable:**  \n",
    "  - ΔPreis = Preiserwartung $_{konsistent}$ – Preiserwartung $_{inkonsistent}$\n",
    "- **Statistisches Mittel & Vorgehen:**  \n",
    "  - Analog zu Hypothese 1 (t-Test, Voraussetzungen, Alternative, Effektstärke)\n",
    "\n",
    "---\n",
    "\n",
    "### Signifikanz & Bericht\n",
    "- **α = 0,05** (zweiseitig)  \n",
    "- **Bericht:**  \n",
    "  - Teststatistik (t-Wert bzw. U-Wert), p-Wert, Effektstärke  \n",
    "  - Überprüfung der Testvoraussetzungen dokumentieren  \n"
   ]
  },
  {
   "cell_type": "code",
   "execution_count": 124,
   "id": "d96c631a",
   "metadata": {},
   "outputs": [
    {
     "data": {
      "image/png": "[encoded data removed]",
      "text/plain": [
       "<Figure size 640x480 with 1 Axes>"
      ]
     },
     "metadata": {},
     "output_type": "display_data"
    }
   ],
   "source": [
    "# Distribution of priming levels\n",
    "filtered_rows = df[df['is_professional']].copy()\n",
    "priming_counts = filtered_rows['priming'].value_counts()\n",
    "ax = priming_counts.plot(kind='bar', title='Priming Distribution Experte')\n",
    "ax.set_xlabel('Priming')\n",
    "ax.set_ylabel('Count')\n",
    "ax.set_yticks(range(0, priming_counts.max() + 5, 5))\n",
    "\n",
    "# Add value labels on top of bars\n",
    "for i, v in enumerate(priming_counts.values):\n",
    "    ax.text(i, v + 1, str(v), ha='center', va='bottom')\n",
    "\n",
    "plt.show()"
   ]
  },
  {
   "cell_type": "code",
   "execution_count": 125,
   "id": "f24e9d36",
   "metadata": {},
   "outputs": [
    {
     "data": {
      "image/png": "[encoded data removed]",
      "text/plain": [
       "<Figure size 640x480 with 1 Axes>"
      ]
     },
     "metadata": {},
     "output_type": "display_data"
    }
   ],
   "source": [
    "# Alternative priming distribution (column c_0002 replaced)\n",
    "# Using combined 'priming' column instead\n",
    "priming_counts = df['priming'].value_counts()\n",
    "ax = priming_counts.plot(kind='bar', title='Priming Distribution')\n",
    "ax.set_xlabel('Priming')\n",
    "ax.set_ylabel('Count')\n",
    "ax.set_yticks(range(0, priming_counts.max() + 5, 5))\n",
    "\n",
    "# Add value labels on top of bars\n",
    "for i, v in enumerate(priming_counts.values):\n",
    "    ax.text(i, v + 1, str(v), ha='center', va='bottom')\n",
    "\n",
    "plt.show()"
   ]
  },
  {
   "cell_type": "code",
   "execution_count": 126,
   "id": "c3bcac53",
   "metadata": {},
   "outputs": [
    {
     "data": {
      "text/html": [
       "<div>\n",
       "<style scoped>\n",
       "    .dataframe tbody tr th:only-of-type {\n",
       "        vertical-align: middle;\n",
       "    }\n",
       "\n",
       "    .dataframe tbody tr th {\n",
       "        vertical-align: top;\n",
       "    }\n",
       "\n",
       "    .dataframe thead th {\n",
       "        text-align: right;\n",
       "    }\n",
       "</style>\n",
       "<table border=\"1\" class=\"dataframe\">\n",
       "  <thead>\n",
       "    <tr style=\"text-align: right;\">\n",
       "      <th></th>\n",
       "      <th>priming</th>\n",
       "      <th>is_professional</th>\n",
       "      <th>Q1</th>\n",
       "      <th>Q2</th>\n",
       "      <th>Q3</th>\n",
       "      <th>Q4</th>\n",
       "      <th>Q5</th>\n",
       "      <th>Q6</th>\n",
       "      <th>Q7</th>\n",
       "      <th>Q8</th>\n",
       "      <th>...</th>\n",
       "      <th>Q90</th>\n",
       "      <th>Q91</th>\n",
       "      <th>Q92</th>\n",
       "      <th>Q93</th>\n",
       "      <th>Q94</th>\n",
       "      <th>Q95</th>\n",
       "      <th>Q96</th>\n",
       "      <th>Q97</th>\n",
       "      <th>Q98</th>\n",
       "      <th>Q99</th>\n",
       "    </tr>\n",
       "  </thead>\n",
       "  <tbody>\n",
       "    <tr>\n",
       "      <th>0</th>\n",
       "      <td>3</td>\n",
       "      <td>True</td>\n",
       "      <td>2</td>\n",
       "      <td>0</td>\n",
       "      <td>0</td>\n",
       "      <td>0</td>\n",
       "      <td>0</td>\n",
       "      <td>0</td>\n",
       "      <td>0</td>\n",
       "      <td>0</td>\n",
       "      <td>...</td>\n",
       "      <td>5</td>\n",
       "      <td>4</td>\n",
       "      <td>3</td>\n",
       "      <td>4</td>\n",
       "      <td>3</td>\n",
       "      <td>2</td>\n",
       "      <td>51</td>\n",
       "      <td>1</td>\n",
       "      <td>2</td>\n",
       "      <td>4</td>\n",
       "    </tr>\n",
       "    <tr>\n",
       "      <th>1</th>\n",
       "      <td>2</td>\n",
       "      <td>True</td>\n",
       "      <td>1</td>\n",
       "      <td>1</td>\n",
       "      <td>1</td>\n",
       "      <td>0</td>\n",
       "      <td>1</td>\n",
       "      <td>0</td>\n",
       "      <td>0</td>\n",
       "      <td>0</td>\n",
       "      <td>...</td>\n",
       "      <td>5</td>\n",
       "      <td>5</td>\n",
       "      <td>4</td>\n",
       "      <td>5</td>\n",
       "      <td>1</td>\n",
       "      <td>1</td>\n",
       "      <td>47</td>\n",
       "      <td>1</td>\n",
       "      <td>2</td>\n",
       "      <td>4</td>\n",
       "    </tr>\n",
       "    <tr>\n",
       "      <th>2</th>\n",
       "      <td>1</td>\n",
       "      <td>False</td>\n",
       "      <td>2</td>\n",
       "      <td>0</td>\n",
       "      <td>0</td>\n",
       "      <td>0</td>\n",
       "      <td>0</td>\n",
       "      <td>0</td>\n",
       "      <td>0</td>\n",
       "      <td>0</td>\n",
       "      <td>...</td>\n",
       "      <td>5</td>\n",
       "      <td>5</td>\n",
       "      <td>4</td>\n",
       "      <td>4</td>\n",
       "      <td>2</td>\n",
       "      <td>2</td>\n",
       "      <td>60</td>\n",
       "      <td>2</td>\n",
       "      <td>2</td>\n",
       "      <td>5</td>\n",
       "    </tr>\n",
       "    <tr>\n",
       "      <th>3</th>\n",
       "      <td>2</td>\n",
       "      <td>False</td>\n",
       "      <td>2</td>\n",
       "      <td>0</td>\n",
       "      <td>0</td>\n",
       "      <td>0</td>\n",
       "      <td>0</td>\n",
       "      <td>0</td>\n",
       "      <td>0</td>\n",
       "      <td>0</td>\n",
       "      <td>...</td>\n",
       "      <td>5</td>\n",
       "      <td>5</td>\n",
       "      <td>5</td>\n",
       "      <td>4</td>\n",
       "      <td>1</td>\n",
       "      <td>1</td>\n",
       "      <td>22</td>\n",
       "      <td>1</td>\n",
       "      <td>1</td>\n",
       "      <td>1</td>\n",
       "    </tr>\n",
       "    <tr>\n",
       "      <th>4</th>\n",
       "      <td>1</td>\n",
       "      <td>True</td>\n",
       "      <td>2</td>\n",
       "      <td>0</td>\n",
       "      <td>0</td>\n",
       "      <td>0</td>\n",
       "      <td>1</td>\n",
       "      <td>0</td>\n",
       "      <td>0</td>\n",
       "      <td>0</td>\n",
       "      <td>...</td>\n",
       "      <td>4</td>\n",
       "      <td>5</td>\n",
       "      <td>4</td>\n",
       "      <td>4</td>\n",
       "      <td>1</td>\n",
       "      <td>3</td>\n",
       "      <td>19</td>\n",
       "      <td>1</td>\n",
       "      <td>1</td>\n",
       "      <td>3</td>\n",
       "    </tr>\n",
       "  </tbody>\n",
       "</table>\n",
       "<p>5 rows × 101 columns</p>\n",
       "</div>"
      ],
      "text/plain": [
       "   priming  is_professional  Q1  Q2  Q3  Q4  Q5  Q6  Q7  Q8  ...  Q90  Q91  \\\n",
       "0        3             True   2   0   0   0   0   0   0   0  ...    5    4   \n",
       "1        2             True   1   1   1   0   1   0   0   0  ...    5    5   \n",
       "2        1            False   2   0   0   0   0   0   0   0  ...    5    5   \n",
       "3        2            False   2   0   0   0   0   0   0   0  ...    5    5   \n",
       "4        1             True   2   0   0   0   1   0   0   0  ...    4    5   \n",
       "\n",
       "   Q92  Q93  Q94  Q95  Q96  Q97  Q98  Q99  \n",
       "0    3    4    3    2   51    1    2    4  \n",
       "1    4    5    1    1   47    1    2    4  \n",
       "2    4    4    2    2   60    2    2    5  \n",
       "3    5    4    1    1   22    1    1    1  \n",
       "4    4    4    1    3   19    1    1    3  \n",
       "\n",
       "[5 rows x 101 columns]"
      ]
     },
     "execution_count": 126,
     "metadata": {},
     "output_type": "execute_result"
    }
   ],
   "source": [
    "rename_map = dict()\n",
    "inverse_map = dict()\n",
    "def reduce_columns(row):\n",
    "    # Get all columns that start with 'v_'\n",
    "    v_columns = [col for col in row.index if col.startswith('v_')]\n",
    "\n",
    "    # Filter out columns that have negative values\n",
    "    valid_columns = ['priming', 'is_professional']  # Always include these columns\n",
    "    counter = 0\n",
    "    for col in v_columns:\n",
    "        try:\n",
    "            if int(row[col]) >= 0:\n",
    "                valid_columns.append(col)\n",
    "                counter += 1\n",
    "                if f\"Q{counter}\" not in rename_map:\n",
    "                    rename_map[f\"Q{counter}\"] = col\n",
    "                else:\n",
    "                    rename_map[f\"Q{counter}\"] += col\n",
    "                \n",
    "                if col not in inverse_map:\n",
    "                    inverse_map[col] = f\"Q{counter}\"\n",
    "                else:\n",
    "                    inverse_map[col] = f\"Q{counter}\"\n",
    "        except ValueError:\n",
    "            # If conversion to int fails, skip this column\n",
    "            continue\n",
    "    \n",
    "    # Create the result series with renamed columns\n",
    "    result = {}\n",
    "    for col in valid_columns:\n",
    "        if col in inverse_map:\n",
    "            # Use the Q-column name from inverse_map\n",
    "            result[inverse_map[col]] = row[col]\n",
    "        else:\n",
    "            # Keep original column name for non-v columns\n",
    "            result[col] = row[col]\n",
    "    \n",
    "    return pd.Series(result)\n",
    "    \n",
    "\n",
    "\n",
    "combined_df = df.apply(reduce_columns, axis=1)\n",
    "combined_df.head()"
   ]
  },
  {
   "cell_type": "code",
   "execution_count": 127,
   "id": "d8e90a52",
   "metadata": {},
   "outputs": [],
   "source": [
    "def get_original_columns(q_cols, rename_maps):\n",
    "    \"\"\"\n",
    "    Given a list of new column names (e.g., ['Q1', 'Q2']),\n",
    "    and the list of rename_maps used for each subset,\n",
    "    return a list of lists where each inner list contains\n",
    "    the corresponding original 'v_' column names.\n",
    "    \"\"\"\n",
    "    original_cols_list = []\n",
    "    for rename_map in rename_maps:\n",
    "        inv_map = {new: old for old, new in rename_map.items()}\n",
    "        originals = [inv_map.get(q, None) for q in q_cols]\n",
    "        original_cols_list.append(originals)\n",
    "    return original_cols_list\n"
   ]
  },
  {
   "cell_type": "code",
   "execution_count": 128,
   "id": "ecece250",
   "metadata": {},
   "outputs": [
    {
     "data": {
      "text/plain": [
       "[['v_11358', 'v_11359', 'v_11360'],\n",
       " ['v_11300', 'v_11301', 'v_11302'],\n",
       " ['v_11373', 'v_11374', 'v_11375']]"
      ]
     },
     "execution_count": 128,
     "metadata": {},
     "output_type": "execute_result"
    }
   ],
   "source": [
    "get_original_columns(['Q155', 'Q156', 'Q157'], rename_maps)"
   ]
  },
  {
   "cell_type": "code",
   "execution_count": 129,
   "id": "544b2c3e",
   "metadata": {},
   "outputs": [
    {
     "name": "stdout",
     "output_type": "stream",
     "text": [
      "{'Q42'}\n"
     ]
    }
   ],
   "source": [
    "def get_q_columns_from_v(v_cols, rename_maps):\n",
    "    \"\"\"\n",
    "    Given a list of original 'v_' column names and the list of rename_maps,\n",
    "    return a set of corresponding new 'Q' column names across all subsets.\n",
    "    \"\"\"\n",
    "    q_cols_set = set()\n",
    "    for rename_map in rename_maps:\n",
    "        for v in v_cols:\n",
    "            if v in rename_map:\n",
    "                q_cols_set.add(rename_map[v])\n",
    "    return q_cols_set\n",
    "\n",
    "# Example usage:\n",
    "q_set = get_q_columns_from_v(['v_10915'], rename_maps)\n",
    "print(q_set)"
   ]
  },
  {
   "cell_type": "code",
   "execution_count": 130,
   "id": "74827a18",
   "metadata": {},
   "outputs": [
    {
     "data": {
      "image/png": "[encoded data removed]",
      "text/plain": [
       "<Figure size 1000x600 with 1 Axes>"
      ]
     },
     "metadata": {},
     "output_type": "display_data"
    }
   ],
   "source": [
    "# Create a stacked bar chart showing distribution of responses\n",
    "response_counts = combined_df.groupby(['priming', 'Q24']).size().unstack(fill_value=0)\n",
    "ax = response_counts.plot(kind='bar', stacked=True, figsize=(10, 6), \n",
    "                         title='Distribution of Q24 Responses by Priming Condition')\n",
    "ax.legend(title='Likert Scale Response', bbox_to_anchor=(1.05, 1), loc='upper left')\n",
    "plt.suptitle('')  \n",
    "plt.xlabel('Priming Condition')\n",
    "plt.ylabel('Q20 Values')\n",
    "plt.show()"
   ]
  },
  {
   "cell_type": "code",
   "execution_count": 131,
   "id": "ccbe5e10",
   "metadata": {},
   "outputs": [
    {
     "name": "stderr",
     "output_type": "stream",
     "text": [
      "/var/folders/8p/nb94n7kd4ns03przjhvq8gy00000gn/T/ipykernel_50256/332450135.py:8: PerformanceWarning: DataFrame is highly fragmented.  This is usually the result of calling `frame.insert` many times, which has poor performance.  Consider joining all columns at once using pd.concat(axis=1) instead. To get a de-fragmented frame, use `newframe = frame.copy()`\n",
      "  combined_df['mean_columns'] = combined_df[columns_to_analyze].mean(axis=1)\n"
     ]
    },
    {
     "data": {
      "image/png": "[encoded data removed]",
      "text/plain": [
       "<Figure size 1000x600 with 1 Axes>"
      ]
     },
     "metadata": {},
     "output_type": "display_data"
    }
   ],
   "source": [
    "q_set = get_q_columns_from_v(['v_10903','v_10904','v_10905'], rename_maps)\n",
    "# q_set = ['Q1', 'Q2', 'Q3', 'Q4', 'Q5', 'Q6', 'Q7']  # Example Q columns to analyze\n",
    "\n",
    "columns_to_analyze = list(q_set)\n",
    "\n",
    "# Calculate mean of the columns for each row, then average by priming condition\n",
    "if columns_to_analyze:\n",
    "    combined_df['mean_columns'] = combined_df[columns_to_analyze].mean(axis=1)\n",
    "    mean_by_priming = combined_df.groupby(['priming'])['mean_columns'].mean()\n",
    "    \n",
    "    # Create bar chart using matplotlib\n",
    "    fig, ax = plt.subplots(figsize=(10, 6))\n",
    "    mean_by_priming.plot(kind='bar', ax=ax, title='Wertigkeit nach Priming-Bedingung', color='skyblue')\n",
    "    ax.set_xlabel('Priming Condition')\n",
    "    ax.set_ylabel('Average Sum')\n",
    "    ax.set_xticklabels(ax.get_xticklabels(), rotation=0)\n",
    "    ax.set_yticks(range(0, 6, 1))\n",
    "    \n",
    "    # Add value labels on top of bars\n",
    "    for i, v in enumerate(mean_by_priming.values):\n",
    "        ax.text(i, v + 0.1, f'{v:.2f}', ha='center', va='bottom')\n",
    "    \n",
    "    plt.tight_layout()\n",
    "    plt.show()\n",
    "else:\n",
    "    print(\"No columns available for analysis\")"
   ]
  },
  {
   "cell_type": "code",
   "execution_count": 132,
   "id": "e9deb67b",
   "metadata": {},
   "outputs": [
    {
     "data": {
      "text/plain": [
       "<Figure size 1000x600 with 0 Axes>"
      ]
     },
     "metadata": {},
     "output_type": "display_data"
    },
    {
     "data": {
      "image/png": "[encoded data removed]",
      "text/plain": [
       "<Figure size 1000x600 with 1 Axes>"
      ]
     },
     "metadata": {},
     "output_type": "display_data"
    }
   ],
   "source": [
    "# Boxplot of mean_columns distribution by priming condition\n",
    "plt.figure(figsize=(10, 6))\n",
    "# Use pandas boxplot grouped by c_0001, whiskers to min/max to include all points\n",
    "combined_df.boxplot(column='mean_columns', by='priming', grid=False, figsize=(10, 6), whis=[0,100])\n",
    "plt.title('Wertigkeit des Outfits nach Priming-Bedingung (Experten)')\n",
    "plt.xlabel('Priming Condition ')\n",
    "plt.ylabel('Mean Sum of Columns')\n",
    "plt.suptitle('')  # clear the automatic suptitle\n",
    "plt.show()"
   ]
  },
  {
   "cell_type": "markdown",
   "id": "1dbdf78b",
   "metadata": {},
   "source": [
    "### Hypothese 1"
   ]
  },
  {
   "cell_type": "code",
   "execution_count": 133,
   "id": "a83e4e6f",
   "metadata": {},
   "outputs": [],
   "source": [
    "liking_columns = ['v_10959','v_10960','v_10961', 'v_10906','v_10907','v_10908','v_10915','v_10916','v_10917', 'v_10924','v_10925','v_10926', 'v_10933','v_10934','v_10935', 'v_10942','v_10943','v_10944', 'v_10951','v_10952','v_10953']"
   ]
  },
  {
   "cell_type": "code",
   "execution_count": 134,
   "id": "f78dd46c",
   "metadata": {},
   "outputs": [
    {
     "name": "stdout",
     "output_type": "stream",
     "text": [
      "Shapiro prim=3, prof=True: W=0.920, p=0.1477\n",
      "Shapiro prim=3, prof=False: W=0.962, p=0.3084\n",
      "Shapiro prim=2, prof=True: W=0.912, p=0.1254\n",
      "Shapiro prim=2, prof=False: W=0.928, p=0.0298\n",
      "Shapiro prim=1, prof=True: W=0.942, p=0.4380\n",
      "Shapiro prim=1, prof=False: W=0.974, p=0.5185\n"
     ]
    },
    {
     "name": "stderr",
     "output_type": "stream",
     "text": [
      "/var/folders/8p/nb94n7kd4ns03przjhvq8gy00000gn/T/ipykernel_50256/462641510.py:3: PerformanceWarning: DataFrame is highly fragmented.  This is usually the result of calling `frame.insert` many times, which has poor performance.  Consider joining all columns at once using pd.concat(axis=1) instead. To get a de-fragmented frame, use `newframe = frame.copy()`\n",
      "  combined_df['mean_liking'] = combined_df[columns_to_analyze].mean(axis=1)\n"
     ]
    }
   ],
   "source": [
    "q_set = get_q_columns_from_v(liking_columns, rename_maps)\n",
    "columns_to_analyze = list(q_set)\n",
    "combined_df['mean_liking'] = combined_df[columns_to_analyze].mean(axis=1)\n",
    "\n",
    "for prim in combined_df['priming'].unique():\n",
    "    for prof in [True, False]:\n",
    "        grp = combined_df[(combined_df['priming']==prim) & (combined_df['is_professional']==prof)]['mean_liking']\n",
    "        if len(grp) >= 3:\n",
    "            W, p = shapiro(grp)\n",
    "            print(f\"Shapiro prim={prim}, prof={prof}: W={W:.3f}, p={p:.4f}\")"
   ]
  },
  {
   "cell_type": "code",
   "execution_count": 135,
   "id": "d289a28e",
   "metadata": {},
   "outputs": [
    {
     "name": "stdout",
     "output_type": "stream",
     "text": [
      "\n",
      "Levene-Test: W=0.885, p=0.4927\n"
     ]
    }
   ],
   "source": [
    "groups = [\n",
    "    combined_df[(combined_df['priming']==prim) & (combined_df['is_professional']==prof)]['mean_liking']\n",
    "    for prim in combined_df['priming'].unique() \n",
    "    for prof in [True, False]\n",
    "]\n",
    "W_le, p_le = levene(*groups)\n",
    "print(f\"\\nLevene-Test: W={W_le:.3f}, p={p_le:.4f}\")"
   ]
  },
  {
   "cell_type": "code",
   "execution_count": 136,
   "id": "a18eda38",
   "metadata": {},
   "outputs": [
    {
     "name": "stdout",
     "output_type": "stream",
     "text": [
      "\n",
      "ANOVA-Tabelle (Typ II):\n",
      "                                  sum_sq     df         F    PR(>F)\n",
      "C(priming)                      1.112365    2.0  1.006551  0.368034\n",
      "C(is_professional)              4.018654    1.0  7.272758  0.007836\n",
      "C(priming):C(is_professional)   0.180883    2.0  0.163677  0.849174\n",
      "Residual                       79.569023  144.0       NaN       NaN\n"
     ]
    }
   ],
   "source": [
    "model = ols('mean_liking ~ C(priming) * C(is_professional)', data=combined_df).fit()\n",
    "anova_table = sm.stats.anova_lm(model, typ=2)\n",
    "\n",
    "print(\"\\nANOVA-Tabelle (Typ II):\")\n",
    "print(anova_table)"
   ]
  },
  {
   "cell_type": "code",
   "execution_count": 137,
   "id": "191ecda4",
   "metadata": {},
   "outputs": [],
   "source": [
    "def summarize_anova(anova_df, alpha=0.05):\n",
    "    \"\"\"\n",
    "    Druckt eine übersichtliche Zusammenfassung der ANOVA-Ergebnisse inklusive\n",
    "    Effektstärken (η²) und kurzer Interpretation.\n",
    "    \n",
    "    Parameter:\n",
    "    - anova_df: pandas DataFrame mit Spalten ['sum_sq', 'df', 'F', 'PR(>F)']\n",
    "                und Index = Effektnamen (z.B. 'Priming', 'Professionalität', 'Residual').\n",
    "    - alpha:    Signifikanzniveau (Standard: 0.05).\n",
    "    \"\"\"\n",
    "    # Effektstärke η² berechnen\n",
    "    anova_df = anova_df.copy()\n",
    "    anova_df['eta_sq'] = anova_df['sum_sq'] / anova_df['sum_sq'].sum()\n",
    "    \n",
    "    # Schwellwerte nach Cohen (Faustwerte)\n",
    "    def effect_size_label(eta):\n",
    "        if eta < 0.01:\n",
    "            return \"vernachlässigbar\"\n",
    "        elif eta < 0.06:\n",
    "            return \"klein\"\n",
    "        elif eta < 0.14:\n",
    "            return \"mittel\"\n",
    "        else:\n",
    "            return \"groß\"\n",
    "    \n",
    "    # Ausgabe\n",
    "    for name, row in anova_df.iterrows():\n",
    "        if name.lower() == 'residual':\n",
    "            continue  # Residual nicht interpretieren\n",
    "        F = row['F']\n",
    "        p = row['PR(>F)']\n",
    "        eta = row['eta_sq']\n",
    "        signif = \"signifikant\" if p < alpha else \"nicht signifikant\"\n",
    "        size_label = effect_size_label(eta)\n",
    "        \n",
    "        print(f\"Effekt '{name}': F({int(row['df'])}) = {F:.2f}, p = {p:.3f}, η² = {eta:.3f} ({size_label}), {signif}.\")\n",
    "    print(f\"(α = {alpha})\")"
   ]
  },
  {
   "cell_type": "code",
   "execution_count": 138,
   "id": "8de1d595",
   "metadata": {},
   "outputs": [
    {
     "name": "stdout",
     "output_type": "stream",
     "text": [
      "Effekt 'C(priming)': F(2) = 1.01, p = 0.368, η² = 0.013 (klein), nicht signifikant.\n",
      "Effekt 'C(is_professional)': F(1) = 7.27, p = 0.008, η² = 0.047 (klein), signifikant.\n",
      "Effekt 'C(priming):C(is_professional)': F(2) = 0.16, p = 0.849, η² = 0.002 (vernachlässigbar), nicht signifikant.\n",
      "(α = 0.05)\n"
     ]
    }
   ],
   "source": [
    "summarize_anova(anova_table)"
   ]
  },
  {
   "cell_type": "code",
   "execution_count": 139,
   "id": "ddcc8d99",
   "metadata": {},
   "outputs": [
    {
     "name": "stderr",
     "output_type": "stream",
     "text": [
      "/var/folders/8p/nb94n7kd4ns03przjhvq8gy00000gn/T/ipykernel_50256/3652379565.py:2: FutureWarning: \n",
      "\n",
      "The `errwidth` parameter is deprecated. And will be removed in v0.15.0. Pass `err_kws={'linewidth': 1}` instead.\n",
      "\n",
      "  sns.pointplot(\n"
     ]
    },
    {
     "data": {
      "image/png": "[encoded data removed]",
      "text/plain": [
       "<Figure size 800x600 with 1 Axes>"
      ]
     },
     "metadata": {},
     "output_type": "display_data"
    }
   ],
   "source": [
    "plt.figure(figsize=(8,6))\n",
    "sns.pointplot(\n",
    "    data=combined_df, x='priming', y='mean_liking', hue='is_professional',\n",
    "    dodge=True, markers=['o','s'], capsize=.1, errwidth=1\n",
    ")\n",
    "plt.title('Interaktion: Priming × Professionalität auf ΔLiking')\n",
    "plt.xlabel('Priming-Bedingung')\n",
    "# plt.yticks(range(0, 6, 1))\n",
    "plt.ylabel('Liking (Mittelwert)')\n",
    "plt.legend(title='Expertise')\n",
    "plt.show()"
   ]
  },
  {
   "cell_type": "markdown",
   "id": "d78ef794",
   "metadata": {},
   "source": [
    "### Hypothese 2"
   ]
  },
  {
   "cell_type": "code",
   "execution_count": 141,
   "id": "e3640fea",
   "metadata": {},
   "outputs": [
    {
     "data": {
      "text/html": [
       "<div>\n",
       "<style scoped>\n",
       "    .dataframe tbody tr th:only-of-type {\n",
       "        vertical-align: middle;\n",
       "    }\n",
       "\n",
       "    .dataframe tbody tr th {\n",
       "        vertical-align: top;\n",
       "    }\n",
       "\n",
       "    .dataframe thead th {\n",
       "        text-align: right;\n",
       "    }\n",
       "</style>\n",
       "<table border=\"1\" class=\"dataframe\">\n",
       "  <thead>\n",
       "    <tr style=\"text-align: right;\">\n",
       "      <th></th>\n",
       "      <th>Q73</th>\n",
       "    </tr>\n",
       "  </thead>\n",
       "  <tbody>\n",
       "    <tr>\n",
       "      <th>count</th>\n",
       "      <td>150.000000</td>\n",
       "    </tr>\n",
       "    <tr>\n",
       "      <th>mean</th>\n",
       "      <td>1101.800000</td>\n",
       "    </tr>\n",
       "    <tr>\n",
       "      <th>std</th>\n",
       "      <td>929.756806</td>\n",
       "    </tr>\n",
       "    <tr>\n",
       "      <th>min</th>\n",
       "      <td>190.000000</td>\n",
       "    </tr>\n",
       "    <tr>\n",
       "      <th>25%</th>\n",
       "      <td>522.750000</td>\n",
       "    </tr>\n",
       "    <tr>\n",
       "      <th>50%</th>\n",
       "      <td>802.500000</td>\n",
       "    </tr>\n",
       "    <tr>\n",
       "      <th>75%</th>\n",
       "      <td>1251.250000</td>\n",
       "    </tr>\n",
       "    <tr>\n",
       "      <th>max</th>\n",
       "      <td>6000.000000</td>\n",
       "    </tr>\n",
       "  </tbody>\n",
       "</table>\n",
       "</div>"
      ],
      "text/plain": [
       "               Q73\n",
       "count   150.000000\n",
       "mean   1101.800000\n",
       "std     929.756806\n",
       "min     190.000000\n",
       "25%     522.750000\n",
       "50%     802.500000\n",
       "75%    1251.250000\n",
       "max    6000.000000"
      ]
     },
     "execution_count": 141,
     "metadata": {},
     "output_type": "execute_result"
    }
   ],
   "source": [
    "price_columns = ['v_11376']\n",
    "q_set = get_q_columns_from_v(price_columns, rename_maps)\n",
    "columns_to_analyze = list(q_set)\n",
    "combined_df[columns_to_analyze].describe()\n"
   ]
  },
  {
   "cell_type": "code",
   "execution_count": 144,
   "id": "f92c27ac",
   "metadata": {},
   "outputs": [
    {
     "name": "stdout",
     "output_type": "stream",
     "text": [
      "Shapiro prim=3, prof=True: W=0.892, p=0.0502\n",
      "Shapiro prim=3, prof=False: W=0.609, p=0.0000\n",
      "Shapiro prim=2, prof=True: W=0.877, p=0.0350\n",
      "Shapiro prim=2, prof=False: W=0.830, p=0.0001\n",
      "Shapiro prim=1, prof=True: W=0.729, p=0.0008\n",
      "Shapiro prim=1, prof=False: W=0.781, p=0.0000\n"
     ]
    }
   ],
   "source": [
    "for prim in combined_df['priming'].unique():\n",
    "    for prof in [True, False]:\n",
    "        grp = combined_df[(combined_df['priming']==prim) & (combined_df['is_professional']==prof)][columns_to_analyze]\n",
    "        if len(grp) >= 3:\n",
    "            W, p = shapiro(grp)\n",
    "            print(f\"Shapiro prim={prim}, prof={prof}: W={W:.3f}, p={p:.4f}\")"
   ]
  },
  {
   "cell_type": "code",
   "execution_count": 149,
   "id": "ef75d18a",
   "metadata": {},
   "outputs": [
    {
     "name": "stdout",
     "output_type": "stream",
     "text": [
      "\n",
      "Levene-Test: W=2.085, p=0.0706\n"
     ]
    }
   ],
   "source": [
    "groups = [\n",
    "    combined_df[(combined_df['priming']==prim) & (combined_df['is_professional']==prof)]['Q73']\n",
    "    for prim in combined_df['priming'].unique() \n",
    "    for prof in [True, False]\n",
    "]\n",
    "W_le, p_le = levene(*groups)\n",
    "print(f\"\\nLevene-Test: W={W_le:.3f}, p={p_le:.4f}\")"
   ]
  },
  {
   "cell_type": "code",
   "execution_count": 142,
   "id": "6924b807",
   "metadata": {},
   "outputs": [
    {
     "name": "stdout",
     "output_type": "stream",
     "text": [
      "\n",
      "ANOVA-Tabelle (Typ II):\n",
      "                                     sum_sq     df          F    PR(>F)\n",
      "C(priming)                     1.198595e+05    2.0   0.073802  0.928891\n",
      "C(is_professional)             1.044951e+07    1.0  12.868293  0.000457\n",
      "C(priming):C(is_professional)  1.245154e+06    2.0   0.766687  0.466436\n",
      "Residual                       1.169332e+08  144.0        NaN       NaN\n"
     ]
    }
   ],
   "source": [
    "model = ols('Q73 ~ C(priming) * C(is_professional)', data=combined_df).fit()\n",
    "anova_table = sm.stats.anova_lm(model, typ=2)\n",
    "\n",
    "print(\"\\nANOVA-Tabelle (Typ II):\")\n",
    "print(anova_table)"
   ]
  },
  {
   "cell_type": "code",
   "execution_count": 143,
   "id": "4bef0457",
   "metadata": {},
   "outputs": [
    {
     "name": "stdout",
     "output_type": "stream",
     "text": [
      "Effekt 'C(priming)': F(2) = 0.07, p = 0.929, η² = 0.001 (vernachlässigbar), nicht signifikant.\n",
      "Effekt 'C(is_professional)': F(1) = 12.87, p = 0.000, η² = 0.081 (mittel), signifikant.\n",
      "Effekt 'C(priming):C(is_professional)': F(2) = 0.77, p = 0.466, η² = 0.010 (vernachlässigbar), nicht signifikant.\n",
      "(α = 0.05)\n"
     ]
    }
   ],
   "source": [
    "summarize_anova(anova_table)"
   ]
  }
 ],
 "metadata": {
  "kernelspec": {
   "display_name": "venv",
   "language": "python",
   "name": "python3"
  },
  "language_info": {
   "codemirror_mode": {
    "name": "ipython",
    "version": 3
   },
   "file_extension": ".py",
   "mimetype": "text/x-python",
   "name": "python",
   "nbconvert_exporter": "python",
   "pygments_lexer": "ipython3",
   "version": "3.10.2"
  }
 },
 "nbformat": 4,
 "nbformat_minor": 5
}
